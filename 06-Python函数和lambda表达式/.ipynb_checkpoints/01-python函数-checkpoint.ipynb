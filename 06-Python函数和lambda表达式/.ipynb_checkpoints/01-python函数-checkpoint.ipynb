{
 "cells": [
  {
   "cell_type": "markdown",
   "metadata": {
    "toc": true
   },
   "source": [
    "<h1>01-python函数<span class=\"tocSkip\"></span></h1>\n",
    "<div class=\"toc\"><ul class=\"toc-item\"><li><span><a href=\"#概念\" data-toc-modified-id=\"概念-1\"><span class=\"toc-item-num\">1&nbsp;&nbsp;</span>概念</a></span></li><li><span><a href=\"#自定义函数规则\" data-toc-modified-id=\"自定义函数规则-2\"><span class=\"toc-item-num\">2&nbsp;&nbsp;</span>自定义函数规则</a></span></li><li><span><a href=\"#函数调用\" data-toc-modified-id=\"函数调用-3\"><span class=\"toc-item-num\">3&nbsp;&nbsp;</span>函数调用</a></span></li><li><span><a href=\"#参数传递\" data-toc-modified-id=\"参数传递-4\"><span class=\"toc-item-num\">4&nbsp;&nbsp;</span>参数传递</a></span><ul class=\"toc-item\"><li><span><a href=\"#实参与形参\" data-toc-modified-id=\"实参与形参-4.1\"><span class=\"toc-item-num\">4.1&nbsp;&nbsp;</span>实参与形参</a></span></li><li><span><a href=\"#函数传递参数的类型及方式\" data-toc-modified-id=\"函数传递参数的类型及方式-4.2\"><span class=\"toc-item-num\">4.2&nbsp;&nbsp;</span>函数传递参数的类型及方式</a></span></li></ul></li><li><span><a href=\"#None(空值)和return语句\" data-toc-modified-id=\"None(空值)和return语句-5\"><span class=\"toc-item-num\">5&nbsp;&nbsp;</span>None(空值)和return语句</a></span></li><li><span><a href=\"#lambda表达式（匿名函数）及用法\" data-toc-modified-id=\"lambda表达式（匿名函数）及用法-6\"><span class=\"toc-item-num\">6&nbsp;&nbsp;</span>lambda表达式（匿名函数）及用法</a></span></li><li><span><a href=\"#eval()和exec()函数\" data-toc-modified-id=\"eval()和exec()函数-7\"><span class=\"toc-item-num\">7&nbsp;&nbsp;</span>eval()和exec()函数</a></span></li><li><span><a href=\"#eval()-和-exec()-函数的应用场景\" data-toc-modified-id=\"eval()-和-exec()-函数的应用场景-8\"><span class=\"toc-item-num\">8&nbsp;&nbsp;</span>eval() 和 exec() 函数的应用场景</a></span></li></ul></div>"
   ]
  },
  {
   "cell_type": "markdown",
   "metadata": {},
   "source": [
    "## 概念"
   ]
  },
  {
   "cell_type": "markdown",
   "metadata": {},
   "source": [
    "函数是组织好的，可重复使用的，用来实现单一，或相关联功能的代码段。\n",
    "\n",
    "函数能提高应用的模块性，和代码的重复利用率。"
   ]
  },
  {
   "cell_type": "markdown",
   "metadata": {},
   "source": [
    "## 自定义函数规则"
   ]
  },
  {
   "cell_type": "markdown",
   "metadata": {},
   "source": [
    "- 函数代码块以 def 关键词开头，后接函数标识符名称和圆括号 ()。\n",
    "- 任何传入参数和自变量必须放在圆括号中间，圆括号之间可以用于定义参数。形参列表：设置该函数可以接收多少个参数，多个参数之间用逗号（ , ）分隔。\n",
    "- 函数的第一行语句可以选择性地使用文档字符串—用于存放函数说明。\n",
    "- 函数内容以冒号起始，并且缩进。\n",
    "- return [表达式] 结束函数，选择性地返回一个值给调用方。不带表达式的return相当于返回 None。"
   ]
  },
  {
   "cell_type": "code",
   "execution_count": 7,
   "metadata": {},
   "outputs": [
    {
     "name": "stdout",
     "output_type": "stream",
     "text": [
      "wide = 5 height = 4 area = 20\n"
     ]
    }
   ],
   "source": [
    "def area(wide,height):\n",
    "    return wide * height\n",
    "\n",
    "w = 5\n",
    "h = 4\n",
    "print(\"wide =\",w,\"height =\",h,\"area =\",area(w,h))\n",
    "    "
   ]
  },
  {
   "cell_type": "markdown",
   "metadata": {},
   "source": [
    "## 函数调用"
   ]
  },
  {
   "cell_type": "markdown",
   "metadata": {},
   "source": [
    "定义一个函数：给了函数一个名称，指定了函数里包含的参数，和代码块结构。\n",
    "\n",
    "这个函数的基本结构完成以后，你可以通过另一个函数调用执行，也可以直接从 Python 命令提示符执行。"
   ]
  },
  {
   "cell_type": "code",
   "execution_count": 9,
   "metadata": {},
   "outputs": [
    {
     "name": "stdout",
     "output_type": "stream",
     "text": [
      "第一次调用\n",
      "第二次调用\n"
     ]
    }
   ],
   "source": [
    "def printme(str):\n",
    "    print(str)\n",
    "    return\n",
    "\n",
    "printme(\"第一次调用\")\n",
    "printme(\"第二次调用\")"
   ]
  },
  {
   "cell_type": "markdown",
   "metadata": {},
   "source": [
    "## 参数传递"
   ]
  },
  {
   "cell_type": "markdown",
   "metadata": {},
   "source": [
    "### 实参与形参"
   ]
  },
  {
   "cell_type": "markdown",
   "metadata": {},
   "source": [
    "定义函数时都会选择有参数的函数形式，函数参数的作用是传递数据给函数，令其对接收的数据做具体的操作处理。"
   ]
  },
  {
   "cell_type": "markdown",
   "metadata": {},
   "source": [
    "在使用函数时，经常会用到形式参数（简称“形参”）和实际参数（简称“实参”），二者都叫参数，之间的区别是：\n",
    "- 形式参数：在定义函数时，函数名后面括号中的参数就是形式参数，例如:"
   ]
  },
  {
   "cell_type": "markdown",
   "metadata": {},
   "source": [
    "`#定义函数时，这里的函数参数 obj 就是形式参数\n",
    "def demo(obj)\n",
    "    print(obj)`"
   ]
  },
  {
   "cell_type": "markdown",
   "metadata": {},
   "source": [
    "- 实际参数：在调用函数时，函数名后面括号中的参数称为实际参数，也就是函数的调用者给函数的参数。例如:"
   ]
  },
  {
   "cell_type": "markdown",
   "metadata": {},
   "source": [
    "`a='www.baidu.com'\n",
    "demo(a)`"
   ]
  },
  {
   "cell_type": "markdown",
   "metadata": {},
   "source": [
    "### 函数传递参数的类型及方式"
   ]
  },
  {
   "cell_type": "markdown",
   "metadata": {},
   "source": [
    "Python 中，根据实际参数的类型不同，函数参数的传递方式可分为 2 种，分别为值传递和引用（地址）传递：\n",
    "- 值传递：适用于实参类型为不可变类型（字符串、数字、元组）；\n",
    "- 引用（地址）传递：适用于实参类型为可变类型（列表，字典）；"
   ]
  },
  {
   "cell_type": "markdown",
   "metadata": {},
   "source": [
    "值传递和引用传递的区别是，函数参数进行值传递后，若形参的值发生改变，不会影响实参的值；而函数参数继续引用传递后，改变形参的值，实参的值也会一同改变。"
   ]
  },
  {
   "cell_type": "markdown",
   "metadata": {},
   "source": [
    "**1、位置传参**"
   ]
  },
  {
   "cell_type": "markdown",
   "metadata": {},
   "source": [
    "位置参数:传递是最为简单的传递方式，按照函数参数的位置顺序逐个匹配传入，传入参数的个数必须与函数参数个数一致。实际调用参数(实参) 的对应关系与形式参数(形参)的对应关系是按位置来依次对应的。\n",
    "见示例，根据位置顺序进行匹配，a，b，c分别赋值为1,2,3"
   ]
  },
  {
   "cell_type": "code",
   "execution_count": 3,
   "metadata": {},
   "outputs": [
    {
     "name": "stdout",
     "output_type": "stream",
     "text": [
      "args: 1 2 3\n"
     ]
    }
   ],
   "source": [
    "def num(a,b,c):\n",
    "    print(\"args:\",a,b,c)\n",
    "if __name__ == \"__main__\":\n",
    "    num(1,2,3)"
   ]
  },
  {
   "cell_type": "markdown",
   "metadata": {},
   "source": [
    "**2、关键字参数**"
   ]
  },
  {
   "cell_type": "markdown",
   "metadata": {},
   "source": [
    "通过关键字对变量进行赋值，可以对全部关键字进行赋值，这时候位置可以随意改变。"
   ]
  },
  {
   "cell_type": "code",
   "execution_count": 4,
   "metadata": {},
   "outputs": [
    {
     "name": "stdout",
     "output_type": "stream",
     "text": [
      "args: 2 3 4\n"
     ]
    }
   ],
   "source": [
    "def num(a,b,c):\n",
    "    print(\"args:\",a,b,c)\n",
    "    \n",
    "if __name__ == \"__main__\":\n",
    "    num(c=4,a=2,b=3) "
   ]
  },
  {
   "cell_type": "markdown",
   "metadata": {},
   "source": [
    "也可以对部分关键字进行赋值，这属于位置参数和关键字参数的混用，有关键字的部分必须放在后面。"
   ]
  },
  {
   "cell_type": "code",
   "execution_count": 6,
   "metadata": {},
   "outputs": [
    {
     "name": "stdout",
     "output_type": "stream",
     "text": [
      "args: 2 3 4\n"
     ]
    }
   ],
   "source": [
    "def num(a,b,c):\n",
    "    print(\"args:\",a,b,c)\n",
    "    \n",
    "if __name__ == \"__main__\":\n",
    "    num(2,c=4,b=3)"
   ]
  },
  {
   "cell_type": "markdown",
   "metadata": {},
   "source": [
    "**3、默认参数**"
   ]
  },
  {
   "cell_type": "markdown",
   "metadata": {},
   "source": [
    "有些函数参数提供了默认值，如果要使用，可不传入。"
   ]
  },
  {
   "cell_type": "code",
   "execution_count": 7,
   "metadata": {},
   "outputs": [
    {
     "name": "stdout",
     "output_type": "stream",
     "text": [
      "args: 2 3 4\n"
     ]
    }
   ],
   "source": [
    "def func(a,b,c=4):\n",
    "    print(\"args:\",a,b,c)\n",
    "    \n",
    "if __name__ == \"__main__\":\n",
    "    func(2,3)"
   ]
  },
  {
   "cell_type": "markdown",
   "metadata": {},
   "source": [
    "如果不使用其定义的默认值，可自行传入，对其修改；"
   ]
  },
  {
   "cell_type": "code",
   "execution_count": 8,
   "metadata": {},
   "outputs": [
    {
     "name": "stdout",
     "output_type": "stream",
     "text": [
      "args: 2 3 5\n"
     ]
    }
   ],
   "source": [
    "def func(a,b,c=4):\n",
    "    print(\"args:\",a,b,c)\n",
    "    \n",
    "if __name__ == \"__main__\":\n",
    "    func(2,3,5)"
   ]
  },
  {
   "cell_type": "markdown",
   "metadata": {},
   "source": [
    "**4、命名关键字参数**"
   ]
  },
  {
   "cell_type": "markdown",
   "metadata": {},
   "source": [
    "与普通关键字参数不同，命名关键字参数必须用进行区分，后面的参数必须通过关键字传入；如果不按照关键字传入，则报TypeError的错误。"
   ]
  },
  {
   "cell_type": "code",
   "execution_count": 9,
   "metadata": {},
   "outputs": [
    {
     "name": "stdout",
     "output_type": "stream",
     "text": [
      "args: 2 3 4\n"
     ]
    }
   ],
   "source": [
    "def func(a,b,*,c):\n",
    "    print(\"args:\",a,b,c)\n",
    "    \n",
    "if __name__ == \"__main__\":\n",
    "    func(2,3,c=4) "
   ]
  },
  {
   "cell_type": "markdown",
   "metadata": {},
   "source": [
    "**5、可变参数**"
   ]
  },
  {
   "cell_type": "markdown",
   "metadata": {},
   "source": [
    "如果定义的函数中带有`*args`或者`**args`都是属于可变参数方式进行参数传入。"
   ]
  },
  {
   "cell_type": "markdown",
   "metadata": {},
   "source": [
    "`*args`是以元组的方式收集不匹配的的位置参数;定义函数时候，`*args`必须放在位置参数后面，否则报TypeError的错误。"
   ]
  },
  {
   "cell_type": "code",
   "execution_count": 14,
   "metadata": {},
   "outputs": [
    {
     "name": "stdout",
     "output_type": "stream",
     "text": [
      "args: 2 3 (4, 5, 6)\n"
     ]
    }
   ],
   "source": [
    "def func(a,b,*c):\n",
    "    print(\"args:\",a,b,c)\n",
    "if __name__ == \"__main__\":\n",
    "    func(2,3,4,5,6)"
   ]
  },
  {
   "cell_type": "markdown",
   "metadata": {},
   "source": [
    "`**args`是以字典的形式收集不匹配的位置参数，仅对关键字参数传入有效。"
   ]
  },
  {
   "cell_type": "code",
   "execution_count": 16,
   "metadata": {},
   "outputs": [
    {
     "name": "stdout",
     "output_type": "stream",
     "text": [
      "args: 2 3 {'c': 4, 'd': 5, 'e': 6}\n"
     ]
    }
   ],
   "source": [
    "def func(a,b,**c):\n",
    "    print(\"args:\",a,b,c)\n",
    "\n",
    "if __name__ == \"__main__\":\n",
    "    func(2,3,c=4,d=5,e=6)"
   ]
  },
  {
   "cell_type": "markdown",
   "metadata": {},
   "source": [
    "参数c收集了以字典的形式收集了后面的3个参数。跟`*args`一样，函数中的`**args`必须放在位置参数后面。"
   ]
  },
  {
   "cell_type": "markdown",
   "metadata": {},
   "source": [
    "## None(空值)和return语句"
   ]
  },
  {
   "cell_type": "markdown",
   "metadata": {},
   "source": [
    "在 Python 中，有一个特殊的常量 None（N 必须大写）。和 False 不同，它不表示 0，也不表示空字符串，而表示没有值，也就是空值。"
   ]
  },
  {
   "cell_type": "markdown",
   "metadata": {},
   "source": [
    "这里的空值并不代表空对象，即 None 和 []、“” 不同："
   ]
  },
  {
   "cell_type": "code",
   "execution_count": 2,
   "metadata": {},
   "outputs": [
    {
     "data": {
      "text/plain": [
       "False"
      ]
     },
     "execution_count": 2,
     "metadata": {},
     "output_type": "execute_result"
    }
   ],
   "source": [
    "None is []"
   ]
  },
  {
   "cell_type": "code",
   "execution_count": 3,
   "metadata": {},
   "outputs": [
    {
     "name": "stderr",
     "output_type": "stream",
     "text": [
      "<>:1: SyntaxWarning: \"is\" with a literal. Did you mean \"==\"?\n",
      "<>:1: SyntaxWarning: \"is\" with a literal. Did you mean \"==\"?\n",
      "<ipython-input-3-7381a38810b4>:1: SyntaxWarning: \"is\" with a literal. Did you mean \"==\"?\n",
      "  None is \"\"\n"
     ]
    },
    {
     "data": {
      "text/plain": [
       "False"
      ]
     },
     "execution_count": 3,
     "metadata": {},
     "output_type": "execute_result"
    }
   ],
   "source": [
    "None is \"\""
   ]
  },
  {
   "cell_type": "markdown",
   "metadata": {},
   "source": [
    "None 有自己的数据类型，可以使用 type() 函数查看:"
   ]
  },
  {
   "cell_type": "code",
   "execution_count": 4,
   "metadata": {},
   "outputs": [
    {
     "data": {
      "text/plain": [
       "NoneType"
      ]
     },
     "execution_count": 4,
     "metadata": {},
     "output_type": "execute_result"
    }
   ],
   "source": [
    "type(None)"
   ]
  },
  {
   "cell_type": "markdown",
   "metadata": {},
   "source": [
    "可以看到，它属于 NoneType 类型。\n",
    "\n",
    "需要注意的是，None 是 NoneType 数据类型的唯一值（其他编程语言可能称这个值为 null、nil 或 undefined），也就是说，我们不能再创建其它 NoneType 类型的变量，但是可以将 None 赋值给任何变量。如果希望变量中存储的东西不与任何其它值混淆，就可以使用 None。"
   ]
  },
  {
   "cell_type": "markdown",
   "metadata": {},
   "source": [
    "## lambda表达式（匿名函数）及用法"
   ]
  },
  {
   "cell_type": "markdown",
   "metadata": {},
   "source": [
    "python 使用 lambda 来创建匿名函数。\n",
    "\n",
    "所谓匿名，意即不再使用 def 语句这样标准的形式定义一个函数。\n",
    "\n",
    "- lambda 只是一个表达式，函数体比 def 简单很多。\n",
    "- lambda的主体是一个表达式，而不是一个代码块。仅仅能在lambda表达式中封装有限的逻辑进去。\n",
    "- lambda 函数拥有自己的命名空间，且不能访问自己参数列表之外或全局命名空间里的参数。\n",
    "- 虽然lambda函数看起来只能写一行，却不等同于C或C++的内联函数，后者的目的是调用小函数时不占用栈内存从而增加运行效率。"
   ]
  },
  {
   "cell_type": "markdown",
   "metadata": {},
   "source": [
    "lambda 表达式的语法格式如下："
   ]
  },
  {
   "cell_type": "markdown",
   "metadata": {},
   "source": [
    "`name = lambda [list] : 表达式`"
   ]
  },
  {
   "cell_type": "markdown",
   "metadata": {},
   "source": [
    "其中，定义 lambda 表达式，必须使用 lambda 关键字；[list] 作为可选参数，等同于定义函数是指定的参数列表；value 为该表达式的名称。"
   ]
  },
  {
   "cell_type": "markdown",
   "metadata": {},
   "source": [
    "该语法格式转换成普通函数的形式，如下所示："
   ]
  },
  {
   "cell_type": "markdown",
   "metadata": {},
   "source": [
    "`def name(list):\n",
    "    return 表达式\n",
    "name(list)`"
   ]
  },
  {
   "cell_type": "markdown",
   "metadata": {},
   "source": [
    "显然，使用普通方法定义此函数，需要 3 行代码，而使用 lambda 表达式仅需 1 行。"
   ]
  },
  {
   "cell_type": "markdown",
   "metadata": {},
   "source": [
    "举例：设计一个求 2 个数之和的函数，使用普通函数的方式，定义如下"
   ]
  },
  {
   "cell_type": "markdown",
   "metadata": {},
   "source": [
    "`def add(x, y):\n",
    "    return x+ y\n",
    "print(add(3,4))`"
   ]
  },
  {
   "cell_type": "markdown",
   "metadata": {},
   "source": [
    "由于上面程序中，add() 函数内部仅有 1 行表达式，因此该函数可以直接用 lambda 表达式表示："
   ]
  },
  {
   "cell_type": "markdown",
   "metadata": {},
   "source": [
    "`add = lambda x,y:x+y\n",
    "print(add(3,4))`"
   ]
  },
  {
   "cell_type": "markdown",
   "metadata": {},
   "source": [
    "可以这样理解 lambda 表达式，其就是简单函数（函数体仅是单行的表达式）的简写版本。相比函数，lamba 表达式具有以下  2 个优势：\n",
    "- 对于单行函数，使用 lambda 表达式可以省去定义函数的过程，让代码更加简洁；\n",
    "- 对于不需要多次复用的函数，使用 lambda 表达式可以在用完之后立即释放，提高程序执行的性能。"
   ]
  },
  {
   "cell_type": "markdown",
   "metadata": {},
   "source": [
    "## eval()和exec()函数"
   ]
  },
  {
   "cell_type": "markdown",
   "metadata": {},
   "source": [
    "eval() 和 exec() 函数的功能是相似的，都可以执行一个字符串形式的 Python 代码（代码以字符串的形式提供），相当于一个 Python 的解释器。二者不同之处在于，eval() 执行完要返回结果，而 exec() 执行完不返回结果。"
   ]
  },
  {
   "cell_type": "markdown",
   "metadata": {},
   "source": [
    "**eval()和exec()的用法**"
   ]
  },
  {
   "cell_type": "markdown",
   "metadata": {},
   "source": [
    "eval() 函数的语法格式为："
   ]
  },
  {
   "cell_type": "markdown",
   "metadata": {},
   "source": [
    "`eval(source, globals=None, locals=None, /)`"
   ]
  },
  {
   "cell_type": "markdown",
   "metadata": {},
   "source": [
    "而 exec() 函数的语法格式如下："
   ]
  },
  {
   "cell_type": "markdown",
   "metadata": {},
   "source": [
    "`exec(source, globals=None, locals=None, /)`"
   ]
  },
  {
   "cell_type": "markdown",
   "metadata": {},
   "source": [
    "- expression：这个参数是一个字符串，代表要执行的语句 。该语句受后面两个字典类型参数 globals 和 locals 的限制，只有在 globals 字典和 locals 字典作用域内的函数和变量才能被执行。\n",
    "- globals：这个参数管控的是一个全局的命名空间，即 expression 可以使用全局命名空间中的函数。如果只是提供了 globals 参数，而没有提供自定义的 __builtins__，则系统会将当前环境中的 __builtins__ 复制到自己提供的 globals 中，然后才会进行计算；如果连 globals 这个参数都没有被提供，则使用 Python 的全局命名空间。\n",
    "- locals：这个参数管控的是一个局部的命名空间，和 globals 类似，当它和 globals 中有重复或冲突时，以 locals 的为准。如果 locals 没有被提供，则默认为 globals。"
   ]
  },
  {
   "cell_type": "markdown",
   "metadata": {},
   "source": [
    "> 注意: __builtins__ 是 Python 的内建模块，平时使用的 int、str、abs 都在这个模块中。通过 print(dic[\"__builtins__\"]) 语句可以查看 __builtins__ 所对应的 value。"
   ]
  },
  {
   "cell_type": "markdown",
   "metadata": {},
   "source": [
    "1、演示参数 globals 作用域的作用，注意观察它是何时将 __builtins__ 复制 globals 字典中去的："
   ]
  },
  {
   "cell_type": "code",
   "execution_count": 4,
   "metadata": {},
   "outputs": [
    {
     "name": "stdout",
     "output_type": "stream",
     "text": [
      "dict_keys(['b'])\n",
      "dict_keys(['b', '__builtins__', 'a'])\n"
     ]
    }
   ],
   "source": [
    "dic={} #定义一个字\n",
    "dic['b'] = 3 #在 dic 中加一条元素，key 为 b\n",
    "print (dic.keys()) #先将 dic 的 key 打印出来，有一个元素 b\n",
    "exec(\"a = 4\", dic) #在 exec 执行的语句后面跟一个作用域 dic\n",
    "print(dic.keys()) #exec 后，dic 的 key 多了一个"
   ]
  },
  {
   "cell_type": "markdown",
   "metadata": {},
   "source": [
    "上面的代码是在作用域 dic 下执行了一句 a = 4 的代码。可以看出，exec() 之前 dic 中的 key 只有一个 b。执行完 exec() 之后，系统在 dic 中生成了两个新的 key，分别是 a 和 __builtins__。其中，a 为执行语句生成的变量，系统将其放到指定的作用域字典里；__builtins__ 是系统加入的内置 key。"
   ]
  },
  {
   "cell_type": "markdown",
   "metadata": {},
   "source": [
    "locals参数的用法就很简单了，举个例子："
   ]
  },
  {
   "cell_type": "code",
   "execution_count": 5,
   "metadata": {},
   "outputs": [
    {
     "name": "stdout",
     "output_type": "stream",
     "text": [
      "116\n"
     ]
    }
   ],
   "source": [
    "a=10\n",
    "b=20\n",
    "c=30\n",
    "g={'a':6, 'b':8} #定义一个字典\n",
    "t={'b':100, 'c':10} #定义一个字典\n",
    "print(eval('a+b+c', g, t)) #定义一个字典 116"
   ]
  },
  {
   "cell_type": "markdown",
   "metadata": {},
   "source": [
    "2、exec()和eval()的区别"
   ]
  },
  {
   "cell_type": "markdown",
   "metadata": {},
   "source": [
    "eval() 执行完会返回结果，而 exec() 执行完不返回结果。举个例子："
   ]
  },
  {
   "cell_type": "code",
   "execution_count": 1,
   "metadata": {},
   "outputs": [
    {
     "name": "stdout",
     "output_type": "stream",
     "text": [
      "2\n",
      "None\n",
      "5\n"
     ]
    }
   ],
   "source": [
    "a = 1\n",
    "exec(\"a = 2\") #相当于直接执行 a=2\n",
    "print(a)\n",
    "a = exec(\"2+3\") #相当于直接执行 2+3，但是并没有返回值，a 应为 None\n",
    "print(a)\n",
    "a = eval('2+3') #执行 2+3，并把结果返回给 a\n",
    "print(a)"
   ]
  },
  {
   "cell_type": "markdown",
   "metadata": {},
   "source": [
    "exec() 中最适合放置运行后没有结果的语句，而 eval() 中适合放置有结果返回的语句。"
   ]
  },
  {
   "cell_type": "markdown",
   "metadata": {},
   "source": [
    "## eval() 和 exec() 函数的应用场景"
   ]
  },
  {
   "cell_type": "markdown",
   "metadata": {},
   "source": [
    "在使用 Python 开发服务端程序时，这两个函数应用得非常广泛。例如，客户端向服务端发送一段字符串代码，服务端无需关心具体的内容，直接跳过 eval() 或 exec() 来执行，这样的设计会使服务端与客户端的耦合度更低，系统更易扩展。\n",
    "\n",
    "另外，如果读者以后接触 TensorFlow 框架，就会发现该框架中的静态图就是类似这个原理实现的：\n",
    "- TensorFlow 中先将张量定义在一个静态图里，这就相当将键值对添加到字典里一样；\n",
    "- TensorFlow 中通过 session 和张量的 eval() 函数来进行具体值的运算，就当于使用 eval() 函数进行具体值的运算一样。\n",
    "\n",
    "需要注意的是，在使用 eval() 或是 exec() 来处理请求代码时，函数 eval() 和 exec() 常常会被黑客利用，成为可以执行系统级命令的入口点，进而来攻击网站。解决方法是：通过设置其命名空间里的可执行函数，来限制 eval() 和 exec() 的执行范围。"
   ]
  }
 ],
 "metadata": {
  "kernelspec": {
   "display_name": "Python 3",
   "language": "python",
   "name": "python3"
  },
  "language_info": {
   "codemirror_mode": {
    "name": "ipython",
    "version": 3
   },
   "file_extension": ".py",
   "mimetype": "text/x-python",
   "name": "python",
   "nbconvert_exporter": "python",
   "pygments_lexer": "ipython3",
   "version": "3.8.3"
  },
  "toc": {
   "base_numbering": 1,
   "nav_menu": {},
   "number_sections": true,
   "sideBar": true,
   "skip_h1_title": false,
   "title_cell": "01-python函数",
   "title_sidebar": "Contents",
   "toc_cell": true,
   "toc_position": {},
   "toc_section_display": true,
   "toc_window_display": true
  }
 },
 "nbformat": 4,
 "nbformat_minor": 4
}
