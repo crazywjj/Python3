{
 "cells": [
  {
   "cell_type": "markdown",
   "metadata": {
    "toc": true
   },
   "source": [
    "<h1>07-python中字典(Dictionaries)<span class=\"tocSkip\"></span></h1>\n",
    "<div class=\"toc\"><ul class=\"toc-item\"><li><span><a href=\"#创建字典\" data-toc-modified-id=\"创建字典-1\"><span class=\"toc-item-num\">1&nbsp;&nbsp;</span>创建字典</a></span></li><li><span><a href=\"#访问字典\" data-toc-modified-id=\"访问字典-2\"><span class=\"toc-item-num\">2&nbsp;&nbsp;</span>访问字典</a></span></li><li><span><a href=\"#修改字典\" data-toc-modified-id=\"修改字典-3\"><span class=\"toc-item-num\">3&nbsp;&nbsp;</span>修改字典</a></span></li><li><span><a href=\"#删除字典元素\" data-toc-modified-id=\"删除字典元素-4\"><span class=\"toc-item-num\">4&nbsp;&nbsp;</span>删除字典元素</a></span></li><li><span><a href=\"#字典键的特性\" data-toc-modified-id=\"字典键的特性-5\"><span class=\"toc-item-num\">5&nbsp;&nbsp;</span>字典键的特性</a></span></li><li><span><a href=\"#几种字典的方法\" data-toc-modified-id=\"几种字典的方法-6\"><span class=\"toc-item-num\">6&nbsp;&nbsp;</span>几种字典的方法</a></span><ul class=\"toc-item\"><li><span><a href=\"#keys()、values()-和-items()-方法\" data-toc-modified-id=\"keys()、values()-和-items()-方法-6.1\"><span class=\"toc-item-num\">6.1&nbsp;&nbsp;</span>keys()、values() 和 items() 方法</a></span></li><li><span><a href=\"#copy()-方法\" data-toc-modified-id=\"copy()-方法-6.2\"><span class=\"toc-item-num\">6.2&nbsp;&nbsp;</span>copy() 方法</a></span></li><li><span><a href=\"#update()-方法\" data-toc-modified-id=\"update()-方法-6.3\"><span class=\"toc-item-num\">6.3&nbsp;&nbsp;</span>update() 方法</a></span></li><li><span><a href=\"#pop()-和-popitem()-方法\" data-toc-modified-id=\"pop()-和-popitem()-方法-6.4\"><span class=\"toc-item-num\">6.4&nbsp;&nbsp;</span>pop() 和 popitem() 方法</a></span></li><li><span><a href=\"#setdefault()-方法\" data-toc-modified-id=\"setdefault()-方法-6.5\"><span class=\"toc-item-num\">6.5&nbsp;&nbsp;</span>setdefault() 方法</a></span></li></ul></li></ul></div>"
   ]
  },
  {
   "cell_type": "markdown",
   "metadata": {},
   "source": [
    "Python 字典（dict）是一种无序的、可变的序列，它的元素以“键值对（key-value）”的形式存储。相对地，列表（list）和元组（tuple）都是有序的序列，它们的元素在底层是挨着存放的。\n",
    "\n",
    "字典类型是 Python 中唯一的映射类型。“映射”是数学中的术语，简单理解，它指的是元素之间相互对应的关系，即通过一个元素，可以唯一找到另一个元素。\n",
    "\n",
    "字典中，习惯将各元素对应的索引称为键（key），各个键对应的元素称为值（value），键及其关联的值称为“键值对”。键必须是唯一的，但值则不必。\n",
    "\n",
    "值可以取任何数据类型，但键必须是不可变的，如字符串，数字或元组。"
   ]
  },
  {
   "cell_type": "markdown",
   "metadata": {},
   "source": [
    "## 创建字典"
   ]
  },
  {
   "cell_type": "markdown",
   "metadata": {},
   "source": [
    "**1) 使用 { } 创建字典**\n",
    "\n",
    "由于字典中每个元素都包含两部分，分别是键（key）和值（value），因此在创建字典时，键和值之间使用冒号:分隔，相邻元素之间使用逗号,分隔，所有元素放在大括号{ }中。\n",
    "\n",
    "使用{ }创建字典的语法格式如下："
   ]
  },
  {
   "cell_type": "markdown",
   "metadata": {},
   "source": [
    "`dictname = {'key1':'value1','key2':'value2',...'keyn':'valuen'}`"
   ]
  },
  {
   "cell_type": "markdown",
   "metadata": {},
   "source": [
    "其中 dictname 表示字典变量名，keyn : valuen 表示各个元素的键值对。需要注意的是，同一字典中的各个键必须唯一，不能重复。"
   ]
  },
  {
   "cell_type": "markdown",
   "metadata": {},
   "source": [
    "字典在它们可以容纳的数据类型方面非常灵活。例如："
   ]
  },
  {
   "cell_type": "code",
   "execution_count": 3,
   "metadata": {},
   "outputs": [],
   "source": [
    "my_dict = {'key1':123,'key2':[12,22,33],'key3':('a','b','c')}"
   ]
  },
  {
   "cell_type": "code",
   "execution_count": 5,
   "metadata": {},
   "outputs": [
    {
     "data": {
      "text/plain": [
       "('a', 'b', 'c')"
      ]
     },
     "execution_count": 5,
     "metadata": {},
     "output_type": "execute_result"
    }
   ],
   "source": [
    "my_dict['key3']"
   ]
  },
  {
   "cell_type": "code",
   "execution_count": 6,
   "metadata": {},
   "outputs": [
    {
     "data": {
      "text/plain": [
       "'a'"
      ]
     },
     "execution_count": 6,
     "metadata": {},
     "output_type": "execute_result"
    }
   ],
   "source": [
    "my_dict['key3'][0]"
   ]
  },
  {
   "cell_type": "code",
   "execution_count": 8,
   "metadata": {},
   "outputs": [
    {
     "data": {
      "text/plain": [
       "'A'"
      ]
     },
     "execution_count": 8,
     "metadata": {},
     "output_type": "execute_result"
    }
   ],
   "source": [
    "my_dict['key3'][0].upper()"
   ]
  },
  {
   "cell_type": "markdown",
   "metadata": {},
   "source": [
    "例如，如果我们从一个空的字典开始，我们可以不断地添加它："
   ]
  },
  {
   "cell_type": "code",
   "execution_count": 18,
   "metadata": {},
   "outputs": [
    {
     "data": {
      "text/plain": [
       "{'animal': 'dog', 'answer': 24}"
      ]
     },
     "execution_count": 18,
     "metadata": {},
     "output_type": "execute_result"
    }
   ],
   "source": [
    "d = {}\n",
    "d['animal'] = 'dog'\n",
    "d['answer'] = 24\n",
    "d"
   ]
  },
  {
   "cell_type": "markdown",
   "metadata": {},
   "source": [
    "**2) 通过 fromkeys() 方法创建字典**"
   ]
  },
  {
   "cell_type": "markdown",
   "metadata": {},
   "source": [
    "Python 中，还可以使用 dict 字典类型提供的 `fromkeys()` 方法创建带有默认值的字典，具体格式为："
   ]
  },
  {
   "cell_type": "markdown",
   "metadata": {},
   "source": [
    "`dictname = dict.fromkeys(list，value=None)`"
   ]
  },
  {
   "cell_type": "markdown",
   "metadata": {},
   "source": [
    "其中，list 参数表示字典中所有键的列表`（list）`；`value` 参数表示默认值，如果不写，则为空值 `None`。"
   ]
  },
  {
   "cell_type": "code",
   "execution_count": 1,
   "metadata": {},
   "outputs": [
    {
     "data": {
      "text/plain": [
       "{'英语': 60, '语文': 60, '数学': 60}"
      ]
     },
     "execution_count": 1,
     "metadata": {},
     "output_type": "execute_result"
    }
   ],
   "source": [
    "project = {'语文','数学','英语'}\n",
    "scores = dict.fromkeys(project,60)\n",
    "scores"
   ]
  },
  {
   "cell_type": "markdown",
   "metadata": {},
   "source": [
    "这种创建方式通常用于初始化字典，设置 value 的默认值。"
   ]
  },
  {
   "cell_type": "markdown",
   "metadata": {},
   "source": [
    "**3) 通过 dict() 映射函数创建字典**"
   ]
  },
  {
   "cell_type": "markdown",
   "metadata": {},
   "source": [
    "通过 dict() 函数创建字典的写法有多种,它们创建的都是同一个字典 a。"
   ]
  },
  {
   "cell_type": "code",
   "execution_count": 5,
   "metadata": {},
   "outputs": [
    {
     "data": {
      "text/plain": [
       "{'str1': 'value1', 'str2': 'value2', 'str3': 'value3'}"
      ]
     },
     "execution_count": 5,
     "metadata": {},
     "output_type": "execute_result"
    }
   ],
   "source": [
    "a = dict(str1='value1',str2='value2',str3='value3')\n",
    "a"
   ]
  },
  {
   "cell_type": "markdown",
   "metadata": {},
   "source": [
    "str 表示字符串类型的键，value 表示键对应的值。使用此方式创建字典时，字符串不能带引号。"
   ]
  },
  {
   "cell_type": "code",
   "execution_count": 10,
   "metadata": {},
   "outputs": [
    {
     "data": {
      "text/plain": [
       "{'two': 2, 'one': 1, 'three': 3}"
      ]
     },
     "execution_count": 10,
     "metadata": {},
     "output_type": "execute_result"
    }
   ],
   "source": [
    "#方式1\n",
    "demo1 = [('two',2), ('one',1), ('three',3)]\n",
    "\n",
    "#方式2\n",
    "demo2 = [['two',2], ['one',1], ['three',3]]\n",
    "\n",
    "#方式3\n",
    "demo3 = (('two',2), ('one',1), ('three',3))\n",
    "\n",
    "#方式4\n",
    "demo4 = (['two',2], ['one',1], ['three',3])\n",
    "a = dict(demo2)\n",
    "a"
   ]
  },
  {
   "cell_type": "markdown",
   "metadata": {},
   "source": [
    "向 dict() 函数传入列表或元组，而它们中的元素又各自是包含 2 个元素的列表或元组，其中第一个元素作为键，第二个元素作为值。"
   ]
  },
  {
   "cell_type": "code",
   "execution_count": 19,
   "metadata": {},
   "outputs": [
    {
     "data": {
      "text/plain": [
       "{'one': 1, 'two': 2, 'three': 3}"
      ]
     },
     "execution_count": 19,
     "metadata": {},
     "output_type": "execute_result"
    }
   ],
   "source": [
    "keys = ['one', 'two', 'three']     #可以是字符串或元组\n",
    "values = [1, 2, 3]                 #可以是字符串或元组\n",
    "a = dict( zip(keys, values) )\n",
    "a"
   ]
  },
  {
   "cell_type": "markdown",
   "metadata": {},
   "source": [
    "**注意，无论采用以上哪种方式创建字典，字典中各元素的键都只能是字符串、元组或数字，不能是列表。列表是可变的，不能作为键。**"
   ]
  },
  {
   "cell_type": "code",
   "execution_count": 15,
   "metadata": {},
   "outputs": [
    {
     "data": {
      "text/plain": [
       "{}"
      ]
     },
     "execution_count": 15,
     "metadata": {},
     "output_type": "execute_result"
    }
   ],
   "source": [
    "d = dict()   # 创建空字典\n",
    "d"
   ]
  },
  {
   "cell_type": "markdown",
   "metadata": {},
   "source": [
    "## 访问字典"
   ]
  },
  {
   "cell_type": "markdown",
   "metadata": {},
   "source": [
    "列表和元组是通过下标来访问元素的，而字典不同，它通过键来访问对应的值。因为字典中的元素是无序的，每个元素的位置都不固定，所以字典也不能像列表和元组那样，采用切片的方式一次性访问多个元素。\n"
   ]
  },
  {
   "cell_type": "code",
   "execution_count": 21,
   "metadata": {},
   "outputs": [
    {
     "data": {
      "text/plain": [
       "{'two': 26, 'one': 88, 'three': 100, 'four': -59}"
      ]
     },
     "execution_count": 21,
     "metadata": {},
     "output_type": "execute_result"
    }
   ],
   "source": [
    "tup = (['two',26], ['one',88], ['three',100], ['four',-59])\n",
    "dic = dict(tup)\n",
    "dic"
   ]
  },
  {
   "cell_type": "code",
   "execution_count": 25,
   "metadata": {},
   "outputs": [
    {
     "data": {
      "text/plain": [
       "88"
      ]
     },
     "execution_count": 25,
     "metadata": {},
     "output_type": "execute_result"
    }
   ],
   "source": [
    "dic['one ']    # 键存在"
   ]
  },
  {
   "cell_type": "code",
   "execution_count": 27,
   "metadata": {},
   "outputs": [
    {
     "ename": "KeyError",
     "evalue": "'five'",
     "output_type": "error",
     "traceback": [
      "\u001b[1;31m---------------------------------------------------------------------------\u001b[0m",
      "\u001b[1;31mKeyError\u001b[0m                                  Traceback (most recent call last)",
      "\u001b[1;32m<ipython-input-27-cab4c21de677>\u001b[0m in \u001b[0;36m<module>\u001b[1;34m\u001b[0m\n\u001b[1;32m----> 1\u001b[1;33m \u001b[0mdic\u001b[0m\u001b[1;33m[\u001b[0m\u001b[1;34m'five'\u001b[0m\u001b[1;33m]\u001b[0m   \u001b[1;31m# 键不存在\u001b[0m\u001b[1;33m\u001b[0m\u001b[1;33m\u001b[0m\u001b[0m\n\u001b[0m",
      "\u001b[1;31mKeyError\u001b[0m: 'five'"
     ]
    }
   ],
   "source": [
    "dic['five']   # 键不存在"
   ]
  },
  {
   "cell_type": "markdown",
   "metadata": {},
   "source": [
    "Python 更推荐使用 dict 类型提供的 `get()` 方法来获取指定键对应的值。当指定的键不存在时，get() 方法不会抛出异常。"
   ]
  },
  {
   "cell_type": "markdown",
   "metadata": {},
   "source": [
    "get() 方法的语法格式为："
   ]
  },
  {
   "cell_type": "markdown",
   "metadata": {},
   "source": [
    "`dictname.get(key[,default])`"
   ]
  },
  {
   "cell_type": "code",
   "execution_count": 28,
   "metadata": {},
   "outputs": [
    {
     "data": {
      "text/plain": [
       "88"
      ]
     },
     "execution_count": 28,
     "metadata": {},
     "output_type": "execute_result"
    }
   ],
   "source": [
    "a = dict(two=0.65, one=88, three=100, four=-59)\n",
    "a.get('one')"
   ]
  },
  {
   "cell_type": "markdown",
   "metadata": {},
   "source": [
    "注意，当键不存在时，get() 返回空值 None，如果想明确地提示用户该键不存在，那么可以手动设置 get() 的第二个参数，例如："
   ]
  },
  {
   "cell_type": "code",
   "execution_count": 30,
   "metadata": {},
   "outputs": [
    {
     "data": {
      "text/plain": [
       "'该键不存在'"
      ]
     },
     "execution_count": 30,
     "metadata": {},
     "output_type": "execute_result"
    }
   ],
   "source": [
    "a.get('five','该键不存在')"
   ]
  },
  {
   "cell_type": "markdown",
   "metadata": {},
   "source": [
    "## 修改字典"
   ]
  },
  {
   "cell_type": "markdown",
   "metadata": {},
   "source": [
    "向字典添加新内容的方法是增加新的键/值对，修改或删除已有键/值。"
   ]
  },
  {
   "cell_type": "code",
   "execution_count": 31,
   "metadata": {},
   "outputs": [
    {
     "data": {
      "text/plain": [
       "{'aaa': 24, 'bbb': 33, 'ccc': 25}"
      ]
     },
     "execution_count": 31,
     "metadata": {},
     "output_type": "execute_result"
    }
   ],
   "source": [
    "prople = {'aaa':24, 'bbb':33, 'ccc':25}\n",
    "prople"
   ]
  },
  {
   "cell_type": "markdown",
   "metadata": {},
   "source": [
    "## 删除字典元素"
   ]
  },
  {
   "cell_type": "markdown",
   "metadata": {},
   "source": [
    "能删单一的元素也能清空字典，清空只需一项操作。"
   ]
  },
  {
   "cell_type": "code",
   "execution_count": 1,
   "metadata": {},
   "outputs": [
    {
     "data": {
      "text/plain": [
       "{'tom': 23, 'china': '北京', 'are you ok?': 'yes'}"
      ]
     },
     "execution_count": 1,
     "metadata": {},
     "output_type": "execute_result"
    }
   ],
   "source": [
    "dict_test = {'tom':23, 'china':'北京', 'are you ok?':'yes'}\n",
    "dict_test"
   ]
  },
  {
   "cell_type": "code",
   "execution_count": 2,
   "metadata": {},
   "outputs": [
    {
     "data": {
      "text/plain": [
       "{'china': '北京', 'are you ok?': 'yes'}"
      ]
     },
     "execution_count": 2,
     "metadata": {},
     "output_type": "execute_result"
    }
   ],
   "source": [
    "del dict_test['tom']   # 删除对应的key，即可删除元素\n",
    "dict_test"
   ]
  },
  {
   "cell_type": "code",
   "execution_count": 3,
   "metadata": {},
   "outputs": [
    {
     "data": {
      "text/plain": [
       "{}"
      ]
     },
     "execution_count": 3,
     "metadata": {},
     "output_type": "execute_result"
    }
   ],
   "source": [
    "dict_test.clear()   # 清空字典\n",
    "dict_test"
   ]
  },
  {
   "cell_type": "code",
   "execution_count": 4,
   "metadata": {},
   "outputs": [
    {
     "ename": "NameError",
     "evalue": "name 'dict_test' is not defined",
     "output_type": "error",
     "traceback": [
      "\u001b[1;31m---------------------------------------------------------------------------\u001b[0m",
      "\u001b[1;31mNameError\u001b[0m                                 Traceback (most recent call last)",
      "\u001b[1;32m<ipython-input-4-8b2eee21fd6a>\u001b[0m in \u001b[0;36m<module>\u001b[1;34m\u001b[0m\n\u001b[0;32m      1\u001b[0m \u001b[1;32mdel\u001b[0m \u001b[0mdict_test\u001b[0m   \u001b[1;31m# 删除整个字典\u001b[0m\u001b[1;33m\u001b[0m\u001b[1;33m\u001b[0m\u001b[0m\n\u001b[1;32m----> 2\u001b[1;33m \u001b[0mdict_test\u001b[0m\u001b[1;33m\u001b[0m\u001b[1;33m\u001b[0m\u001b[0m\n\u001b[0m",
      "\u001b[1;31mNameError\u001b[0m: name 'dict_test' is not defined"
     ]
    }
   ],
   "source": [
    "del dict_test   # 删除整个字典\n",
    "dict_test"
   ]
  },
  {
   "cell_type": "markdown",
   "metadata": {},
   "source": [
    "**注意：**Python 自带垃圾回收功能，会自动销毁不用的字典，所以一般不需要通过 del 来手动删除。"
   ]
  },
  {
   "cell_type": "markdown",
   "metadata": {},
   "source": [
    "## 字典键的特性"
   ]
  },
  {
   "cell_type": "markdown",
   "metadata": {},
   "source": [
    "字典值可以是任何的 python 对象，既可以是标准的对象，也可以是用户定义的，但键不行。"
   ]
  },
  {
   "cell_type": "markdown",
   "metadata": {},
   "source": [
    "1）不允许同一个键出现两次。创建时如果同一个键被赋值两次，后一个值会被记住。"
   ]
  },
  {
   "cell_type": "code",
   "execution_count": 5,
   "metadata": {},
   "outputs": [
    {
     "data": {
      "text/plain": [
       "{'name': 'nana'}"
      ]
     },
     "execution_count": 5,
     "metadata": {},
     "output_type": "execute_result"
    }
   ],
   "source": [
    "dict01 = {'name':'lili', 'name':'nana'}\n",
    "dict01"
   ]
  },
  {
   "cell_type": "markdown",
   "metadata": {},
   "source": [
    "2）键必须不可变，所以可以用数字，字符串或元组充当，而用列表就不行，"
   ]
  },
  {
   "cell_type": "code",
   "execution_count": 8,
   "metadata": {},
   "outputs": [
    {
     "data": {
      "text/plain": [
       "{'[name]': 'www', '(hello)': 'python'}"
      ]
     },
     "execution_count": 8,
     "metadata": {},
     "output_type": "execute_result"
    }
   ],
   "source": [
    "dict02 = {'[name]':'www', '(hello)':'python'}\n",
    "dict02"
   ]
  },
  {
   "cell_type": "code",
   "execution_count": 9,
   "metadata": {},
   "outputs": [
    {
     "ename": "NameError",
     "evalue": "name 'name' is not defined",
     "output_type": "error",
     "traceback": [
      "\u001b[1;31m---------------------------------------------------------------------------\u001b[0m",
      "\u001b[1;31mNameError\u001b[0m                                 Traceback (most recent call last)",
      "\u001b[1;32m<ipython-input-9-0671ebeaa0c8>\u001b[0m in \u001b[0;36m<module>\u001b[1;34m\u001b[0m\n\u001b[1;32m----> 1\u001b[1;33m \u001b[0mdict02\u001b[0m\u001b[1;33m[\u001b[0m\u001b[0mname\u001b[0m\u001b[1;33m]\u001b[0m\u001b[1;33m\u001b[0m\u001b[1;33m\u001b[0m\u001b[0m\n\u001b[0m",
      "\u001b[1;31mNameError\u001b[0m: name 'name' is not defined"
     ]
    }
   ],
   "source": [
    "dict02[name]"
   ]
  },
  {
   "cell_type": "code",
   "execution_count": 11,
   "metadata": {},
   "outputs": [
    {
     "ename": "KeyError",
     "evalue": "'hello'",
     "output_type": "error",
     "traceback": [
      "\u001b[1;31m---------------------------------------------------------------------------\u001b[0m",
      "\u001b[1;31mKeyError\u001b[0m                                  Traceback (most recent call last)",
      "\u001b[1;32m<ipython-input-11-8f05c7ac1a2b>\u001b[0m in \u001b[0;36m<module>\u001b[1;34m\u001b[0m\n\u001b[1;32m----> 1\u001b[1;33m \u001b[0mdict02\u001b[0m\u001b[1;33m[\u001b[0m\u001b[1;34m'hello'\u001b[0m\u001b[1;33m]\u001b[0m\u001b[1;33m\u001b[0m\u001b[1;33m\u001b[0m\u001b[0m\n\u001b[0m",
      "\u001b[1;31mKeyError\u001b[0m: 'hello'"
     ]
    }
   ],
   "source": [
    "dict02['hello']"
   ]
  },
  {
   "cell_type": "markdown",
   "metadata": {},
   "source": [
    "## 几种字典的方法"
   ]
  },
  {
   "cell_type": "markdown",
   "metadata": {},
   "source": [
    "### keys()、values() 和 items() 方法"
   ]
  },
  {
   "cell_type": "markdown",
   "metadata": {},
   "source": [
    "将这三个方法放在一起介绍，是因为它们都用来获取字典中的特定数据："
   ]
  },
  {
   "cell_type": "markdown",
   "metadata": {},
   "source": [
    "- keys() 方法用于返回字典中的所有键（key）；\n",
    "- values() 方法用于返回字典中所有键对应的值（value）；\n",
    "- items() 用于返回字典中所有的键值对（key-value）。"
   ]
  },
  {
   "cell_type": "code",
   "execution_count": 1,
   "metadata": {},
   "outputs": [
    {
     "name": "stdout",
     "output_type": "stream",
     "text": [
      "dict_keys(['数学', '语文', '英语'])\n",
      "dict_values([95, 89, 90])\n",
      "dict_items([('数学', 95), ('语文', 89), ('英语', 90)])\n"
     ]
    }
   ],
   "source": [
    "scores = {'数学': 95, '语文': 89, '英语': 90}\n",
    "print(scores.keys())\n",
    "print(scores.values())\n",
    "print(scores.items())"
   ]
  },
  {
   "cell_type": "markdown",
   "metadata": {},
   "source": [
    "在 Python 2.x 中，上面三个方法的返回值都是列表（list）类型。但在 Python 3.x 中，它们的返回值并不是我们常见的列表或者元组类型，因为 Python 3.x 不希望用户直接操作这几个方法的返回值。"
   ]
  },
  {
   "cell_type": "markdown",
   "metadata": {},
   "source": [
    "在 Python 3.x 中如果想使用这三个方法返回的数据，一般有下面两种方案："
   ]
  },
  {
   "cell_type": "markdown",
   "metadata": {},
   "source": [
    "1) 使用 list() 函数，将它们返回的数据转换成列表，例如："
   ]
  },
  {
   "cell_type": "code",
   "execution_count": 2,
   "metadata": {},
   "outputs": [
    {
     "name": "stdout",
     "output_type": "stream",
     "text": [
      "['数学', '语文', '英语']\n"
     ]
    }
   ],
   "source": [
    "a = {'数学': 95, '语文': 89, '英语': 90}\n",
    "b = list(a.keys())\n",
    "print(b)"
   ]
  },
  {
   "cell_type": "markdown",
   "metadata": {},
   "source": [
    "2) 使用 for in 循环遍历它们的返回值，例如："
   ]
  },
  {
   "cell_type": "code",
   "execution_count": 13,
   "metadata": {},
   "outputs": [
    {
     "name": "stdout",
     "output_type": "stream",
     "text": [
      "数学 语文 英语 \n",
      "--------------\n",
      "95 89 90 \n",
      "---------------\n",
      "key: 数学  value: 95\n",
      "key: 语文  value: 89\n",
      "key: 英语  value: 90\n"
     ]
    }
   ],
   "source": [
    "a = {'数学': 95, '语文': 89, '英语': 90}\n",
    "for k in a.keys():\n",
    "    print(k,end=' ')\n",
    "print(\"\\n--------------\")\n",
    "\n",
    "for v in a.values():\n",
    "    print(v,end=' ')\n",
    "print(\"\\n---------------\")\n",
    "\n",
    "for k,v in a.items():\n",
    "    print(\"key:\",k,\" value:\",v)"
   ]
  },
  {
   "cell_type": "markdown",
   "metadata": {},
   "source": [
    "### copy() 方法"
   ]
  },
  {
   "cell_type": "markdown",
   "metadata": {},
   "source": [
    "copy() 方法返回一个字典的拷贝，也即返回一个具有相同键值对的新字典。"
   ]
  },
  {
   "cell_type": "code",
   "execution_count": 2,
   "metadata": {},
   "outputs": [
    {
     "data": {
      "text/plain": [
       "{'one': 1, 'two': 2, 'three': [1, 2, 3]}"
      ]
     },
     "execution_count": 2,
     "metadata": {},
     "output_type": "execute_result"
    }
   ],
   "source": [
    "a = {'one':1, 'two':2, 'three':[1,2,3]}\n",
    "b = a.copy()\n",
    "b"
   ]
  },
  {
   "cell_type": "markdown",
   "metadata": {},
   "source": [
    "可以看到，copy() 方法将字典 a 的数据全部拷贝给了字典 b。"
   ]
  },
  {
   "cell_type": "markdown",
   "metadata": {},
   "source": [
    "**注意：**copy() 方法所遵循的拷贝原理，既有深拷贝，也有浅拷贝。拿拷贝字典 a 为例，copy() 方法只会对最表层的键值对进行深拷贝，也就是说，它会再申请一块内存用来存放 {'one': 1, 'two': 2, 'three': []}；而对于某些列表类型的值来说，此方法对其做的是浅拷贝，也就是说，b 中的 [1,2,3] 的值不是自己独有，而是和 a 共有。"
   ]
  },
  {
   "cell_type": "markdown",
   "metadata": {},
   "source": [
    "### update() 方法"
   ]
  },
  {
   "cell_type": "markdown",
   "metadata": {},
   "source": [
    "update() 方法可以使用一个字典所包含的键值对来更新己有的字典（如果被更新的字典中己包含对应的键值对，那么原 value 会被覆盖；如果被更新的字典中不包含对应的键值对，则该键值对被添加进去。）。"
   ]
  },
  {
   "cell_type": "code",
   "execution_count": 2,
   "metadata": {},
   "outputs": [
    {
     "data": {
      "text/plain": [
       "{'one': 1, 'two': 2, 'three': 3, 'four': 4}"
      ]
     },
     "execution_count": 2,
     "metadata": {},
     "output_type": "execute_result"
    }
   ],
   "source": [
    "a = {'one':1, 'two':2, 'three':3}   # 被更新的键值对不存在则添加\n",
    "a.update(four=4)\n",
    "a"
   ]
  },
  {
   "cell_type": "code",
   "execution_count": 6,
   "metadata": {},
   "outputs": [
    {
     "data": {
      "text/plain": [
       "{'one': 'test', 'two': 2, 'three': 3, 'four': 4}"
      ]
     },
     "execution_count": 6,
     "metadata": {},
     "output_type": "execute_result"
    }
   ],
   "source": [
    "a.update(one='test')     # 被更新的键值对存在则修改\n",
    "a"
   ]
  },
  {
   "cell_type": "markdown",
   "metadata": {},
   "source": [
    "### pop() 和 popitem() 方法"
   ]
  },
  {
   "cell_type": "markdown",
   "metadata": {},
   "source": [
    "pop() 和 popitem() 都用来删除字典中的键值对，不同的是，pop() 用来删除指定的键值对，而 popitem() 用来随机删除一个键值对。"
   ]
  },
  {
   "cell_type": "markdown",
   "metadata": {},
   "source": [
    "语法格式：\n",
    "\n",
    "dictname.pop(key)\n",
    "\n",
    "dictname.popitem()"
   ]
  },
  {
   "cell_type": "code",
   "execution_count": 27,
   "metadata": {},
   "outputs": [
    {
     "data": {
      "text/plain": [
       "{'语文': 88, '数学': 99, '英语': 80, '历史': 100}"
      ]
     },
     "execution_count": 27,
     "metadata": {},
     "output_type": "execute_result"
    }
   ],
   "source": [
    "a = {'语文':88,'数学':99,'英语':80,'历史':100}\n",
    "a"
   ]
  },
  {
   "cell_type": "code",
   "execution_count": 28,
   "metadata": {},
   "outputs": [
    {
     "data": {
      "text/plain": [
       "{'数学': 99, '英语': 80, '历史': 100}"
      ]
     },
     "execution_count": 28,
     "metadata": {},
     "output_type": "execute_result"
    }
   ],
   "source": [
    "a.pop('语文')\n",
    "a"
   ]
  },
  {
   "cell_type": "code",
   "execution_count": 29,
   "metadata": {},
   "outputs": [
    {
     "data": {
      "text/plain": [
       "('历史', 100)"
      ]
     },
     "execution_count": 29,
     "metadata": {},
     "output_type": "execute_result"
    }
   ],
   "source": [
    "a.popitem()"
   ]
  },
  {
   "cell_type": "code",
   "execution_count": 30,
   "metadata": {},
   "outputs": [
    {
     "data": {
      "text/plain": [
       "('历史', 100)"
      ]
     },
     "execution_count": 30,
     "metadata": {},
     "output_type": "execute_result"
    }
   ],
   "source": [
    "a = {'语文':88,'数学':99,'英语':80,'历史':100}\n",
    "a.popitem()"
   ]
  },
  {
   "cell_type": "markdown",
   "metadata": {},
   "source": [
    "**注意：**说 popitem() 随机删除字典中的一个键值对是不准确的，虽然字典是一种无须的列表，但键值对在底层也是有存储顺序的，popitem() 总是弹出底层中的最后一个 key-value，这和列表的 pop() 方法类似，都实现了数据结构中“出栈”的操作。"
   ]
  },
  {
   "cell_type": "markdown",
   "metadata": {},
   "source": [
    "### setdefault() 方法"
   ]
  },
  {
   "cell_type": "markdown",
   "metadata": {},
   "source": [
    "setdefault() 方法用来返回某个 key 对应的 value，其语法格式如下：\n",
    "`dictname.setdefault(key, defaultvalue)`"
   ]
  },
  {
   "cell_type": "markdown",
   "metadata": {},
   "source": [
    "setdefault() 方法总能返回指定 key 对应的 value：\n",
    "\n",
    "如果该 key 存在，那么直接返回该 key 对应的 value；\n",
    "如果该 key 不存在，那么先为该 key 设置默认的 defaultvalue，然后再返回该 key 对应的 defaultvalue。"
   ]
  },
  {
   "cell_type": "code",
   "execution_count": 20,
   "metadata": {},
   "outputs": [
    {
     "name": "stdout",
     "output_type": "stream",
     "text": [
      "{'语文': 88, '数学': 99, '英语': 80, '历史': 100}\n",
      "{'语文': 88, '数学': 99, '英语': 80, '历史': 100, '物理': 96}\n",
      "{'语文': 88, '数学': 99, '英语': 80, '历史': 100, '物理': 96, '化学': None}\n",
      "{'语文': 88, '数学': 99, '英语': 80, '历史': 100, '物理': 96, '化学': None}\n"
     ]
    }
   ],
   "source": [
    "a = {'语文':88,'数学':99,'英语':80,'历史':100}\n",
    "print(a)\n",
    "\n",
    "a.setdefault('物理',96)   # key不存在，指定默认值\n",
    "print(a)\n",
    "\n",
    "a.setdefault('化学')   # key不存在，不指定默认值\n",
    "print(a)\n",
    "\n",
    "a.setdefault('物理')   # key存在，不指定默认值\n",
    "print(a)"
   ]
  }
 ],
 "metadata": {
  "kernelspec": {
   "display_name": "Python 3",
   "language": "python",
   "name": "python3"
  },
  "language_info": {
   "codemirror_mode": {
    "name": "ipython",
    "version": 3
   },
   "file_extension": ".py",
   "mimetype": "text/x-python",
   "name": "python",
   "nbconvert_exporter": "python",
   "pygments_lexer": "ipython3",
   "version": "3.8.3"
  },
  "toc": {
   "base_numbering": 1,
   "nav_menu": {},
   "number_sections": true,
   "sideBar": true,
   "skip_h1_title": false,
   "title_cell": "07-python中字典(Dictionaries)",
   "title_sidebar": "Contents",
   "toc_cell": true,
   "toc_position": {
    "height": "calc(100% - 180px)",
    "left": "10px",
    "top": "150px",
    "width": "384px"
   },
   "toc_section_display": true,
   "toc_window_display": true
  }
 },
 "nbformat": 4,
 "nbformat_minor": 4
}
