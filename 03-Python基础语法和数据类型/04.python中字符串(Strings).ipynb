{
 "cells": [
  {
   "cell_type": "markdown",
   "metadata": {
    "toc": true
   },
   "source": [
    "<h1>04-python中字符串(Strings)<span class=\"tocSkip\"></span></h1>\n",
    "<div class=\"toc\"><ul class=\"toc-item\"><li><span><a href=\"#创建字符串\" data-toc-modified-id=\"创建字符串-1\"><span class=\"toc-item-num\">1&nbsp;&nbsp;</span>创建字符串</a></span></li><li><span><a href=\"#打印字符串\" data-toc-modified-id=\"打印字符串-2\"><span class=\"toc-item-num\">2&nbsp;&nbsp;</span>打印字符串</a></span></li><li><span><a href=\"#字符串索引和切片\" data-toc-modified-id=\"字符串索引和切片-3\"><span class=\"toc-item-num\">3&nbsp;&nbsp;</span>字符串索引和切片</a></span></li><li><span><a href=\"#字符串属性\" data-toc-modified-id=\"字符串属性-4\"><span class=\"toc-item-num\">4&nbsp;&nbsp;</span>字符串属性</a></span></li><li><span><a href=\"#字符串内建函数\" data-toc-modified-id=\"字符串内建函数-5\"><span class=\"toc-item-num\">5&nbsp;&nbsp;</span>字符串内建函数</a></span></li><li><span><a href=\"#字符串运算符\" data-toc-modified-id=\"字符串运算符-6\"><span class=\"toc-item-num\">6&nbsp;&nbsp;</span>字符串运算符</a></span></li><li><span><a href=\"#字符串格式化\" data-toc-modified-id=\"字符串格式化-7\"><span class=\"toc-item-num\">7&nbsp;&nbsp;</span>字符串格式化</a></span><ul class=\"toc-item\"><li><span><a href=\"#%-格式化\" data-toc-modified-id=\"%-格式化-7.1\"><span class=\"toc-item-num\">7.1&nbsp;&nbsp;</span>% 格式化</a></span></li><li><span><a href=\"#str.format-格式化\" data-toc-modified-id=\"str.format-格式化-7.2\"><span class=\"toc-item-num\">7.2&nbsp;&nbsp;</span>str.format 格式化</a></span></li><li><span><a href=\"#f-string-格式化\" data-toc-modified-id=\"f-string-格式化-7.3\"><span class=\"toc-item-num\">7.3&nbsp;&nbsp;</span>f-string 格式化</a></span></li></ul></li></ul></div>"
   ]
  },
  {
   "cell_type": "markdown",
   "metadata": {},
   "source": [
    "python中的字符串实际上是一个序列，这基本上意味着Python会按序列跟踪字符串中的每个元素。例如，Python将字符串“ hello”理解为按特定顺序排列的字母序列，这意味着我们将能够使用索引来获取特定的字母（例如第一个字母或最后一个字母）。"
   ]
  },
  {
   "cell_type": "markdown",
   "metadata": {},
   "source": [
    "## 创建字符串"
   ]
  },
  {
   "cell_type": "markdown",
   "metadata": {},
   "source": [
    "字符串是 Python 中最常用的数据类型。我们可以使用引号( ' 或 \" )来创建字符串。"
   ]
  },
  {
   "cell_type": "code",
   "execution_count": 1,
   "metadata": {},
   "outputs": [
    {
     "data": {
      "text/plain": [
       "'hello'"
      ]
     },
     "execution_count": 1,
     "metadata": {},
     "output_type": "execute_result"
    }
   ],
   "source": [
    "'hello'"
   ]
  },
  {
   "cell_type": "code",
   "execution_count": 2,
   "metadata": {},
   "outputs": [
    {
     "data": {
      "text/plain": [
       "'this is a dog'"
      ]
     },
     "execution_count": 2,
     "metadata": {},
     "output_type": "execute_result"
    }
   ],
   "source": [
    "\"this is a dog\""
   ]
  },
  {
   "cell_type": "markdown",
   "metadata": {},
   "source": [
    "## 打印字符串"
   ]
  },
  {
   "cell_type": "markdown",
   "metadata": {},
   "source": [
    "使用Jupyter Notebook在单元格中仅包含一个字符串将自动输出字符串，但是在输出中显示字符串的正确方法是使用打印功能。"
   ]
  },
  {
   "cell_type": "code",
   "execution_count": 3,
   "metadata": {},
   "outputs": [
    {
     "data": {
      "text/plain": [
       "'Hello World'"
      ]
     },
     "execution_count": 3,
     "metadata": {},
     "output_type": "execute_result"
    }
   ],
   "source": [
    "'Hello World'"
   ]
  },
  {
   "cell_type": "code",
   "execution_count": 4,
   "metadata": {},
   "outputs": [
    {
     "data": {
      "text/plain": [
       "'Hello World 2'"
      ]
     },
     "execution_count": 4,
     "metadata": {},
     "output_type": "execute_result"
    }
   ],
   "source": [
    "'Hello World 1'\n",
    "'Hello World 2'"
   ]
  },
  {
   "cell_type": "markdown",
   "metadata": {},
   "source": [
    "打印语句来打印字符串。"
   ]
  },
  {
   "cell_type": "code",
   "execution_count": 5,
   "metadata": {},
   "outputs": [
    {
     "name": "stdout",
     "output_type": "stream",
     "text": [
      "Hello World 1\n",
      "Hello World 2\n",
      "Use \n",
      " to print a new line\n",
      "\n",
      "\n",
      "See what I mean?\n"
     ]
    }
   ],
   "source": [
    "print('Hello World 1')\n",
    "print('Hello World 2')\n",
    "print('Use \\n to print a new line')\n",
    "print('\\n')\n",
    "print('See what I mean?')"
   ]
  },
  {
   "cell_type": "markdown",
   "metadata": {},
   "source": [
    "## 字符串索引和切片"
   ]
  },
  {
   "cell_type": "markdown",
   "metadata": {},
   "source": [
    "Python中，使用内置 len（）函数对字符串中的所有字符进行计数，包括空格和标点符号。\n",
    "\n",
    "Python中，在对象后使用方括号 []  来调用其索引。Python的索引从0开始。\n",
    "\n",
    "python中，使用冒号： 执行切片，将所有内容抓取到指定点，切片中左侧包含右侧不包含。"
   ]
  },
  {
   "cell_type": "code",
   "execution_count": 6,
   "metadata": {},
   "outputs": [],
   "source": [
    "s = 'Hello World'"
   ]
  },
  {
   "cell_type": "code",
   "execution_count": 7,
   "metadata": {},
   "outputs": [
    {
     "data": {
      "text/plain": [
       "'Hello World'"
      ]
     },
     "execution_count": 7,
     "metadata": {},
     "output_type": "execute_result"
    }
   ],
   "source": [
    "s"
   ]
  },
  {
   "cell_type": "code",
   "execution_count": 8,
   "metadata": {},
   "outputs": [
    {
     "name": "stdout",
     "output_type": "stream",
     "text": [
      "Hello World\n"
     ]
    }
   ],
   "source": [
    "print(s)"
   ]
  },
  {
   "cell_type": "code",
   "execution_count": 9,
   "metadata": {},
   "outputs": [
    {
     "data": {
      "text/plain": [
       "'H'"
      ]
     },
     "execution_count": 9,
     "metadata": {},
     "output_type": "execute_result"
    }
   ],
   "source": [
    "s[0]"
   ]
  },
  {
   "cell_type": "code",
   "execution_count": 10,
   "metadata": {},
   "outputs": [
    {
     "data": {
      "text/plain": [
       "'e'"
      ]
     },
     "execution_count": 10,
     "metadata": {},
     "output_type": "execute_result"
    }
   ],
   "source": [
    "s[1]"
   ]
  },
  {
   "cell_type": "code",
   "execution_count": 11,
   "metadata": {},
   "outputs": [
    {
     "data": {
      "text/plain": [
       "'l'"
      ]
     },
     "execution_count": 11,
     "metadata": {},
     "output_type": "execute_result"
    }
   ],
   "source": [
    "s[2]"
   ]
  },
  {
   "cell_type": "code",
   "execution_count": 12,
   "metadata": {},
   "outputs": [
    {
     "data": {
      "text/plain": [
       "'ello World'"
      ]
     },
     "execution_count": 12,
     "metadata": {},
     "output_type": "execute_result"
    }
   ],
   "source": [
    "s[1:]   # : 冒号切片；左包含右不包含"
   ]
  },
  {
   "cell_type": "code",
   "execution_count": 13,
   "metadata": {},
   "outputs": [
    {
     "data": {
      "text/plain": [
       "'Hel'"
      ]
     },
     "execution_count": 13,
     "metadata": {},
     "output_type": "execute_result"
    }
   ],
   "source": [
    "s[:3]"
   ]
  },
  {
   "cell_type": "code",
   "execution_count": 14,
   "metadata": {},
   "outputs": [
    {
     "data": {
      "text/plain": [
       "'Hello Worl'"
      ]
     },
     "execution_count": 14,
     "metadata": {},
     "output_type": "execute_result"
    }
   ],
   "source": [
    "s[:-1]"
   ]
  },
  {
   "cell_type": "markdown",
   "metadata": {},
   "source": [
    "还可以使用索引和切片表示法以指定的步长（默认值为1）抓取序列中的元素。例如，我们可以连续使用两个冒号，然后使用一个数字指定抓取元素的频率。例如："
   ]
  },
  {
   "cell_type": "code",
   "execution_count": 15,
   "metadata": {},
   "outputs": [
    {
     "data": {
      "text/plain": [
       "'Hello World'"
      ]
     },
     "execution_count": 15,
     "metadata": {},
     "output_type": "execute_result"
    }
   ],
   "source": [
    "s[::1]"
   ]
  },
  {
   "cell_type": "code",
   "execution_count": 16,
   "metadata": {},
   "outputs": [
    {
     "data": {
      "text/plain": [
       "'HloWrd'"
      ]
     },
     "execution_count": 16,
     "metadata": {},
     "output_type": "execute_result"
    }
   ],
   "source": [
    "s[::2]"
   ]
  },
  {
   "cell_type": "code",
   "execution_count": 17,
   "metadata": {},
   "outputs": [
    {
     "data": {
      "text/plain": [
       "'dlroW olleH'"
      ]
     },
     "execution_count": 17,
     "metadata": {},
     "output_type": "execute_result"
    }
   ],
   "source": [
    "s[::-1]    # 可以实现元素倒序"
   ]
  },
  {
   "cell_type": "markdown",
   "metadata": {},
   "source": [
    "## 字符串属性"
   ]
  },
  {
   "cell_type": "markdown",
   "metadata": {},
   "source": [
    "字符串具有重要的特性，称为不可变性。意味着一旦创建了字符串，就不能更改或替换其中的元素。"
   ]
  },
  {
   "cell_type": "code",
   "execution_count": 2,
   "metadata": {},
   "outputs": [
    {
     "ename": "NameError",
     "evalue": "name 's' is not defined",
     "output_type": "error",
     "traceback": [
      "\u001b[1;31m---------------------------------------------------------------------------\u001b[0m",
      "\u001b[1;31mNameError\u001b[0m                                 Traceback (most recent call last)",
      "\u001b[1;32m<ipython-input-2-ded5ba42480f>\u001b[0m in \u001b[0;36m<module>\u001b[1;34m\u001b[0m\n\u001b[1;32m----> 1\u001b[1;33m \u001b[0ms\u001b[0m\u001b[1;33m\u001b[0m\u001b[1;33m\u001b[0m\u001b[0m\n\u001b[0m",
      "\u001b[1;31mNameError\u001b[0m: name 's' is not defined"
     ]
    }
   ],
   "source": [
    "s"
   ]
  },
  {
   "cell_type": "code",
   "execution_count": 19,
   "metadata": {},
   "outputs": [
    {
     "ename": "TypeError",
     "evalue": "'str' object does not support item assignment",
     "output_type": "error",
     "traceback": [
      "\u001b[1;31m---------------------------------------------------------------------------\u001b[0m",
      "\u001b[1;31mTypeError\u001b[0m                                 Traceback (most recent call last)",
      "\u001b[1;32m<ipython-input-19-31a09f3e58d5>\u001b[0m in \u001b[0;36m<module>\u001b[1;34m\u001b[0m\n\u001b[1;32m----> 1\u001b[1;33m \u001b[0ms\u001b[0m\u001b[1;33m[\u001b[0m\u001b[1;36m0\u001b[0m\u001b[1;33m]\u001b[0m\u001b[1;33m=\u001b[0m\u001b[1;34m'x'\u001b[0m\u001b[1;33m\u001b[0m\u001b[1;33m\u001b[0m\u001b[0m\n\u001b[0m",
      "\u001b[1;31mTypeError\u001b[0m: 'str' object does not support item assignment"
     ]
    }
   ],
   "source": [
    "s[0]='x'"
   ]
  },
  {
   "cell_type": "markdown",
   "metadata": {},
   "source": [
    "字符串连接"
   ]
  },
  {
   "cell_type": "code",
   "execution_count": 1,
   "metadata": {},
   "outputs": [
    {
     "ename": "NameError",
     "evalue": "name 's' is not defined",
     "output_type": "error",
     "traceback": [
      "\u001b[1;31m---------------------------------------------------------------------------\u001b[0m",
      "\u001b[1;31mNameError\u001b[0m                                 Traceback (most recent call last)",
      "\u001b[1;32m<ipython-input-1-8c816aad5807>\u001b[0m in \u001b[0;36m<module>\u001b[1;34m\u001b[0m\n\u001b[1;32m----> 1\u001b[1;33m \u001b[0ms\u001b[0m \u001b[1;33m+\u001b[0m\u001b[1;34m' 连接我'\u001b[0m\u001b[1;33m\u001b[0m\u001b[1;33m\u001b[0m\u001b[0m\n\u001b[0m",
      "\u001b[1;31mNameError\u001b[0m: name 's' is not defined"
     ]
    }
   ],
   "source": [
    "s +' 连接我'"
   ]
  },
  {
   "cell_type": "code",
   "execution_count": null,
   "metadata": {},
   "outputs": [],
   "source": [
    "s = s + ' 连接我'"
   ]
  },
  {
   "cell_type": "code",
   "execution_count": null,
   "metadata": {},
   "outputs": [],
   "source": [
    "print(s)"
   ]
  },
  {
   "cell_type": "markdown",
   "metadata": {},
   "source": [
    "使用乘法号来创建重复"
   ]
  },
  {
   "cell_type": "code",
   "execution_count": null,
   "metadata": {},
   "outputs": [],
   "source": [
    "www = 'z'"
   ]
  },
  {
   "cell_type": "code",
   "execution_count": null,
   "metadata": {},
   "outputs": [],
   "source": [
    "www * 5"
   ]
  },
  {
   "cell_type": "markdown",
   "metadata": {},
   "source": [
    "## 字符串内建函数"
   ]
  },
  {
   "cell_type": "markdown",
   "metadata": {},
   "source": [
    "Python中的对象通常具有内置方法。这些方法是对象内部的函数，它们可以对对象本身执行操作或命令。\n",
    "\n",
    "我们先用句点然后再用方法名称来调用方法。方法的形式为：\n",
    "\n",
    "object.method（参数）\n",
    "\n",
    "如果参数是多余的参数，我们可以将其传递给方法。"
   ]
  },
  {
   "cell_type": "code",
   "execution_count": null,
   "metadata": {},
   "outputs": [],
   "source": [
    "s = 'Hello World'"
   ]
  },
  {
   "cell_type": "code",
   "execution_count": null,
   "metadata": {},
   "outputs": [],
   "source": [
    "s"
   ]
  },
  {
   "cell_type": "code",
   "execution_count": null,
   "metadata": {},
   "outputs": [],
   "source": [
    "s.upper() # 全部变大写"
   ]
  },
  {
   "cell_type": "code",
   "execution_count": null,
   "metadata": {},
   "outputs": [],
   "source": [
    "s.lower()   # 全部变小写"
   ]
  },
  {
   "cell_type": "code",
   "execution_count": null,
   "metadata": {},
   "outputs": [],
   "source": [
    "s.split()    # 默认以空格作为分隔符，进行切片"
   ]
  },
  {
   "cell_type": "code",
   "execution_count": null,
   "metadata": {},
   "outputs": [],
   "source": [
    "s.split(o)  # 自定义分隔符要用单引号，否则报错未定义"
   ]
  },
  {
   "cell_type": "code",
   "execution_count": null,
   "metadata": {},
   "outputs": [],
   "source": [
    "s.split('o')   # 以字符'o' ，为分隔符进行切片，并以列表的形式展现"
   ]
  },
  {
   "cell_type": "markdown",
   "metadata": {},
   "source": [
    "| 序号 | 方法及描述                                                   |\n",
    "| :--- | :----------------------------------------------------------- |\n",
    "| 1    | [capitalize()] 将字符串的第一个字符转换为大写                |\n",
    "| 2    | [center(width, fillchar)]返回一个指定的宽度 width 居中的字符串，fillchar 为填充的字符，默认为空格。 |\n",
    "| 3    | [count(str, beg= 0,end=len(string))] 返回 str 在 string 里面出现的次数，如果 beg 或者 end 指定则返回指定范围内 str 出现的次数 |\n",
    "| 4    | [bytes.decode(encoding=\"utf-8\", errors=\"strict\")] Python3 中没有 decode 方法，但我们可以使用 bytes 对象的 decode() 方法来解码给定的 bytes 对象，这个 bytes 对象可以由 str.encode() 来编码返回。 |\n",
    "| 5    | [encode(encoding='UTF-8',errors='strict')] 以 encoding 指定的编码格式编码字符串，如果出错默认报一个ValueError 的异常，除非 errors 指定的是'ignore'或者'replace' |\n",
    "| 6    | [endswith(suffix, beg=0, end=len(string))] 检查字符串是否以 obj 结束，如果beg 或者 end 指定则检查指定的范围内是否以 obj 结束，如果是，返回 True,否则返回 False. |\n",
    "| 7    | [expandtabs(tabsize=8)] 把字符串 string 中的 tab 符号转为空格，tab 符号默认的空格数是 8 。 |\n",
    "| 8    | [find(str, beg=0, end=len(string))] 检测 str 是否包含在字符串中，如果指定范围 beg 和 end ，则检查是否包含在指定范围内，如果包含返回开始的索引值，否则返回-1 |\n",
    "| 9    | [index(str, beg=0, end=len(string))] 跟find()方法一样，只不过如果str不在字符串中会报一个异常. |\n",
    "| 10   | [isalnum()] 如果字符串至少有一个字符并且所有字符都是字母或数字则返 回 True,否则返回 False |\n",
    "| 11   | [isalpha()] 如果字符串至少有一个字符并且所有字符都是字母则返回 True, 否则返回 False |\n",
    "| 12   | [isdigit()] 如果字符串只包含数字则返回 True 否则返回 False.. |\n",
    "| 13   | [islower()] 如果字符串中包含至少一个区分大小写的字符，并且所有这些(区分大小写的)字符都是小写，则返回 True，否则返回 False |\n",
    "| 14   | [isnumeric()] 如果字符串中只包含数字字符，则返回 True，否则返回 False |\n",
    "| 15   | [isspace()] 如果字符串中只包含空白，则返回 True，否则返回 False. |\n",
    "| 16   | [istitle()] 如果字符串是标题化的(见 title())则返回 True，否则返回 False |\n",
    "| 17   | [isupper()] 如果字符串中包含至少一个区分大小写的字符，并且所有这些(区分大小写的)字符都是大写，则返回 True，否则返回 False |\n",
    "| 18   | [join(seq)] 以指定字符串作为分隔符，将 seq 中所有的元素(的字符串表示)合并为一个新的字符串 |\n",
    "| 19   | [len(string)] 返回字符串长度 |\n",
    "| 20   | [ljust(width[, fillchar\\])] 返回一个原字符串左对齐,并使用 fillchar 填充至长度 width 的新字符串，fillchar 默认为空格。 |\n",
    "| 21   | [lower()] 转换字符串中所有大写字符为小写. |\n",
    "| 22   | [lstrip()] 截掉字符串左边的空格或指定字符。 |\n",
    "| 23   | [maketrans()] 创建字符映射的转换表，对于接受两个参数的最简单的调用方式，第一个参数是字符串，表示需要转换的字符，第二个参数也是字符串表示转换的目标。 |\n",
    "| 24   | [max(str)] 返回字符串 str 中最大的字母。 |\n",
    "| 25   | [min(str)] 返回字符串 str 中最小的字母。 |\n",
    "| 26   | [replace(old, new [, max\\])] 把 将字符串中的 str1 替换成 str2,如果 max 指定，则替换不超过 max 次。 |\n",
    "| 27   | [rfind(str, beg=0,end=len(string))] 类似于 find()函数，不过是从右边开始查找. |\n",
    "| 28   | [rindex( str, beg=0, end=len(string))] 类似于 index()，不过是从右边开始. |\n",
    "| 29   | [rjust(width,[, fillchar\\])] 返回一个原字符串右对齐,并使用fillchar(默认空格）填充至长度 width 的新字符串 |\n",
    "| 30   | [rstrip()] 删除字符串字符串末尾的空格. |\n",
    "| 31   | [split(str=\"\", num=string.count(str))] num=string.count(str)) 以 str 为分隔符截取字符串，如果 num 有指定值，则仅截取 num+1 个子字符串 |\n",
    "| 32   | [splitlines([keepends\\])] 按照行('\\r', '\\r\\n', \\n')分隔，返回一个包含各行作为元素的列表，如果参数 keepends 为 False，不包含换行符，如果为 True，则保留换行符。 |\n",
    "| 33   | [startswith(substr, beg=0,end=len(string))] 检查字符串是否是以指定子字符串 substr 开头，是则返回 True，否则返回 False。如果beg 和 end 指定值，则在指定范围内检查。 |\n",
    "| 34   | [strip([chars\\])] 在字符串上执行 lstrip()和 rstrip() |\n",
    "| 35   | [swapcase()] 将字符串中大写转换为小写，小写转换为大写 |\n",
    "| 36   | [title()] 返回\"标题化\"的字符串,就是说所有单词都是以大写开始，其余字母均为小写(见 istitle()) |\n",
    "| 37   | [translate(table, deletechars=\"\")] 根据 str 给出的表(包含 256 个字符)转换 string 的字符, 要过滤掉的字符放到 deletechars 参数中 |\n",
    "| 38   | [upper()] 转换字符串中的小写字母为大写 |\n",
    "| 39   | [zfill (width)] 返回长度为 width 的字符串，原字符串右对齐，前面填充0 |\n",
    "| 40   | [isdecimal()] 检查字符串是否只包含十进制字符，如果是返回 true，否则返回 false。 |"
   ]
  },
  {
   "cell_type": "markdown",
   "metadata": {},
   "source": [
    "## 字符串运算符"
   ]
  },
  {
   "cell_type": "markdown",
   "metadata": {},
   "source": [
    "| 操作符 | 描述                                                         | 实例                            |\n",
    "| :----- | :----------------------------------------------------------- | :------------------------------ |\n",
    "| +      | 字符串连接                                                   | a + b 输出结果： HelloPython    |\n",
    "| *      | 重复输出字符串                                               | a*2 输出结果：HelloHello        |\n",
    "| []     | 通过索引获取字符串中字符                                     | a[1] 输出结果 **e**             |\n",
    "| [ : ]  | 截取字符串中的一部分，遵循**左闭右开**原则，str[0:2] 是不包含第 3 个字符的。 | a[1:4] 输出结果 **ell**         |\n",
    "| in     | 成员运算符 - 如果字符串中包含给定的字符返回 True             | **'H' in a** 输出结果 True      |\n",
    "| not in | 成员运算符 - 如果字符串中不包含给定的字符返回 True           | **'M' not in a** 输出结果 True  |\n",
    "| r/R    | 原始字符串 - 原始字符串：所有的字符串都是直接按照字面的意思来使用，没有转义特殊或不能打印的字符。 原始字符串除在字符串的第一个引号前加上字母 **r**（可以大小写）以外，与普通字符串有着几乎完全相同的语法。 | `print( r'\\n' ) print( R'\\n' )` |\n",
    "| %      | 格式字符串                                                   | 请看下一节内容。                |\n",
    "\n"
   ]
  },
  {
   "cell_type": "markdown",
   "metadata": {},
   "source": [
    "示例："
   ]
  },
  {
   "cell_type": "code",
   "execution_count": null,
   "metadata": {},
   "outputs": [],
   "source": [
    "a = 'hello'\n",
    "b = 'python'"
   ]
  },
  {
   "cell_type": "code",
   "execution_count": null,
   "metadata": {},
   "outputs": [],
   "source": [
    "print('a + b : ', a + b)"
   ]
  },
  {
   "cell_type": "code",
   "execution_count": null,
   "metadata": {},
   "outputs": [],
   "source": [
    "print('a * 2 : ', a * 2)"
   ]
  },
  {
   "cell_type": "code",
   "execution_count": null,
   "metadata": {},
   "outputs": [],
   "source": [
    "print(\"a[1] : \", a[1])"
   ]
  },
  {
   "cell_type": "code",
   "execution_count": null,
   "metadata": {},
   "outputs": [],
   "source": [
    "print(\"a[1:4] : \", a[1:4])"
   ]
  },
  {
   "cell_type": "code",
   "execution_count": null,
   "metadata": {},
   "outputs": [],
   "source": [
    "if (\"e\" in a) :\n",
    "    print(\"e 在变量 a 中\")\n",
    "else :\n",
    "    print(\"e 不在变量 a 中\")"
   ]
  },
  {
   "cell_type": "code",
   "execution_count": null,
   "metadata": {},
   "outputs": [],
   "source": [
    "if (\"n\" not in a) :\n",
    "    print(\"n 不在变量 a 中\")\n",
    "else :\n",
    "    print(\"n 在变量 a 中\")"
   ]
  },
  {
   "cell_type": "code",
   "execution_count": null,
   "metadata": {},
   "outputs": [],
   "source": [
    "print(r'\\n')"
   ]
  },
  {
   "cell_type": "markdown",
   "metadata": {},
   "source": [
    "## 字符串格式化"
   ]
  },
  {
   "cell_type": "markdown",
   "metadata": {},
   "source": [
    "在 Python 中，提供了很多种字符串格式化的方式，分别是 %-formatting、str.format 和 f-string（python3.6引入） 。"
   ]
  },
  {
   "cell_type": "markdown",
   "metadata": {},
   "source": [
    "### % 格式化"
   ]
  },
  {
   "cell_type": "markdown",
   "metadata": {},
   "source": [
    "这种格式化方式来自于 C 语言风格的 sprintf 形式："
   ]
  },
  {
   "cell_type": "code",
   "execution_count": null,
   "metadata": {},
   "outputs": [],
   "source": [
    "print(\"I'm going to inject %s here.\" %'something')"
   ]
  },
  {
   "cell_type": "markdown",
   "metadata": {},
   "source": [
    "多个内容放 % 后的元祖进行传递："
   ]
  },
  {
   "cell_type": "code",
   "execution_count": null,
   "metadata": {},
   "outputs": [],
   "source": [
    "print(\"I'm going to inject %s text here,and %s text here.\" %('some','more'))"
   ]
  },
  {
   "cell_type": "markdown",
   "metadata": {},
   "source": [
    "传递变量名称："
   ]
  },
  {
   "cell_type": "code",
   "execution_count": null,
   "metadata": {},
   "outputs": [],
   "source": [
    "x,y = 'some', 'more'"
   ]
  },
  {
   "cell_type": "code",
   "execution_count": null,
   "metadata": {},
   "outputs": [],
   "source": [
    "print(\"I'm going to inject %s text here, and %s text here.\" %(x,y))"
   ]
  },
  {
   "cell_type": "markdown",
   "metadata": {},
   "source": [
    "如果字符串较长或较多的参数，那么可读性就变得很差。"
   ]
  },
  {
   "cell_type": "markdown",
   "metadata": {},
   "source": [
    "%s 和 %r 格式化的区别："
   ]
  },
  {
   "cell_type": "markdown",
   "metadata": {},
   "source": [
    "%s    字符串 (采用str()的显示)\n",
    "\n",
    "%r    字符串 (采用repr()的显示)"
   ]
  },
  {
   "cell_type": "code",
   "execution_count": null,
   "metadata": {},
   "outputs": [],
   "source": [
    "print('he said his name was %s.' %'Snow')"
   ]
  },
  {
   "cell_type": "code",
   "execution_count": null,
   "metadata": {},
   "outputs": [],
   "source": [
    "print('he said his name was %r.' %'Snow')    # %r 给字符串加了单引号"
   ]
  },
  {
   "cell_type": "code",
   "execution_count": null,
   "metadata": {},
   "outputs": [],
   "source": [
    "print('I once caught a fish %s.' %'this \\tbig')"
   ]
  },
  {
   "cell_type": "code",
   "execution_count": null,
   "metadata": {},
   "outputs": [],
   "source": [
    "print('I once caught a fish %r.' %'this \\tbig')"
   ]
  },
  {
   "cell_type": "code",
   "execution_count": null,
   "metadata": {},
   "outputs": [],
   "source": [
    "import datetime \n",
    "d = datetime.date.today()"
   ]
  },
  {
   "cell_type": "code",
   "execution_count": null,
   "metadata": {},
   "outputs": [],
   "source": [
    "print(\"%s\" % d)\n",
    "print(\"%r\" % d)      # %r打印时能够重现它所代表的对象(rper() unambiguously recreate the object it represents)"
   ]
  },
  {
   "cell_type": "markdown",
   "metadata": {},
   "source": [
    "### str.format 格式化"
   ]
  },
  {
   "cell_type": "markdown",
   "metadata": {},
   "source": [
    ".format() 比 %s 占位符有很多优点"
   ]
  },
  {
   "cell_type": "code",
   "execution_count": null,
   "metadata": {},
   "outputs": [],
   "source": [
    "print('the {2} {1} {0}' .format('fox','brown','quick'))  # 可以通过索引位置插入对象"
   ]
  },
  {
   "cell_type": "code",
   "execution_count": null,
   "metadata": {},
   "outputs": [],
   "source": [
    "print('First Object: {a}, Second Object: {b}, Third Object: {c}' .format(a=1,b='Two',c=12.3))  # 可以为插入的对象分配关键字"
   ]
  },
  {
   "cell_type": "code",
   "execution_count": null,
   "metadata": {},
   "outputs": [],
   "source": [
    "print('A %s saved is a %s earned.' %('penny','penny'))"
   ]
  },
  {
   "cell_type": "code",
   "execution_count": null,
   "metadata": {},
   "outputs": [],
   "source": [
    "print('A {p} saved is a {p} earned.' .format(p='penny'))    # 插入的对象可以重复使用"
   ]
  },
  {
   "cell_type": "markdown",
   "metadata": {},
   "source": [
    "对齐、填充和精度"
   ]
  },
  {
   "cell_type": "markdown",
   "metadata": {},
   "source": [
    "在花括号内，您可以分配字段长度，左/右对齐，舍入参数等："
   ]
  },
  {
   "cell_type": "code",
   "execution_count": null,
   "metadata": {},
   "outputs": [],
   "source": [
    "print('{0:8} | {1:9}'.format('Fruit', 'Quantity'))\n",
    "print('{0:8} | {1:9}'.format('Apples', 3.))\n",
    "print('{0:8} | {1:9}'.format('Oranges', 10))"
   ]
  },
  {
   "cell_type": "markdown",
   "metadata": {},
   "source": [
    "默认情况下，.format()文本左对齐，数字右对齐。您可以传递可选的<，^或>设置左对齐，居中对齐或右对齐："
   ]
  },
  {
   "cell_type": "code",
   "execution_count": null,
   "metadata": {},
   "outputs": [],
   "source": [
    "print('{0:<8} | {1:^8} | {2:>8}'.format('Left','Center','Right'))\n",
    "print('{0:<8} | {1:^8} | {2:>8}'.format(11,22,33))"
   ]
  },
  {
   "cell_type": "markdown",
   "metadata": {},
   "source": [
    "有关字符串.format()方法的更多信息，请访问https://docs.python.org/3/library/string.html#formatstrings"
   ]
  },
  {
   "cell_type": "markdown",
   "metadata": {},
   "source": [
    "### f-string 格式化"
   ]
  },
  {
   "cell_type": "markdown",
   "metadata": {},
   "source": [
    "`f-string`格式化在Python 3.6中引入的，与上述较旧的`.format()`字符串方法相比，它具有许多优点。首先，您可以将外部变量立即带入字符串，而不必将其作为参数传递给`.format(var)`。"
   ]
  },
  {
   "cell_type": "code",
   "execution_count": null,
   "metadata": {},
   "outputs": [],
   "source": [
    "name='fred'"
   ]
  },
  {
   "cell_type": "code",
   "execution_count": null,
   "metadata": {},
   "outputs": [],
   "source": [
    "print(f\"he said his name is {name}\")"
   ]
  },
  {
   "cell_type": "markdown",
   "metadata": {},
   "source": [
    "传递 `!r` 以获取字符串表示形式："
   ]
  },
  {
   "cell_type": "code",
   "execution_count": null,
   "metadata": {},
   "outputs": [],
   "source": [
    "print(f\"he said his name is {name!r}\")    # 输出内容加上了单引号"
   ]
  },
  {
   "cell_type": "markdown",
   "metadata": {},
   "source": [
    "浮点格式如下 `\"result: {value:{width}.{precision}}\"`"
   ]
  },
  {
   "cell_type": "markdown",
   "metadata": {},
   "source": [
    "使用 `.format()` 表示 `{value:10.4f}`,  使用 `f-strings` 表示 `{value:{10}.{6}}`"
   ]
  },
  {
   "cell_type": "code",
   "execution_count": null,
   "metadata": {},
   "outputs": [],
   "source": [
    "num = 23.45678"
   ]
  },
  {
   "cell_type": "code",
   "execution_count": null,
   "metadata": {},
   "outputs": [],
   "source": [
    "print(\"My 10 character, four decimal number is:{0:10.4f}\".format(num))\n",
    "print(f\"My 10 character, four decimal number is:{num:{10}.{6}}\")"
   ]
  },
  {
   "cell_type": "markdown",
   "metadata": {},
   "source": [
    "请注意，对于`f-strings`，精度是指总位数，而不仅仅是小数点后的位数。这与科学记数法和统计分析更加吻合。不幸的是，即使精度允许，f-strings也不会填充到小数点右边："
   ]
  },
  {
   "cell_type": "code",
   "execution_count": null,
   "metadata": {},
   "outputs": [],
   "source": [
    "num = 23.45"
   ]
  },
  {
   "cell_type": "code",
   "execution_count": null,
   "metadata": {},
   "outputs": [],
   "source": [
    "print(\"My 10 character, four decimal number is:{0:10.4f}\".format(num))\n",
    "print(f\"My 10 character, four decimal number is:{num:{10}.{6}}\")"
   ]
  },
  {
   "cell_type": "markdown",
   "metadata": {},
   "source": [
    "如果精确度很重要，`f-strings`也可以用`.format()`的方式表示："
   ]
  },
  {
   "cell_type": "code",
   "execution_count": null,
   "metadata": {},
   "outputs": [],
   "source": [
    "num = 23.45"
   ]
  },
  {
   "cell_type": "code",
   "execution_count": null,
   "metadata": {},
   "outputs": [],
   "source": [
    "print(\"My 10 character, four decimal number is:{0:10.4f}\".format(num))\n",
    "print(f\"My 10 character, four decimal number is:{num:10.4f}\")"
   ]
  },
  {
   "cell_type": "markdown",
   "metadata": {},
   "source": [
    "有关格式化字符串文字的更多信息，请访问https://docs.python.org/3/reference/lexical_analysis.html#f-strings"
   ]
  }
 ],
 "metadata": {
  "kernelspec": {
   "display_name": "Python 3",
   "language": "python",
   "name": "python3"
  },
  "language_info": {
   "codemirror_mode": {
    "name": "ipython",
    "version": 3
   },
   "file_extension": ".py",
   "mimetype": "text/x-python",
   "name": "python",
   "nbconvert_exporter": "python",
   "pygments_lexer": "ipython3",
   "version": "3.8.3"
  },
  "toc": {
   "base_numbering": 1,
   "nav_menu": {
    "height": "111px",
    "width": "165px"
   },
   "number_sections": true,
   "sideBar": true,
   "skip_h1_title": true,
   "title_cell": "04-python中字符串(Strings)",
   "title_sidebar": "Contents",
   "toc_cell": true,
   "toc_position": {
    "height": "calc(100% - 180px)",
    "left": "10px",
    "top": "150px",
    "width": "214px"
   },
   "toc_section_display": true,
   "toc_window_display": true
  }
 },
 "nbformat": 4,
 "nbformat_minor": 4
}
