{
 "cells": [
  {
   "cell_type": "markdown",
   "metadata": {
    "toc": true
   },
   "source": [
    "<h1>01-python运算符<span class=\"tocSkip\"></span></h1>\n",
    "<div class=\"toc\"><ul class=\"toc-item\"><li><span><a href=\"#python算术运算符\" data-toc-modified-id=\"python算术运算符-1\"><span class=\"toc-item-num\">1&nbsp;&nbsp;</span>python算术运算符</a></span></li><li><span><a href=\"#python比较运算符\" data-toc-modified-id=\"python比较运算符-2\"><span class=\"toc-item-num\">2&nbsp;&nbsp;</span>python比较运算符</a></span></li><li><span><a href=\"#python赋值运算符\" data-toc-modified-id=\"python赋值运算符-3\"><span class=\"toc-item-num\">3&nbsp;&nbsp;</span>python赋值运算符</a></span></li><li><span><a href=\"#python位运算符\" data-toc-modified-id=\"python位运算符-4\"><span class=\"toc-item-num\">4&nbsp;&nbsp;</span>python位运算符</a></span></li><li><span><a href=\"#python逻辑运算符\" data-toc-modified-id=\"python逻辑运算符-5\"><span class=\"toc-item-num\">5&nbsp;&nbsp;</span>python逻辑运算符</a></span></li><li><span><a href=\"#python成员运算符\" data-toc-modified-id=\"python成员运算符-6\"><span class=\"toc-item-num\">6&nbsp;&nbsp;</span>python成员运算符</a></span></li><li><span><a href=\"#python身份运算符\" data-toc-modified-id=\"python身份运算符-7\"><span class=\"toc-item-num\">7&nbsp;&nbsp;</span>python身份运算符</a></span></li><li><span><a href=\"#python运算符优先级\" data-toc-modified-id=\"python运算符优先级-8\"><span class=\"toc-item-num\">8&nbsp;&nbsp;</span>python运算符优先级</a></span></li></ul></div>"
   ]
  },
  {
   "cell_type": "markdown",
   "metadata": {},
   "source": [
    "## python算术运算符"
   ]
  },
  {
   "cell_type": "markdown",
   "metadata": {},
   "source": [
    "在前面的python的数字中已经介绍。"
   ]
  },
  {
   "cell_type": "markdown",
   "metadata": {},
   "source": [
    "假设变量： a=10，b=20"
   ]
  },
  {
   "cell_type": "markdown",
   "metadata": {},
   "source": [
    "| 运算符 | 描述                                            | 实例                                               |\n",
    "| :----- | :---------------------------------------------- | :------------------------------------------------- |\n",
    "| +      | 加 - 两个对象相加                               | a + b 输出结果 30                                  |\n",
    "| -      | 减 - 得到负数或是一个数减去另一个数             | a - b 输出结果 -10                                 |\n",
    "| *      | 乘 - 两个数相乘或是返回一个被重复若干次的字符串 | a * b 输出结果 200                                 |\n",
    "| /      | 除 - x除以y                                     | b / a 输出结果 2                                   |\n",
    "| %      | 取模 - 返回除法的余数                           | b % a 输出结果 0                                   |\n",
    "| **     | 幂 - 返回x的y次幂                               | a**b 为10的20次方， 输出结果 100000000000000000000 |\n",
    "| //     | 取整除 - 返回商的整数部分（**向下取整**）       | `>>> 9//2 4 >>> -9//2 -5`                          |\n",
    "\n"
   ]
  },
  {
   "cell_type": "code",
   "execution_count": 10,
   "metadata": {},
   "outputs": [
    {
     "name": "stdout",
     "output_type": "stream",
     "text": [
      "a+b :  30\n",
      "a-b :  -10\n",
      "a*b :  200\n",
      "a/b :  0.5\n",
      "b%a :  0\n",
      "a**b :  100000000000000000000\n"
     ]
    }
   ],
   "source": [
    "a = 10\n",
    "b = 20\n",
    "\n",
    "\n",
    "print(\"a+b : \", a+b)\n",
    "print(\"a-b : \", a-b)\n",
    "print(\"a*b : \", a*b)\n",
    "print(\"a/b : \", a/b)\n",
    "print(\"b%a : \", b%a)\n",
    "print(\"a**b : \", a**b)"
   ]
  },
  {
   "cell_type": "markdown",
   "metadata": {},
   "source": [
    "注意：Python2.x 里，整数除整数，只能得出整数。如果要得到小数部分，把其中一个数改成浮点数即可。"
   ]
  },
  {
   "cell_type": "markdown",
   "metadata": {},
   "source": [
    "## python比较运算符"
   ]
  },
  {
   "cell_type": "markdown",
   "metadata": {},
   "source": [
    "假设变量： a=10，b=20"
   ]
  },
  {
   "cell_type": "markdown",
   "metadata": {},
   "source": [
    "| 运算符 | 描述                                                         | 实例                                     |\n",
    "| :----- | :----------------------------------------------------------- | :--------------------------------------- |\n",
    "| ==     | 等于 - 比较对象是否相等                                      | (a == b) 返回 False。                    |\n",
    "| !=     | 不等于 - 比较两个对象是否不相等                              | (a != b) 返回 true.                      |\n",
    "| <>     | 不等于 - 比较两个对象是否不相等。**python3 已废弃。**        | (a <> b) 返回 true。这个运算符类似 != 。 |\n",
    "| >      | 大于 - 返回x是否大于y                                        | (a > b) 返回 False。                     |\n",
    "| <      | 小于 - 返回x是否小于y。所有比较运算符返回1表示真，返回0表示假。这分别与特殊的变量True和False等价。 | (a < b) 返回 true。                      |\n",
    "| >=     | 大于等于 - 返回x是否大于等于y。                              | (a >= b) 返回 False。                    |\n",
    "| <=     | 小于等于 - 返回x是否小于等于y。                              | (a <= b) 返回 true。                     |"
   ]
  },
  {
   "cell_type": "markdown",
   "metadata": {},
   "source": [
    "## python赋值运算符"
   ]
  },
  {
   "cell_type": "markdown",
   "metadata": {},
   "source": [
    "假设变量： a=10，b=20"
   ]
  },
  {
   "cell_type": "markdown",
   "metadata": {},
   "source": [
    "| 运算符 | 描述             | 实例                                  |\n",
    "| :----- | :--------------- | :------------------------------------ |\n",
    "| =      | 简单的赋值运算符 | c = a + b 将 a + b 的运算结果赋值为 c |\n",
    "| +=     | 加法赋值运算符   | c += a 等效于 c = c + a               |\n",
    "| -=     | 减法赋值运算符   | c -= a 等效于 c = c - a               |\n",
    "| *=     | 乘法赋值运算符   | c *= a 等效于 c = c * a               |\n",
    "| /=     | 除法赋值运算符   | c /= a 等效于 c = c / a               |\n",
    "| %=     | 取模赋值运算符   | c %= a 等效于 c = c % a               |\n",
    "| **=    | 幂赋值运算符     | c **= a 等效于 c = c ** a             |\n",
    "| //=    | 取整除赋值运算符 | c //= a 等效于 c = c // a             |"
   ]
  },
  {
   "cell_type": "markdown",
   "metadata": {},
   "source": [
    "## python位运算符"
   ]
  },
  {
   "cell_type": "markdown",
   "metadata": {},
   "source": [
    "按位运算符是把数字看作二进制来进行计算的。Python中的按位运算法则如下：\n",
    "\n",
    "下表中变量 a 为 60，b 为 13，二进制格式如下："
   ]
  },
  {
   "cell_type": "markdown",
   "metadata": {},
   "source": [
    "| 运算符 | 描述                                                         | 实例                                                         |\n",
    "| :----- | :----------------------------------------------------------- | :----------------------------------------------------------- |\n",
    "| &      | 按位与运算符：参与运算的两个值,如果两个相应位都为1,则该位的结果为1,否则为0 | (a & b) 输出结果 12 ，二进制解释： 0000 1100                 |\n",
    "| \\|     | 按位或运算符：只要对应的二个二进位有一个为1时，结果位就为1。 | (a \\| b) 输出结果 61 ，二进制解释： 0011 1101                |\n",
    "| ^      | 按位异或运算符：当两对应的二进位相异时，结果为1              | (a ^ b) 输出结果 49 ，二进制解释： 0011 0001                 |\n",
    "| ~      | 按位取反运算符：对数据的每个二进制位取反,即把1变为0,把0变为1 。**~x** 类似于 **-x-1** | (~a ) 输出结果 -61 ，二进制解释： 1100 0011，在一个有符号二进制数的补码形式。 |\n",
    "| <<     | 左移动运算符：运算数的各二进位全部左移若干位，由 **<<** 右边的数字指定了移动的位数，高位丢弃，低位补0。 | a << 2 输出结果 240 ，二进制解释： 1111 0000                 |\n",
    "| >>     | 右移动运算符：把\">>\"左边的运算数的各二进位全部右移若干位，**>>** 右边的数字指定了移动的位数 | a >> 2 输出结果 15 ，二进制解释： 0000 1111                  |"
   ]
  },
  {
   "cell_type": "markdown",
   "metadata": {},
   "source": [
    "## python逻辑运算符"
   ]
  },
  {
   "cell_type": "markdown",
   "metadata": {},
   "source": [
    "Python语言支持逻辑运算符，以下假设变量 a 为 10, b为 20:"
   ]
  },
  {
   "cell_type": "markdown",
   "metadata": {},
   "source": [
    "| 运算符 | 逻辑表达式 | 描述                                                         | 实例                    |\n",
    "| :----- | :--------- | :----------------------------------------------------------- | :---------------------- |\n",
    "| and    | x and y    | 布尔\"与\" - 如果 x 为 False，x and y 返回 False，否则它返回 y 的计算值。 | (a and b) 返回 20。     |\n",
    "| or     | x or y     | 布尔\"或\" - 如果 x 是非 0，它返回 x 的值，否则它返回 y 的计算值。 | (a or b) 返回 10。      |\n",
    "| not    | not x      | 布尔\"非\" - 如果 x 为 True，返回 False 。如果 x 为 False，它返回 True。 | not(a and b) 返回 False |"
   ]
  },
  {
   "cell_type": "markdown",
   "metadata": {},
   "source": [
    "## python成员运算符"
   ]
  },
  {
   "cell_type": "markdown",
   "metadata": {},
   "source": [
    "Python还支持成员运算符，测试实例中包含了一系列的成员，包括字符串，列表或元组。"
   ]
  },
  {
   "cell_type": "markdown",
   "metadata": {},
   "source": [
    "| 运算符 | 描述                                                    | 实例                                              |\n",
    "| :----- | :------------------------------------------------------ | :------------------------------------------------ |\n",
    "| in     | 如果在指定的序列中找到值返回 True，否则返回 False。     | x 在 y 序列中 , 如果 x 在 y 序列中返回 True。     |\n",
    "| not in | 如果在指定的序列中没有找到值返回 True，否则返回 False。 | x 不在 y 序列中 , 如果 x 不在 y 序列中返回 True。 |"
   ]
  },
  {
   "cell_type": "markdown",
   "metadata": {},
   "source": [
    "## python身份运算符"
   ]
  },
  {
   "cell_type": "markdown",
   "metadata": {},
   "source": [
    "身份运算符用于比较两个对象的存储单元"
   ]
  },
  {
   "cell_type": "markdown",
   "metadata": {},
   "source": [
    "| 运算符 | 描述                                        | 实例                                                         |\n",
    "| :----- | :------------------------------------------ | :----------------------------------------------------------- |\n",
    "| is     | is 是判断两个标识符是不是引用自一个对象     | **x is y**, 类似 **id(x) == id(y)** , 如果引用的是同一个对象则返回 True，否则返回 False |\n",
    "| is not | is not 是判断两个标识符是不是引用自不同对象 | **x is not y** ， 类似 **id(a) != id(b)**。如果引用的不是同一个对象则返回结果 True，否则返回 False。 |"
   ]
  },
  {
   "cell_type": "markdown",
   "metadata": {},
   "source": [
    "注： id() 函数用于获取对象内存地址。"
   ]
  },
  {
   "cell_type": "markdown",
   "metadata": {},
   "source": [
    "## python运算符优先级"
   ]
  },
  {
   "cell_type": "markdown",
   "metadata": {},
   "source": [
    "以下表格列出了从最高到最低优先级的所有运算符："
   ]
  },
  {
   "cell_type": "markdown",
   "metadata": {},
   "source": [
    "\n",
    "| 运算符                   | 描述                                                   |\n",
    "| :----------------------- | :----------------------------------------------------- |\n",
    "| **                       | 指数 (最高优先级)                                      |\n",
    "| ~ + -                    | 按位翻转, 一元加号和减号 (最后两个的方法名为 +@ 和 -@) |\n",
    "| * / % //                 | 乘，除，取模和取整除                                   |\n",
    "| + -                      | 加法减法                                               |\n",
    "| >> <<                    | 右移，左移运算符                                       |\n",
    "| &                        | 位 'AND'                                               |\n",
    "| ^ \\|                     | 位运算符                                               |\n",
    "| <= < > >=                | 比较运算符                                             |\n",
    "| <> == !=                 | 等于运算符                                             |\n",
    "| = %= /= //= -= += *= **= | 赋值运算符                                             |\n",
    "| is is not                | 身份运算符                                             |\n",
    "| in not in                | 成员运算符                                             |\n",
    "| not and or               | 逻辑运算符                                             |"
   ]
  }
 ],
 "metadata": {
  "kernelspec": {
   "display_name": "Python 3",
   "language": "python",
   "name": "python3"
  },
  "language_info": {
   "codemirror_mode": {
    "name": "ipython",
    "version": 3
   },
   "file_extension": ".py",
   "mimetype": "text/x-python",
   "name": "python",
   "nbconvert_exporter": "python",
   "pygments_lexer": "ipython3",
   "version": "3.8.3"
  },
  "toc": {
   "base_numbering": 1,
   "nav_menu": {},
   "number_sections": true,
   "sideBar": true,
   "skip_h1_title": false,
   "title_cell": "01-python运算符",
   "title_sidebar": "Contents",
   "toc_cell": true,
   "toc_position": {},
   "toc_section_display": true,
   "toc_window_display": true
  }
 },
 "nbformat": 4,
 "nbformat_minor": 4
}
