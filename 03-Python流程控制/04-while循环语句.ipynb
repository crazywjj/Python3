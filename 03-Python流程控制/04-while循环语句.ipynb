{
 "cells": [
  {
   "cell_type": "markdown",
   "metadata": {
    "toc": true
   },
   "source": [
    "<h1>04-while循环语句<span class=\"tocSkip\"></span></h1>\n",
    "<div class=\"toc\"><ul class=\"toc-item\"></ul></div>"
   ]
  },
  {
   "cell_type": "markdown",
   "metadata": {},
   "source": [
    "while 循环和 if 条件分支语句类似，即在条件（表达式）为真的情况下，会执行相应的代码块。不同之处在于，只要条件为真，while 就会一直重复执行那段代码块。"
   ]
  },
  {
   "cell_type": "code",
   "execution_count": 4,
   "metadata": {},
   "outputs": [
    {
     "name": "stdout",
     "output_type": "stream",
     "text": [
      "num： 1\n",
      "num： 2\n",
      "num： 3\n",
      "num： 4\n",
      "num： 5\n",
      "num： 6\n",
      "num： 7\n",
      "num： 8\n",
      "num： 9\n",
      "num： 10\n",
      "num： 11\n",
      "num： 12\n",
      "num： 13\n",
      "num： 14\n",
      "num： 15\n",
      "num： 16\n",
      "num： 17\n",
      "num： 18\n",
      "num： 19\n",
      "num： 20\n",
      "num： 21\n",
      "num： 22\n",
      "num： 23\n",
      "num： 24\n",
      "num： 25\n",
      "num： 26\n",
      "num： 27\n",
      "num： 28\n",
      "num： 29\n",
      "num： 30\n",
      "num： 31\n",
      "num： 32\n",
      "num： 33\n",
      "num： 34\n",
      "num： 35\n",
      "num： 36\n",
      "num： 37\n",
      "num： 38\n",
      "num： 39\n",
      "num： 40\n",
      "num： 41\n",
      "num： 42\n",
      "num： 43\n",
      "num： 44\n",
      "num： 45\n",
      "num： 46\n",
      "num： 47\n",
      "num： 48\n",
      "num： 49\n",
      "num： 50\n",
      "num： 51\n",
      "num： 52\n",
      "num： 53\n",
      "num： 54\n",
      "num： 55\n",
      "num： 56\n",
      "num： 57\n",
      "num： 58\n",
      "num： 59\n",
      "num： 60\n",
      "num： 61\n",
      "num： 62\n",
      "num： 63\n",
      "num： 64\n",
      "num： 65\n",
      "num： 66\n",
      "num： 67\n",
      "num： 68\n",
      "num： 69\n",
      "num： 70\n",
      "num： 71\n",
      "num： 72\n",
      "num： 73\n",
      "num： 74\n",
      "num： 75\n",
      "num： 76\n",
      "num： 77\n",
      "num： 78\n",
      "num： 79\n",
      "num： 80\n",
      "num： 81\n",
      "num： 82\n",
      "num： 83\n",
      "num： 84\n",
      "num： 85\n",
      "num： 86\n",
      "num： 87\n",
      "num： 88\n",
      "num： 89\n",
      "num： 90\n",
      "num： 91\n",
      "num： 92\n",
      "num： 93\n",
      "num： 94\n",
      "num： 95\n",
      "num： 96\n",
      "num： 97\n",
      "num： 98\n",
      "num： 99\n",
      "num： 100\n",
      "while循环结束\n"
     ]
    }
   ],
   "source": [
    "# 打印 1~100 的所有数字，就可以使用 while 循环\n",
    "\n",
    "num = 1\n",
    "while num<=100:\n",
    "    print('num：',num)\n",
    "    num+=1\n",
    "print('while循环结束')"
   ]
  }
 ],
 "metadata": {
  "kernelspec": {
   "display_name": "Python 3",
   "language": "python",
   "name": "python3"
  },
  "language_info": {
   "codemirror_mode": {
    "name": "ipython",
    "version": 3
   },
   "file_extension": ".py",
   "mimetype": "text/x-python",
   "name": "python",
   "nbconvert_exporter": "python",
   "pygments_lexer": "ipython3",
   "version": "3.8.3"
  },
  "toc": {
   "base_numbering": 1,
   "nav_menu": {},
   "number_sections": true,
   "sideBar": true,
   "skip_h1_title": false,
   "title_cell": "04-while循环语句",
   "title_sidebar": "Contents",
   "toc_cell": true,
   "toc_position": {},
   "toc_section_display": true,
   "toc_window_display": true
  }
 },
 "nbformat": 4,
 "nbformat_minor": 4
}
