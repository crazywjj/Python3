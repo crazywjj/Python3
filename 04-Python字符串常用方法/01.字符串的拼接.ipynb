{
 "cells": [
  {
   "cell_type": "markdown",
   "metadata": {
    "toc": true
   },
   "source": [
    "<h1>01-字符串的拼接<span class=\"tocSkip\"></span></h1>\n",
    "<div class=\"toc\"><ul class=\"toc-item\"><li><span><a href=\"#字符串与字符串的拼接\" data-toc-modified-id=\"字符串与字符串的拼接-1\"><span class=\"toc-item-num\">1&nbsp;&nbsp;</span>字符串与字符串的拼接</a></span></li><li><span><a href=\"#字符串和数字的拼接\" data-toc-modified-id=\"字符串和数字的拼接-2\"><span class=\"toc-item-num\">2&nbsp;&nbsp;</span>字符串和数字的拼接</a></span></li><li><span><a href=\"#字符串切片\" data-toc-modified-id=\"字符串切片-3\"><span class=\"toc-item-num\">3&nbsp;&nbsp;</span>字符串切片</a></span></li><li><span><a href=\"#字符串常用函数\" data-toc-modified-id=\"字符串常用函数-4\"><span class=\"toc-item-num\">4&nbsp;&nbsp;</span>字符串常用函数</a></span><ul class=\"toc-item\"><li><span><a href=\"#len()函数：获取字符串长度或字节数\" data-toc-modified-id=\"len()函数：获取字符串长度或字节数-4.1\"><span class=\"toc-item-num\">4.1&nbsp;&nbsp;</span>len()函数：获取字符串长度或字节数</a></span></li><li><span><a href=\"#split()方法：分割字符串\" data-toc-modified-id=\"split()方法：分割字符串-4.2\"><span class=\"toc-item-num\">4.2&nbsp;&nbsp;</span>split()方法：分割字符串</a></span></li><li><span><a href=\"#join()方法：合并字符串\" data-toc-modified-id=\"join()方法：合并字符串-4.3\"><span class=\"toc-item-num\">4.3&nbsp;&nbsp;</span>join()方法：合并字符串</a></span></li><li><span><a href=\"#count()方法：统计字符串出现的次数\" data-toc-modified-id=\"count()方法：统计字符串出现的次数-4.4\"><span class=\"toc-item-num\">4.4&nbsp;&nbsp;</span>count()方法：统计字符串出现的次数</a></span></li><li><span><a href=\"#find()方法：检测字符串中是否包含某子串\" data-toc-modified-id=\"find()方法：检测字符串中是否包含某子串-4.5\"><span class=\"toc-item-num\">4.5&nbsp;&nbsp;</span>find()方法：检测字符串中是否包含某子串</a></span></li><li><span><a href=\"#index()方法：检测字符串中是否包含某子串\" data-toc-modified-id=\"index()方法：检测字符串中是否包含某子串-4.6\"><span class=\"toc-item-num\">4.6&nbsp;&nbsp;</span>index()方法：检测字符串中是否包含某子串</a></span></li><li><span><a href=\"#ljust()、rjust()和center()方法：对齐字符串3\" data-toc-modified-id=\"ljust()、rjust()和center()方法：对齐字符串3-4.7\"><span class=\"toc-item-num\">4.7&nbsp;&nbsp;</span>ljust()、rjust()和center()方法：对齐字符串3</a></span></li><li><span><a href=\"#startswith()和endswith()方法\" data-toc-modified-id=\"startswith()和endswith()方法-4.8\"><span class=\"toc-item-num\">4.8&nbsp;&nbsp;</span>startswith()和endswith()方法</a></span></li><li><span><a href=\"#字符串大小写转换\" data-toc-modified-id=\"字符串大小写转换-4.9\"><span class=\"toc-item-num\">4.9&nbsp;&nbsp;</span>字符串大小写转换</a></span></li><li><span><a href=\"#去除字符串中空格\" data-toc-modified-id=\"去除字符串中空格-4.10\"><span class=\"toc-item-num\">4.10&nbsp;&nbsp;</span>去除字符串中空格</a></span></li><li><span><a href=\"#encode()和decode()方法：字符串编码转换\" data-toc-modified-id=\"encode()和decode()方法：字符串编码转换-4.11\"><span class=\"toc-item-num\">4.11&nbsp;&nbsp;</span>encode()和decode()方法：字符串编码转换</a></span></li><li><span><a href=\"#dir()和help()帮助函数\" data-toc-modified-id=\"dir()和help()帮助函数-4.12\"><span class=\"toc-item-num\">4.12&nbsp;&nbsp;</span>dir()和help()帮助函数</a></span></li></ul></li></ul></div>"
   ]
  },
  {
   "cell_type": "markdown",
   "metadata": {},
   "source": [
    "## 字符串与字符串的拼接"
   ]
  },
  {
   "cell_type": "markdown",
   "metadata": {},
   "source": [
    "在 Python 中拼接（连接）字符串很简单，可以直接将两个字符串紧挨着写在一起，具体格式为：\n",
    "`strname = \"str1\" \"str2\"`"
   ]
  },
  {
   "cell_type": "markdown",
   "metadata": {},
   "source": [
    "strname 表示拼接以后的字符串变量名，str1 和 str2 是要拼接的字符串内容。使用这种写法，Python 会自动将两个字符串拼接在一起。"
   ]
  },
  {
   "cell_type": "code",
   "execution_count": 7,
   "metadata": {},
   "outputs": [
    {
     "name": "stdout",
     "output_type": "stream",
     "text": [
      "abcefg\n"
     ]
    }
   ],
   "source": [
    "str1 = \"abc\" \"efg\"\n",
    "print(str1)"
   ]
  },
  {
   "cell_type": "markdown",
   "metadata": {},
   "source": [
    "如果需要使用变量，就得借助`+`运算符来拼接，具体格式为：\n",
    "`strname = str1 + str2`；当然`+`也能拼接字符串。"
   ]
  },
  {
   "cell_type": "code",
   "execution_count": 6,
   "metadata": {},
   "outputs": [
    {
     "name": "stdout",
     "output_type": "stream",
     "text": [
      "abc123\n"
     ]
    }
   ],
   "source": [
    "str1 = 'abc'\n",
    "str2 = '123'\n",
    "str3 = str1 +str2\n",
    "print(str3)"
   ]
  },
  {
   "cell_type": "markdown",
   "metadata": {},
   "source": [
    "## 字符串和数字的拼接"
   ]
  },
  {
   "cell_type": "markdown",
   "metadata": {},
   "source": [
    "Python 不允许直接拼接数字和字符串，所以我们必须先将数字转换成字符串。可以借助 str() 和 repr() 函数将数字转换为字符串，它们的使用格式为：\n",
    "`str(obj)\n",
    "repr(obj)`"
   ]
  },
  {
   "cell_type": "markdown",
   "metadata": {},
   "source": [
    "obj 表示要转换的对象，它可以是数字、列表、元组、字典等多种类型的数据。\n"
   ]
  },
  {
   "cell_type": "markdown",
   "metadata": {},
   "source": [
    "**Python中str()和repr()函数的区别**\n",
    "\n",
    "函数str() 用于将值转化为适于人阅读的形式，而repr() 转化为供解释器读取的形式（如果没有等价的语法，则会发生SyntaxError 异常）， 适合开发和调试阶段使用。 \n",
    "\n",
    "区别与使用：\n",
    "\n",
    "- str()主要面向用户，其目的是可读性，返回形式为用户友好性和可读性都较强的字符串类型；\n",
    "- repr()面向的是python解释器，或者说开发人员，其目的是准确性，其返回值表示python解释器内部的含义，常作为编程人员debug用途。\n",
    "- 两个函数返回的类型是相同的，值也是相同的;当我们把一个字符串传给 str() 函数再打印到终端的时候，输出的字符不带引号。而将一个字符串传给 repr() 函数再打印到终端的时候，输出的字符带有引号。\n",
    "\n",
    "造成这两种输出形式不同的原因在于：\n",
    "\n",
    "print 语句结合 str() 函数实际上是调用了对象的 __str__ 方法来输出结果。而 print 结合 repr() 实际上是调用对象的 __repr__ 方法输出结果。下例中我们用 str 对象直接调用这两个方法，输出结果的形式与前一个例子保持一致。\n",
    "- 不同数据类型的不同处理:当对象没有适于人阅读的解释形式的话， str() 会返回与repr()等同的值。很多类型，诸如数值或链表、字典这样的结构，针对各函数都有着统一的处理方式。\n",
    "\n",
    "- 字符串和浮点数，它们的处理方式不同。\n",
    "\n",
    "注意：Python3和Python2版本str函数处理浮点数时是不同的，Python3版本下，str和repr会返回相同的结果，Python2下则不会，"
   ]
  },
  {
   "cell_type": "code",
   "execution_count": 11,
   "metadata": {},
   "outputs": [
    {
     "name": "stdout",
     "output_type": "stream",
     "text": [
      "lili18\n"
     ]
    }
   ],
   "source": [
    "name = 'lili'\n",
    "age = 18\n",
    "#print(f\"{name + age}\") \n",
    "print(f\"{name + str(age)}\")"
   ]
  },
  {
   "cell_type": "markdown",
   "metadata": {},
   "source": [
    "## 字符串切片"
   ]
  },
  {
   "cell_type": "markdown",
   "metadata": {},
   "source": [
    "字符串是由多个字符构成的，字符之间是有顺序的，这个顺序号就称为索引（index）。Python 允许通过索引来操作字符串中的单个或者多个字符，比如获取指定索引处的字符，返回指定字符的索引值等。"
   ]
  },
  {
   "cell_type": "code",
   "execution_count": 18,
   "metadata": {},
   "outputs": [
    {
     "name": "stdout",
     "output_type": "stream",
     "text": [
      "b\n",
      "www.\n",
      "w.ba\n",
      "wbiu\n"
     ]
    }
   ],
   "source": [
    "url = \"www.baidu.com\"\n",
    "print(url[4])    # 获取单个字符\n",
    "print(url[:4])\n",
    "print(url[2:6])\n",
    "print(url[2:10:2]) # 获取2到10的字符，步长为2"
   ]
  },
  {
   "cell_type": "markdown",
   "metadata": {},
   "source": [
    "## 字符串常用函数"
   ]
  },
  {
   "cell_type": "markdown",
   "metadata": {},
   "source": [
    "### len()函数：获取字符串长度或字节数"
   ]
  },
  {
   "cell_type": "code",
   "execution_count": 19,
   "metadata": {},
   "outputs": [
    {
     "name": "stdout",
     "output_type": "stream",
     "text": [
      "13\n"
     ]
    }
   ],
   "source": [
    "url = \"www.baidu.com\"\n",
    "print(len(url))"
   ]
  },
  {
   "cell_type": "markdown",
   "metadata": {},
   "source": [
    "在实际开发中，除了常常要获取字符串的长度外，有时还要获取字符串的字节数。\n",
    "\n",
    "在 Python 中，不同的字符所占的字节数不同，数字、英文字母、小数点、下划线以及空格，各占一个字节，而一个汉字可能占 2~4 个字节，具体占多少个，取决于采用的编码方式。例如，汉字在 GBK/GB2312 编码中占用 2 个字节，而在 UTF-8 编码中一般占用 3 个字节。"
   ]
  },
  {
   "cell_type": "markdown",
   "metadata": {},
   "source": [
    "使用 `encode()` 方法，将字符串进行编码后再获取它的字节数。"
   ]
  },
  {
   "cell_type": "code",
   "execution_count": 22,
   "metadata": {},
   "outputs": [
    {
     "name": "stdout",
     "output_type": "stream",
     "text": [
      "27\n",
      "20\n"
     ]
    }
   ],
   "source": [
    "str1 = \"人生苦短，我用Python\"\n",
    "print(len(str1.encode()))\n",
    "#print(len(str1.encode(gbk)))  # gbk不加引号或报错\n",
    "print(len(str1.encode('gbk')))"
   ]
  },
  {
   "cell_type": "markdown",
   "metadata": {},
   "source": [
    "### split()方法：分割字符串"
   ]
  },
  {
   "cell_type": "markdown",
   "metadata": {},
   "source": [
    "split() 方法可以实现将一个字符串按照指定的分隔符切分成多个子串，这些子串会被保存到列表中（不包含分隔符），作为方法的返回值反馈回来。\n",
    "\n",
    "语法格式：\n",
    "`str.split(sep,maxsplit)`\n",
    "- str：表示要进行分割的字符串；\n",
    "- sep：用于指定分隔符，可以包含多个字符。此参数默认为 None，表示所有空字符，包括空格、换行符“\\n”、制表符“\\t”等。\n",
    "- maxsplit：可选参数，用于指定分割的次数，最后列表中子串的个数最多为 maxsplit+1。如果不指定或者指定为 -1，则表示分割次数没有限制。"
   ]
  },
  {
   "cell_type": "code",
   "execution_count": 63,
   "metadata": {},
   "outputs": [
    {
     "name": "stdout",
     "output_type": "stream",
     "text": [
      "['人', '生', '苦', '短,', '我', '用', 'python,', 'my', 'name', 'is', 'lili']\n",
      "['人 生 苦 短, 我 用 python, ', ' name is lili']\n",
      "['人', '生', '苦', '短,', '我 用 python, my name is lili']\n"
     ]
    }
   ],
   "source": [
    "whoami = '人 生 苦 短, 我 用 python, my name is lili'\n",
    "print(whoami.split())   # 默认以空格为分隔符\n",
    "print(whoami.split('my'))   # 指定以my为分隔符\n",
    "print(whoami.split(' ',4))  # 最多一空格分割四次"
   ]
  },
  {
   "cell_type": "code",
   "execution_count": 59,
   "metadata": {},
   "outputs": [
    {
     "name": "stdout",
     "output_type": "stream",
     "text": [
      "['人生苦短', '我用python', 'my name ', ' lili']\n"
     ]
    }
   ],
   "source": [
    "import re     # re模块的split()函数可以使用多个分隔符对句子进行分割，其中不同的分隔符要用 “|” 隔开。\n",
    "whoami = '人生苦短,我用python,my name is lili'\n",
    "print(re.split(',|is' , whoami))"
   ]
  },
  {
   "cell_type": "markdown",
   "metadata": {},
   "source": [
    "### join()方法：合并字符串"
   ]
  },
  {
   "cell_type": "markdown",
   "metadata": {},
   "source": [
    "join() 方法也是非常重要的字符串方法，它是 split() 方法的逆方法，用来将列表（或元组）中包含的多个字符串连接成一个字符串。"
   ]
  },
  {
   "cell_type": "code",
   "execution_count": 72,
   "metadata": {},
   "outputs": [
    {
     "name": "stdout",
     "output_type": "stream",
     "text": [
      "人,生,苦,短,,我,用,python,,my,name,is,lili\n"
     ]
    }
   ],
   "source": [
    "list1 = ['人', '生', '苦', '短,', '我', '用', 'python,', 'my', 'name', 'is', 'lili']\n",
    "print(','.join(list1))   # 将列表中的字符串合并成一个字符串"
   ]
  },
  {
   "cell_type": "code",
   "execution_count": 76,
   "metadata": {},
   "outputs": [
    {
     "name": "stdout",
     "output_type": "stream",
     "text": [
      "<class 'tuple'>\n",
      "/usr/bin/env\n"
     ]
    }
   ],
   "source": [
    "dir = '','usr','bin','env'\n",
    "print(type(dir))\n",
    "print('/'.join(dir))     # 将元组中的字符串合并成一个字符串"
   ]
  },
  {
   "cell_type": "markdown",
   "metadata": {},
   "source": [
    "### count()方法：统计字符串出现的次数"
   ]
  },
  {
   "cell_type": "markdown",
   "metadata": {},
   "source": [
    "count 方法用于检索指定字符串在另一字符串中出现的次数，如果检索的字符串不存在，则返回 0，否则返回出现的次数。\n",
    "\n",
    "count 方法的语法格式如下：\n",
    "`str.count(sub[,start[,end]])`\n",
    "\n",
    "- str：表示原字符串；\n",
    "- sub：表示要检索的字符串；\n",
    "- start：指定检索的起始位置，也就是从什么位置开始检测。如果不指定，默认从头开始检索；\n",
    "- end：指定检索的终止位置，如果不指定，则表示一直检索到结尾。"
   ]
  },
  {
   "cell_type": "code",
   "execution_count": 82,
   "metadata": {},
   "outputs": [
    {
     "name": "stdout",
     "output_type": "stream",
     "text": [
      "2\n",
      "1\n"
     ]
    }
   ],
   "source": [
    "url = 'www.baidu.com'\n",
    "print(url.count('.'))  # 检索字符串“.”出现的次数\n",
    "print(url.count('w',2))  #检索从第2个字符串后，w出现的次数，字符串中各字符对应的检索值，从 0 开始；从输出结果可以分析出，从指定索引位置开始检索，其中也包含此索引位置。\n"
   ]
  },
  {
   "cell_type": "markdown",
   "metadata": {},
   "source": [
    "### find()方法：检测字符串中是否包含某子串"
   ]
  },
  {
   "cell_type": "markdown",
   "metadata": {},
   "source": [
    "find() 方法用于检索字符串中是否包含目标字符串，如果包含，则返回第一次出现该字符串的索引；反之，则返回 -1。\n",
    "\n",
    "find() 方法的语法格式如下：\n",
    "`str.find(sub[,start[,end]])`"
   ]
  },
  {
   "cell_type": "code",
   "execution_count": 85,
   "metadata": {},
   "outputs": [
    {
     "name": "stdout",
     "output_type": "stream",
     "text": [
      "3\n"
     ]
    }
   ],
   "source": [
    "url = 'www.baidu.com'\n",
    "print(url.find('.',2))  #从第二个字符开始，打印出第一个 '.'  的索引"
   ]
  },
  {
   "cell_type": "markdown",
   "metadata": {},
   "source": [
    "注意，Python 还提供了 rfind() 方法，与 find() 方法最大的不同在于，rfind() 是从字符串右边开始检索。"
   ]
  },
  {
   "cell_type": "markdown",
   "metadata": {},
   "source": [
    "### index()方法：检测字符串中是否包含某子串"
   ]
  },
  {
   "cell_type": "markdown",
   "metadata": {},
   "source": [
    "同 find() 方法类似，index() 方法也可以用于检索是否包含指定的字符串，不同之处在于，当指定的字符串不存在时，index() 方法会抛出异常。"
   ]
  },
  {
   "cell_type": "code",
   "execution_count": 3,
   "metadata": {},
   "outputs": [
    {
     "name": "stdout",
     "output_type": "stream",
     "text": [
      "0\n"
     ]
    }
   ],
   "source": [
    "url = 'www.baidu.com'\n",
    "print(url.index('w'))"
   ]
  },
  {
   "cell_type": "code",
   "execution_count": 4,
   "metadata": {},
   "outputs": [
    {
     "ename": "ValueError",
     "evalue": "substring not found",
     "output_type": "error",
     "traceback": [
      "\u001b[1;31m---------------------------------------------------------------------------\u001b[0m",
      "\u001b[1;31mValueError\u001b[0m                                Traceback (most recent call last)",
      "\u001b[1;32m<ipython-input-4-be619a6acf88>\u001b[0m in \u001b[0;36m<module>\u001b[1;34m\u001b[0m\n\u001b[0;32m      1\u001b[0m \u001b[0murl\u001b[0m \u001b[1;33m=\u001b[0m \u001b[1;34m'www.baidu.com'\u001b[0m\u001b[1;33m\u001b[0m\u001b[1;33m\u001b[0m\u001b[0m\n\u001b[1;32m----> 2\u001b[1;33m \u001b[0mprint\u001b[0m\u001b[1;33m(\u001b[0m\u001b[0murl\u001b[0m\u001b[1;33m.\u001b[0m\u001b[0mindex\u001b[0m\u001b[1;33m(\u001b[0m\u001b[1;34m'e'\u001b[0m\u001b[1;33m)\u001b[0m\u001b[1;33m)\u001b[0m\u001b[1;33m\u001b[0m\u001b[1;33m\u001b[0m\u001b[0m\n\u001b[0m",
      "\u001b[1;31mValueError\u001b[0m: substring not found"
     ]
    }
   ],
   "source": [
    "url = 'www.baidu.com'\n",
    "print(url.index('e'))"
   ]
  },
  {
   "cell_type": "markdown",
   "metadata": {},
   "source": [
    "同 find() 和 rfind() 一样，字符串变量还具有 rindex() 方法，其作用和 index() 方法类似，不同之处在于它是从右边开始检索"
   ]
  },
  {
   "cell_type": "markdown",
   "metadata": {},
   "source": [
    "### ljust()、rjust()和center()方法：对齐字符串3"
   ]
  },
  {
   "cell_type": "markdown",
   "metadata": {},
   "source": [
    "Python str 提供了 3 种可用来进行文本对齐的方法，分别是 \n",
    "- ljust()：向指定字符串的右侧填充指定字符，从而达到左对齐文本的目的。\n",
    "- rjust() ：右对齐\n",
    "- center()：居中对齐"
   ]
  },
  {
   "cell_type": "markdown",
   "metadata": {},
   "source": [
    "ljust() 方法的基本格式如下：\n",
    "`str.ljust(width[, fillchar])`\n",
    "\n",
    "其中各个参数的含义如下：\n",
    "- str：表示要进行填充的字符串；\n",
    "- width：表示包括 S 本身长度在内，字符串要占的总长度；\n",
    "- fillchar：作为可选参数，用来指定填充字符串时所用的字符，默认情况使用空格。"
   ]
  },
  {
   "cell_type": "code",
   "execution_count": 12,
   "metadata": {},
   "outputs": [
    {
     "name": "stdout",
     "output_type": "stream",
     "text": [
      "www.baidu.com----------------------\n",
      "come on++++++++++++++++++++++++++++\n",
      "----------------------www.baidu.com\n",
      "++++++++++++++++++++++++++++come on\n",
      "-----------www.baidu.com-----------\n",
      "++++++++++++++come on++++++++++++++\n"
     ]
    }
   ],
   "source": [
    "a = 'www.baidu.com'\n",
    "b = 'come on'\n",
    "print(a.ljust(35,'-'))\n",
    "print(b.ljust(35,'+'))\n",
    "print(a.rjust(35,'-'))\n",
    "print(b.rjust(35,'+'))\n",
    "print(a.center(35,'-'))\n",
    "print(b.center(35,'+'))"
   ]
  },
  {
   "cell_type": "markdown",
   "metadata": {},
   "source": [
    "### startswith()和endswith()方法"
   ]
  },
  {
   "cell_type": "markdown",
   "metadata": {},
   "source": [
    "startswith() 方法用于检索字符串是否以指定字符串开头，如果是返回 True；反之返回 False。语法格式：`str.startswith(sub[,start[,end]])`"
   ]
  },
  {
   "cell_type": "markdown",
   "metadata": {},
   "source": [
    "endswith() 方法用于检索字符串是否以指定字符串结尾，如果是返回 True；反之则返回 False。语法格式：`str.endswith(sub[,start[,end]])`"
   ]
  },
  {
   "cell_type": "code",
   "execution_count": 7,
   "metadata": {},
   "outputs": [
    {
     "name": "stdout",
     "output_type": "stream",
     "text": [
      "True\n",
      "False\n",
      "True\n"
     ]
    }
   ],
   "source": [
    "a = 'www.baidu.com'\n",
    "print(a.startswith('w'))\n",
    "print(a.startswith('b'))\n",
    "print(a.startswith('b',4))   # 从索引为4的位置开始检索"
   ]
  },
  {
   "cell_type": "markdown",
   "metadata": {},
   "source": [
    "### 字符串大小写转换"
   ]
  },
  {
   "cell_type": "markdown",
   "metadata": {},
   "source": [
    "Python 中，为了方便对字符串中的字母进行大小写转换，字符串变量提供了 3 种方法，分别是 title()、lower() 和 upper()。\n",
    "- title() 方法用于将字符串中每个单词的首字母转为大写，其他字母全部转为小写，转换完成后，此方法会返回转换得到的字符串。如果字符串中没有需要被转换的字符，此方法会将字符串原封不动地返回。\n",
    "- lower() 方法用于将字符串中的所有大写字母转换为小写字母，转换完成后，该方法会返回新得到的字符串。如果字符串中原本就都是小写字母，则该方法会返回原字符串。\n",
    "- upper() 的功能和 lower() 方法恰好相反，它用于将字符串中的所有小写字母转换为大写字母，和以上两种方法的返回方式相同，即如果转换成功，则返回新字符串；反之，则返回原字符串。"
   ]
  },
  {
   "cell_type": "code",
   "execution_count": 10,
   "metadata": {},
   "outputs": [
    {
     "name": "stdout",
     "output_type": "stream",
     "text": [
      "Www.Baidu.Com\n",
      "WWW.BAIDU.COM\n",
      "www.baidu.com\n"
     ]
    }
   ],
   "source": [
    "a = 'www.baidu.com'\n",
    "print(a.title())\n",
    "print(a.upper())\n",
    "print(a.lower())"
   ]
  },
  {
   "cell_type": "markdown",
   "metadata": {},
   "source": [
    "### 去除字符串中空格"
   ]
  },
  {
   "cell_type": "markdown",
   "metadata": {},
   "source": [
    "用户输入数据时，很有可能会无意中输入多余的空格，或者在一些场景中，字符串前后不允许出现空格和特殊字符，此时就需要去除字符串中的空格和特殊字符。\n",
    "这里的特殊字符，指的是制表符（\\t）、回车符（\\r）、换行符（\\n）等。"
   ]
  },
  {
   "cell_type": "markdown",
   "metadata": {},
   "source": [
    "Python 中，字符串变量提供了 3 种方法来删除字符串中多余的空格和特殊字符，它们分别是：\n",
    "- strip()：删除字符串前后（左右两侧）的空格或特殊字符。\n",
    "- lstrip()：删除字符串前面（左边）的空格或特殊字符。\n",
    "- rstrip()：删除字符串后面（右边）的空格或特殊字符。\n",
    "\n",
    "注意，Python 的 str 是不可变的（不可变的意思是指，字符串一旦形成，它所包含的字符序列就不能发生任何改变），因此这三个方法只是返回字符串前面或后面空白被删除之后的副本，并不会改变字符串本身。"
   ]
  },
  {
   "cell_type": "code",
   "execution_count": 51,
   "metadata": {},
   "outputs": [
    {
     "name": "stdout",
     "output_type": "stream",
     "text": [
      "www.baidu.com\n"
     ]
    }
   ],
   "source": [
    "a = \"  www.baidu.com \\t\\n\\r\"\n",
    "print(a.strip())"
   ]
  },
  {
   "cell_type": "code",
   "execution_count": 49,
   "metadata": {},
   "outputs": [
    {
     "name": "stdout",
     "output_type": "stream",
     "text": [
      "  www.baidu\n"
     ]
    }
   ],
   "source": [
    "a = \"  www.baidu.com\"\n",
    "print(a.strip('moc.'))   #删除头和尾指定字符，直到删除到非指定字符为止"
   ]
  },
  {
   "cell_type": "markdown",
   "metadata": {},
   "source": [
    "### encode()和decode()方法：字符串编码转换"
   ]
  },
  {
   "cell_type": "markdown",
   "metadata": {},
   "source": [
    "各国的文字都需要进行编码，于是相继出现了 GBK、GB2312、UTF-8 编码等，其中 GBK 和 GB2312 是我国制定的中文编码标准，规定英文字符母占用 1 个字节，中文字符占用 2 个字节；而 UTF-8 是国际通过的编码格式，它包含了全世界所有国家需要用到的字符，其规定英文字符占用 1 个字节，中文字符占用 3 个字节。\n",
    "- Python 3.x 默认采用 UTF-8 编码格式，有效地解决了中文乱码的问题。"
   ]
  },
  {
   "cell_type": "markdown",
   "metadata": {},
   "source": [
    "在 Python 中，有 2 种常用的字符串类型，分别为 str 和 bytes 类型，其中 str 用来表示 Unicode 字符，bytes 用来表示二进制数据。str 类型和 bytes 类型之间就需要使用 encode() 和 decode() 方法进行转换。"
   ]
  },
  {
   "cell_type": "markdown",
   "metadata": {},
   "source": [
    "-  encode() 方法为字符串类型（str）提供的方法，用于将 str 类型转换成 bytes 类型，这个过程也称为“编码”。语法格式：`str.encode([encoding=\"utf-8\"][,errors=\"strict\"])`，注意，格式中用 [] 括起来的参数为可选参数，也就是说，在使用此方法时，可以使用 [] 中的参数，也可以不使用。\n",
    "- decode() 方法用于将 bytes 类型的二进制数据转换为 str 类型，这个过程也称为“解码”。语法格式：`bytes.decode([encoding=\"utf-8\"][,errors=\"strict\"])`"
   ]
  },
  {
   "cell_type": "code",
   "execution_count": 1,
   "metadata": {},
   "outputs": [
    {
     "name": "stdout",
     "output_type": "stream",
     "text": [
      "斗牛\n"
     ]
    }
   ],
   "source": [
    "a = \"斗牛\"\n",
    "bytes=a.encode()\n",
    "print(bytes.decode())"
   ]
  },
  {
   "cell_type": "markdown",
   "metadata": {},
   "source": [
    "注意，如果编码时采用的不是默认的 UTF-8 编码，则解码时要选择和编码时一样的格式，否则会抛出异常，例如："
   ]
  },
  {
   "cell_type": "code",
   "execution_count": 2,
   "metadata": {},
   "outputs": [
    {
     "ename": "UnicodeDecodeError",
     "evalue": "'utf-8' codec can't decode byte 0xb6 in position 0: invalid start byte",
     "output_type": "error",
     "traceback": [
      "\u001b[1;31m---------------------------------------------------------------------------\u001b[0m",
      "\u001b[1;31mUnicodeDecodeError\u001b[0m                        Traceback (most recent call last)",
      "\u001b[1;32m<ipython-input-2-109a8300ed8b>\u001b[0m in \u001b[0;36m<module>\u001b[1;34m\u001b[0m\n\u001b[0;32m      1\u001b[0m \u001b[0ma\u001b[0m \u001b[1;33m=\u001b[0m \u001b[1;34m\"斗牛\"\u001b[0m\u001b[1;33m\u001b[0m\u001b[1;33m\u001b[0m\u001b[0m\n\u001b[0;32m      2\u001b[0m \u001b[0mbytes\u001b[0m\u001b[1;33m=\u001b[0m\u001b[0ma\u001b[0m\u001b[1;33m.\u001b[0m\u001b[0mencode\u001b[0m\u001b[1;33m(\u001b[0m\u001b[1;34m\"GBK\"\u001b[0m\u001b[1;33m)\u001b[0m\u001b[1;33m\u001b[0m\u001b[1;33m\u001b[0m\u001b[0m\n\u001b[1;32m----> 3\u001b[1;33m \u001b[0mprint\u001b[0m\u001b[1;33m(\u001b[0m\u001b[0mbytes\u001b[0m\u001b[1;33m.\u001b[0m\u001b[0mdecode\u001b[0m\u001b[1;33m(\u001b[0m\u001b[1;33m)\u001b[0m\u001b[1;33m)\u001b[0m\u001b[1;33m\u001b[0m\u001b[1;33m\u001b[0m\u001b[0m\n\u001b[0m",
      "\u001b[1;31mUnicodeDecodeError\u001b[0m: 'utf-8' codec can't decode byte 0xb6 in position 0: invalid start byte"
     ]
    }
   ],
   "source": [
    "a = \"斗牛\"\n",
    "bytes=a.encode(\"GBK\")\n",
    "print(bytes.decode())"
   ]
  },
  {
   "cell_type": "markdown",
   "metadata": {},
   "source": [
    "### dir()和help()帮助函数"
   ]
  },
  {
   "cell_type": "markdown",
   "metadata": {},
   "source": [
    "- dir() 函数用来列出某个类或者某个模块中的全部内容，包括变量、方法、函数和类等，它的用法为：`dir(obj)`。obj 表示要查看的对象。obj 可以不写，此时 dir() 会列出当前范围内的变量、方法和定义的类型。"
   ]
  },
  {
   "cell_type": "markdown",
   "metadata": {},
   "source": [
    "- help() 函数用来查看某个函数或者模块的帮助文档，它的用法为：`help(obj)`。obj 表示要查看的对象。obj 可以不写，此时 help() 会进入帮助子程序。\n"
   ]
  }
 ],
 "metadata": {
  "kernelspec": {
   "display_name": "Python 3",
   "language": "python",
   "name": "python3"
  },
  "language_info": {
   "codemirror_mode": {
    "name": "ipython",
    "version": 3
   },
   "file_extension": ".py",
   "mimetype": "text/x-python",
   "name": "python",
   "nbconvert_exporter": "python",
   "pygments_lexer": "ipython3",
   "version": "3.8.3"
  },
  "toc": {
   "base_numbering": 1,
   "nav_menu": {},
   "number_sections": true,
   "sideBar": true,
   "skip_h1_title": false,
   "title_cell": "01-字符串的拼接",
   "title_sidebar": "Contents",
   "toc_cell": true,
   "toc_position": {},
   "toc_section_display": true,
   "toc_window_display": true
  }
 },
 "nbformat": 4,
 "nbformat_minor": 4
}
