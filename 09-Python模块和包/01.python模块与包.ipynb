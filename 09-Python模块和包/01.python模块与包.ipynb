{
 "cells": [
  {
   "cell_type": "markdown",
   "metadata": {
    "toc": true
   },
   "source": [
    "<h1>01-python模块与包<span class=\"tocSkip\"></span></h1>\n",
    "<div class=\"toc\"><ul class=\"toc-item\"><li><span><a href=\"#自定义一个模块\" data-toc-modified-id=\"自定义一个模块-1\"><span class=\"toc-item-num\">1&nbsp;&nbsp;</span>自定义一个模块</a></span></li><li><span><a href=\"#python导入模块\" data-toc-modified-id=\"python导入模块-2\"><span class=\"toc-item-num\">2&nbsp;&nbsp;</span>python导入模块</a></span><ul class=\"toc-item\"><li><span><a href=\"#import-模块名-as-别名\" data-toc-modified-id=\"import-模块名-as-别名-2.1\"><span class=\"toc-item-num\">2.1&nbsp;&nbsp;</span>import 模块名 as 别名</a></span></li><li><span><a href=\"#from--模块名-import-成员名-as-别名\" data-toc-modified-id=\"from--模块名-import-成员名-as-别名-2.2\"><span class=\"toc-item-num\">2.2&nbsp;&nbsp;</span>from  模块名 import 成员名 as 别名</a></span></li><li><span><a href=\"#from-模块名-import-*-(不推荐)\" data-toc-modified-id=\"from-模块名-import-*-(不推荐)-2.3\"><span class=\"toc-item-num\">2.3&nbsp;&nbsp;</span>from 模块名 import * (不推荐)</a></span></li></ul></li><li><span><a href=\"#python查看模块（变量、函数、类）方法\" data-toc-modified-id=\"python查看模块（变量、函数、类）方法-3\"><span class=\"toc-item-num\">3&nbsp;&nbsp;</span>python查看模块（变量、函数、类）方法</a></span><ul class=\"toc-item\"><li><span><a href=\"#查看模块成员：dir()函数\" data-toc-modified-id=\"查看模块成员：dir()函数-3.1\"><span class=\"toc-item-num\">3.1&nbsp;&nbsp;</span>查看模块成员：dir()函数</a></span></li><li><span><a href=\"#查看模块成员：all变量\" data-toc-modified-id=\"查看模块成员：all变量-3.2\"><span class=\"toc-item-num\">3.2&nbsp;&nbsp;</span>查看模块成员：<strong>all</strong>变量</a></span></li></ul></li><li><span><a href=\"#python包:存放多个模块的文件夹\" data-toc-modified-id=\"python包:存放多个模块的文件夹-4\"><span class=\"toc-item-num\">4&nbsp;&nbsp;</span>python包:存放多个模块的文件夹</a></span><ul class=\"toc-item\"><li><span><a href=\"#创建包\" data-toc-modified-id=\"创建包-4.1\"><span class=\"toc-item-num\">4.1&nbsp;&nbsp;</span>创建包</a></span></li><li><span><a href=\"#包的导入\" data-toc-modified-id=\"包的导入-4.2\"><span class=\"toc-item-num\">4.2&nbsp;&nbsp;</span>包的导入</a></span></li></ul></li></ul></div>"
   ]
  },
  {
   "cell_type": "markdown",
   "metadata": {},
   "source": [
    "Python 模块(Module)，是一个 Python 文件，以 .py 结尾，包含了 Python 对象定义和Python语句。"
   ]
  },
  {
   "cell_type": "markdown",
   "metadata": {},
   "source": [
    "模块让你能够有逻辑地组织你的 Python 代码段。模块能定义函数，类和变量，模块里也能包含可执行的代码。"
   ]
  },
  {
   "cell_type": "markdown",
   "metadata": {},
   "source": [
    "Python 提供了强大的模块支持，主要体现在，不仅 Python 标准库中包含了大量的模块（称为标准模块），还有大量的第三方模块，开发者自己也可以开发自定义模块。通过这些强大的模块可以极大地提高开发者的开发效率。"
   ]
  },
  {
   "cell_type": "markdown",
   "metadata": {},
   "source": [
    "## 自定义一个模块"
   ]
  },
  {
   "cell_type": "markdown",
   "metadata": {},
   "source": [
    "say.py模块："
   ]
  },
  {
   "cell_type": "markdown",
   "metadata": {},
   "source": [
    "```def hello(str1)\n",
    "    print(\"hello :\",str1) \n",
    "```"
   ]
  },
  {
   "cell_type": "code",
   "execution_count": 6,
   "metadata": {},
   "outputs": [
    {
     "name": "stdout",
     "output_type": "stream",
     "text": [
      "hello: python\n"
     ]
    }
   ],
   "source": [
    "import say\n",
    "say.hello('python')"
   ]
  },
  {
   "cell_type": "markdown",
   "metadata": {},
   "source": [
    "say.py为模块，hello()为函数。"
   ]
  },
  {
   "cell_type": "markdown",
   "metadata": {},
   "source": [
    "## python导入模块"
   ]
  },
  {
   "cell_type": "markdown",
   "metadata": {},
   "source": [
    "使用 import 导入模块的语法，但实际上 import 还有更多详细的用法，主要有以下两种：\n",
    "\n",
    "- `import 模块名1 [as 别名1], 模块名2 [as 别名2]，…：`这种格式的 import 语句，会导入指定模块中的所有成员（包括变量、函数、类等）。不仅如此，当需要使用模块中的成员时，需用该模块名（或别名）作为前缀，否则 Python 解释器会报错。\n",
    "- `from 模块名 import 成员名1 [as 别名1]，成员名2 [as 别名2]，…：`使用这种语法格式的 import 语句，只会导入模块中指定的成员，而不是全部成员。同时，当程序中使用该成员时，无需附加任何前缀，直接使用成员名（或别名）即可。"
   ]
  },
  {
   "cell_type": "markdown",
   "metadata": {},
   "source": [
    "Python 解释器同时如下错误：`ModuleNotFoundError: No module named '模块名'`\n",
    "\n",
    "意思是 Python 找不到这个模块名。\n",
    "\n",
    "通常情况下，当使用 import 语句导入模块后，Python 会按照以下顺序查找指定的模块文件：\n",
    "- 在当前目录，即当前执行的程序文件所在目录下查找；\n",
    "- 到 PYTHONPATH（环境变量）下的每个目录中查找；\n",
    "- 到 Python 默认的安装目录下查找。"
   ]
  },
  {
   "cell_type": "markdown",
   "metadata": {},
   "source": [
    "### import 模块名 as 别名"
   ]
  },
  {
   "cell_type": "markdown",
   "metadata": {},
   "source": [
    "最简单语法来导入指定模块："
   ]
  },
  {
   "cell_type": "code",
   "execution_count": 9,
   "metadata": {},
   "outputs": [
    {
     "name": "stdout",
     "output_type": "stream",
     "text": [
      "c:\\python38\\lib\\site-packages\\ipykernel_launcher.py\n"
     ]
    }
   ],
   "source": [
    "import sys\n",
    "print(sys.argv[0])"
   ]
  },
  {
   "cell_type": "markdown",
   "metadata": {},
   "source": [
    "一个列表，其中包含了被传递给 Python 脚本的命令行参数。argv[0] 为脚本的名称（是否是完整的路径名取决于操作系统）。如果是通过 Python 解释器的命令行参数 -c 来执行的， argv[0] 会被设置成字符串 '-c' 。如果没有脚本名被传递给 Python 解释器， argv[0] 为空字符串。"
   ]
  },
  {
   "cell_type": "code",
   "execution_count": 10,
   "metadata": {},
   "outputs": [
    {
     "name": "stdout",
     "output_type": "stream",
     "text": [
      "c:\\python38\\lib\\site-packages\\ipykernel_launcher.py\n"
     ]
    }
   ],
   "source": [
    "import sys as s\n",
    "print(s.argv[0])"
   ]
  },
  {
   "cell_type": "markdown",
   "metadata": {},
   "source": [
    "导入多个模块，多个模块之间用逗号隔开:"
   ]
  },
  {
   "cell_type": "code",
   "execution_count": 12,
   "metadata": {},
   "outputs": [
    {
     "name": "stdout",
     "output_type": "stream",
     "text": [
      "c:\\python38\\lib\\site-packages\\ipykernel_launcher.py\n",
      "\\\n"
     ]
    }
   ],
   "source": [
    "# 导入sys,os模块\n",
    "import sys,os\n",
    "\n",
    "print(sys.argv[0])\n",
    "\n",
    "# os模块的sep变量代表平台上的路径分隔符\n",
    "print(os.sep)"
   ]
  },
  {
   "cell_type": "markdown",
   "metadata": {},
   "source": [
    "### from  模块名 import 成员名 as 别名"
   ]
  },
  {
   "cell_type": "markdown",
   "metadata": {},
   "source": [
    "使用了 from...import 最简单的语法来导入指定成员："
   ]
  },
  {
   "cell_type": "code",
   "execution_count": 13,
   "metadata": {},
   "outputs": [
    {
     "name": "stdout",
     "output_type": "stream",
     "text": [
      "c:\\python38\\lib\\site-packages\\ipykernel_launcher.py\n"
     ]
    }
   ],
   "source": [
    "from sys import argv\n",
    "print(argv[0])"
   ]
  },
  {
   "cell_type": "code",
   "execution_count": 14,
   "metadata": {},
   "outputs": [
    {
     "name": "stdout",
     "output_type": "stream",
     "text": [
      "c:\\python38\\lib\\site-packages\\ipykernel_launcher.py\n",
      "3.8-32\n"
     ]
    }
   ],
   "source": [
    "from sys import argv,winver\n",
    "print(argv[0])\n",
    "print(winver)"
   ]
  },
  {
   "cell_type": "code",
   "execution_count": 15,
   "metadata": {},
   "outputs": [
    {
     "name": "stdout",
     "output_type": "stream",
     "text": [
      "c:\\python38\\lib\\site-packages\\ipykernel_launcher.py\n",
      "3.8-32\n"
     ]
    }
   ],
   "source": [
    "from sys import argv as ag,winver as wv\n",
    "print(ag[0])\n",
    "print(wv)"
   ]
  },
  {
   "cell_type": "markdown",
   "metadata": {},
   "source": [
    "### from 模块名 import * (不推荐)"
   ]
  },
  {
   "cell_type": "markdown",
   "metadata": {},
   "source": [
    "区别1\n",
    "- import module 引用共享变量时，要使用module.变量名。\n",
    "\n",
    "- from module import *  直接使用变量名即可\n",
    "\n",
    "区别2（有点绕）\n",
    "- import module  方式操作module的变量时，本地不会创建新变量，操作的是目标模块的变量！\n",
    "\n",
    "- from module import *  方式操作module变量时，实质上是在本地创建一个与目标模块相同的变量名，并且默认与目标模块变量指向同一个内存空间。"
   ]
  },
  {
   "cell_type": "markdown",
   "metadata": {},
   "source": [
    "## python查看模块（变量、函数、类）方法"
   ]
  },
  {
   "cell_type": "markdown",
   "metadata": {},
   "source": [
    "### 查看模块成员：dir()函数"
   ]
  },
  {
   "cell_type": "markdown",
   "metadata": {},
   "source": [
    "dir() 函数，可以查看某指定模块包含的全部成员（包括变量、函数和类）。注意这里所指的全部成员，不仅包含可供我们调用的模块成员，还包含所有名称**以双下划线“__”开头和结尾的成员，而这些“特殊”命名的成员，是为了在本模块中使用的，并不希望被其它文件调用。**"
   ]
  },
  {
   "cell_type": "code",
   "execution_count": 17,
   "metadata": {},
   "outputs": [
    {
     "name": "stdout",
     "output_type": "stream",
     "text": [
      "['Formatter', 'Template', '_ChainMap', '_TemplateMetaclass', '__all__', '__builtins__', '__cached__', '__doc__', '__file__', '__loader__', '__name__', '__package__', '__spec__', '_re', '_sentinel_dict', '_string', 'ascii_letters', 'ascii_lowercase', 'ascii_uppercase', 'capwords', 'digits', 'hexdigits', 'octdigits', 'printable', 'punctuation', 'whitespace']\n"
     ]
    }
   ],
   "source": [
    "import string\n",
    "print(dir(string))"
   ]
  },
  {
   "cell_type": "markdown",
   "metadata": {},
   "source": [
    "忽略显示 dir() 函数输出的特殊成员的方法："
   ]
  },
  {
   "cell_type": "code",
   "execution_count": 1,
   "metadata": {},
   "outputs": [
    {
     "name": "stdout",
     "output_type": "stream",
     "text": [
      "['Formatter', 'Template', 'ascii_letters', 'ascii_lowercase', 'ascii_uppercase', 'capwords', 'digits', 'hexdigits', 'octdigits', 'printable', 'punctuation', 'whitespace']\n"
     ]
    }
   ],
   "source": [
    "import string\n",
    "print([e for e in dir(string) if not e.startswith('_')])"
   ]
  },
  {
   "cell_type": "markdown",
   "metadata": {},
   "source": [
    "通过列表推导式，可在 dir() 函数输出结果的基础上，筛选出对我们有用的成员并显示出来。"
   ]
  },
  {
   "cell_type": "markdown",
   "metadata": {},
   "source": [
    "### 查看模块成员：__all__变量"
   ]
  },
  {
   "cell_type": "code",
   "execution_count": 3,
   "metadata": {},
   "outputs": [
    {
     "name": "stdout",
     "output_type": "stream",
     "text": [
      "['ascii_letters', 'ascii_lowercase', 'ascii_uppercase', 'capwords', 'digits', 'hexdigits', 'octdigits', 'printable', 'punctuation', 'whitespace', 'Formatter', 'Template']\n"
     ]
    }
   ],
   "source": [
    "import string\n",
    "print(string.__all__)"
   ]
  },
  {
   "cell_type": "markdown",
   "metadata": {},
   "source": [
    "`__all__` 变量在查看指定模块成员时，它不会显示模块中的特殊成员，同时还会根据成员的名称进行排序显示。并非所有的模块都支持使用 __all__ 变量，因此对于获取有些模块的成员，就只能使用 dir() 函数。"
   ]
  },
  {
   "cell_type": "markdown",
   "metadata": {},
   "source": [
    "## python包:存放多个模块的文件夹"
   ]
  },
  {
   "cell_type": "markdown",
   "metadata": {},
   "source": [
    "包是一种管理 Python 模块命名空间的形式，采用\"点模块名称\"。\n",
    "\n",
    "实际开发中，一个大型的项目往往需要使用成百上千的 Python 模块，如果将这些模块都堆放在一起，势必不好管理。而且，使用模块可以有效避免变量名或函数名重名引发的冲突，但是如果模块名重复怎么办呢？因此，Python提出了包（Package）的概念。\n",
    "\n",
    "什么是包呢？简单理解，包就是文件夹，只不过在该文件夹下必须存在一个名为“__init__.py” 的文件。\n",
    "注意，这是 Python 2.x 的规定，而在 Python 3.x 中，__init__.py 对包来说，并不是必须的。\n",
    "\n",
    "每个包的目录下都必须建立一个 __init__.py 的模块，可以是一个空模块，可以写一些初始化代码，其作用就是告诉 Python 要将该目录当成包来处理。\n",
    "\n",
    "包的本质依然是模块，包可以包含包。\n",
    "\n",
    "> Python 库：相比模块和包，库是一个更大的概念，例如在 Python 标准库中的每个库都有好多个包，而每个包中都有若干个模块。"
   ]
  },
  {
   "cell_type": "markdown",
   "metadata": {},
   "source": [
    "### 创建包"
   ]
  },
  {
   "cell_type": "markdown",
   "metadata": {},
   "source": [
    "包其实就是文件夹，更确切的说，是一个包含“__init__.py”文件的文件夹。因此，如果我们想手动创建一个包，只需进行以下 2 步操作：\n",
    "- 新建一个文件夹，文件夹的名称就是新建包的包名；\n",
    "- 在该文件夹中，创建一个 `__init__.py` 文件（前后各有 2 个下划线‘_’），该文件中可以不编写任何代码。当然，也可以编写一些 Python 初始化代码，则当有其它程序文件导入包时，会自动执行该文件中的代码。"
   ]
  },
  {
   "cell_type": "markdown",
   "metadata": {},
   "source": [
    "1、创建my_package文件夹和`__init__.py`初始化文件"
   ]
  },
  {
   "cell_type": "markdown",
   "metadata": {},
   "source": [
    "```\n",
    "目录位置\n",
    "$ pwd\n",
    "/c/Users/w1818/Documents/Python3/02-Python模块与包/my_package\n",
    "\n",
    "# __init__.py 内容\n",
    "$ cat __init__.py\n",
    "'''\n",
    "创建包测试\n",
    "'''\n",
    "\n",
    "print(\"包名为my_package\")\n",
    "```"
   ]
  },
  {
   "cell_type": "markdown",
   "metadata": {},
   "source": [
    "2、添加模块（也可以添加包）\n",
    "\n",
    "给 my_package 包添加 2 个模块，分别是 module1.py、module2.py"
   ]
  },
  {
   "cell_type": "markdown",
   "metadata": {},
   "source": [
    "```\n",
    "#module1.py模块文件\n",
    "def display(arc):\n",
    "    print(arc)\n",
    "#module2.py 模块文件\n",
    "class CLanguage:\n",
    "    def display(self):\n",
    "        print(\"http://c.biancheng.net/python/\")\n",
    " ```"
   ]
  },
  {
   "cell_type": "markdown",
   "metadata": {},
   "source": [
    "文件结构的包:\n",
    "```\n",
    "my_package\n",
    "     ┠── __init__.py\n",
    "     ┠── module1.py\n",
    "     ┗━━  module2.py\n",
    " ```"
   ]
  },
  {
   "cell_type": "markdown",
   "metadata": {},
   "source": [
    "### 包的导入"
   ]
  },
  {
   "cell_type": "markdown",
   "metadata": {},
   "source": [
    "包其实本质上还是模块，因此导入模块的语法同样也适用于导入包。\n",
    "\n",
    "导入方法可归结为以下 3 种：\n",
    "```\n",
    "import 包名[.模块名 [as 别名]]\n",
    "from 包名 import 模块名 [as 别名]\n",
    "from 包名.模块名 import 成员名 [as 别名]\n",
    "```\n",
    "用 [] 括起来的部分，是可选部分，即可以使用，也可以直接忽略。\n",
    "> 注意，导入包的同时，会在包目录下生成一个含有 `__init__.cpython-36.pyc` 文件的 `__pycache__` 文件夹。"
   ]
  },
  {
   "cell_type": "markdown",
   "metadata": {},
   "source": [
    "**1、import 包名[.模块名 [as 别名]]**"
   ]
  },
  {
   "cell_type": "code",
   "execution_count": 6,
   "metadata": {},
   "outputs": [
    {
     "name": "stdout",
     "output_type": "stream",
     "text": [
      "www.baidu.com\n"
     ]
    }
   ],
   "source": [
    "import my_package.module1\n",
    "my_package.module1.display('www.baidu.com')"
   ]
  },
  {
   "cell_type": "markdown",
   "metadata": {},
   "source": [
    "通过此语法格式导入包中的指定模块后，在使用该模块中的成员（变量、函数、类）时，需添加“包名.模块名”为前缀。当然，如果使用 as 给包名.模块名”起一个别名的话，就使用直接使用这个别名作为前缀使用该模块中的方法了"
   ]
  },
  {
   "cell_type": "code",
   "execution_count": 8,
   "metadata": {},
   "outputs": [
    {
     "name": "stdout",
     "output_type": "stream",
     "text": [
      "www.baidu.com\n"
     ]
    }
   ],
   "source": [
    "import my_package.module1 as mymodule\n",
    "mymodule.display('www.baidu.com')"
   ]
  },
  {
   "cell_type": "markdown",
   "metadata": {},
   "source": [
    "**2、from 包名 import 模块名 [as 别名]**"
   ]
  },
  {
   "cell_type": "code",
   "execution_count": 10,
   "metadata": {},
   "outputs": [
    {
     "name": "stdout",
     "output_type": "stream",
     "text": [
      "biubiubiu\n"
     ]
    }
   ],
   "source": [
    "from my_package import module1\n",
    "module1.display('biubiubiu')"
   ]
  },
  {
   "cell_type": "markdown",
   "metadata": {},
   "source": [
    "使用此语法格式导入包中模块后，在使用其成员时不需要带包名前缀，但需要带模块名前缀。"
   ]
  },
  {
   "cell_type": "markdown",
   "metadata": {},
   "source": [
    "**3、from 包名.模块名 import 成员名 [as 别名]** "
   ]
  },
  {
   "cell_type": "markdown",
   "metadata": {},
   "source": [
    "此语法格式用于向程序中导入“包.模块”中的指定成员（变量、函数或类）。通过该方式导入的变量（函数、类），在使用时可以直接使用变量名（函数名、类名）调用。"
   ]
  },
  {
   "cell_type": "code",
   "execution_count": 2,
   "metadata": {},
   "outputs": [
    {
     "name": "stdout",
     "output_type": "stream",
     "text": [
      "biubiubiu\n"
     ]
    }
   ],
   "source": [
    "from my_package.module1 import display\n",
    "display('biubiubiu')"
   ]
  }
 ],
 "metadata": {
  "kernelspec": {
   "display_name": "Python 3",
   "language": "python",
   "name": "python3"
  },
  "language_info": {
   "codemirror_mode": {
    "name": "ipython",
    "version": 3
   },
   "file_extension": ".py",
   "mimetype": "text/x-python",
   "name": "python",
   "nbconvert_exporter": "python",
   "pygments_lexer": "ipython3",
   "version": "3.8.3"
  },
  "toc": {
   "base_numbering": 1,
   "nav_menu": {},
   "number_sections": true,
   "sideBar": true,
   "skip_h1_title": false,
   "title_cell": "01-python模块与包",
   "title_sidebar": "Contents",
   "toc_cell": true,
   "toc_position": {},
   "toc_section_display": true,
   "toc_window_display": true
  }
 },
 "nbformat": 4,
 "nbformat_minor": 4
}
