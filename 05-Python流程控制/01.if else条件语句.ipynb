{
 "cells": [
  {
   "cell_type": "markdown",
   "metadata": {
    "toc": true
   },
   "source": [
    "<h1>01-if else条件语句<span class=\"tocSkip\"></span></h1>\n",
    "<div class=\"toc\"><ul class=\"toc-item\"><li><span><a href=\"#示例一：判断用户是否符合条件\" data-toc-modified-id=\"示例一：判断用户是否符合条件-1\"><span class=\"toc-item-num\">1&nbsp;&nbsp;</span>示例一：判断用户是否符合条件</a></span></li><li><span><a href=\"#示例二：改进上面的代码，年龄不符合时退出程序\" data-toc-modified-id=\"示例二：改进上面的代码，年龄不符合时退出程序-2\"><span class=\"toc-item-num\">2&nbsp;&nbsp;</span>示例二：改进上面的代码，年龄不符合时退出程序</a></span></li><li><span><a href=\"#示例三：判断一个人的身材是否合理\" data-toc-modified-id=\"示例三：判断一个人的身材是否合理-3\"><span class=\"toc-item-num\">3&nbsp;&nbsp;</span>示例三：判断一个人的身材是否合理</a></span></li><li><span><a href=\"#缩进的要求\" data-toc-modified-id=\"缩进的要求-4\"><span class=\"toc-item-num\">4&nbsp;&nbsp;</span>缩进的要求</a></span></li><li><span><a href=\"#if语句嵌套\" data-toc-modified-id=\"if语句嵌套-5\"><span class=\"toc-item-num\">5&nbsp;&nbsp;</span>if语句嵌套</a></span></li><li><span><a href=\"#示例四：判断是否符合当兵条件\" data-toc-modified-id=\"示例四：判断是否符合当兵条件-6\"><span class=\"toc-item-num\">6&nbsp;&nbsp;</span>示例四：判断是否符合当兵条件</a></span></li></ul></div>"
   ]
  },
  {
   "cell_type": "markdown",
   "metadata": {},
   "source": [
    "Python 条件语句是通过一条或多条语句的执行结果（True 或者 False）来决定执行的代码块。\n",
    "\n",
    "Python 中的 if else 语句可以细分为三种形式，分别是 if 语句、if else 语句和 if elif else 语句。"
   ]
  },
  {
   "cell_type": "markdown",
   "metadata": {},
   "source": [
    "**1、if语句**"
   ]
  },
  {
   "cell_type": "markdown",
   "metadata": {},
   "source": [
    "```\n",
    "if 表达式：\n",
    "    代码块\n",
    "```"
   ]
  },
  {
   "cell_type": "markdown",
   "metadata": {},
   "source": [
    "**2、if else语句**"
   ]
  },
  {
   "cell_type": "markdown",
   "metadata": {},
   "source": [
    "```\n",
    "if 表达式：\n",
    "    代码块 1\n",
    "else：\n",
    "    代码块 2\n",
    "```"
   ]
  },
  {
   "cell_type": "markdown",
   "metadata": {},
   "source": [
    "**3、if elif else语句**"
   ]
  },
  {
   "cell_type": "markdown",
   "metadata": {},
   "source": [
    "```\n",
    "if 表达式 1：\n",
    "    代码块 1\n",
    "elif 表达式 2：\n",
    "    代码块 2\n",
    "elif 表达式 3：\n",
    "    代码块 3\n",
    "...\n",
    "else：\n",
    "    代码块 n\n",
    "```"
   ]
  },
  {
   "cell_type": "markdown",
   "metadata": {},
   "source": [
    "**对语法格式的说明：**\n",
    "- elif 和 else 都不能单独使用，必须和 if 一起出现，并且要正确配对。\n",
    "- 表达式”可以是一个单一的值或者变量，也可以是由运算符组成的复杂语句，形式不限，只要它能得到一个值就行。\n",
    "- “代码块”由具由相同缩进量的若干条语句组成。\n",
    "- if、elif、else 语句的最后都有冒号`:`。"
   ]
  },
  {
   "cell_type": "markdown",
   "metadata": {},
   "source": [
    "## 示例一：判断用户是否符合条件"
   ]
  },
  {
   "cell_type": "code",
   "execution_count": 1,
   "metadata": {},
   "outputs": [
    {
     "name": "stdout",
     "output_type": "stream",
     "text": [
      "请输入你的年龄：18\n",
      "请离开此网站！！！\n"
     ]
    }
   ],
   "source": [
    "age = int(input('请输入你的年龄：'))\n",
    "\n",
    "if age<=18:\n",
    "    print('请离开此网站！！！')"
   ]
  },
  {
   "cell_type": "markdown",
   "metadata": {},
   "source": [
    "## 示例二：改进上面的代码，年龄不符合时退出程序"
   ]
  },
  {
   "cell_type": "code",
   "execution_count": 3,
   "metadata": {},
   "outputs": [
    {
     "name": "stdout",
     "output_type": "stream",
     "text": [
      "请输入你的年龄：11\n",
      "请离开此网站！！！\n"
     ]
    },
    {
     "ename": "SystemExit",
     "evalue": "",
     "output_type": "error",
     "traceback": [
      "An exception has occurred, use %tb to see the full traceback.\n",
      "\u001b[1;31mSystemExit\u001b[0m\n"
     ]
    }
   ],
   "source": [
    "import sys\n",
    "\n",
    "age = int(input('请输入你的年龄：'))\n",
    "\n",
    "if age<=18:\n",
    "    print('请离开此网站！！！')\n",
    "    sys.exit()\n",
    "else:\n",
    "    print('请备好纸巾，合理观看影片.')"
   ]
  },
  {
   "cell_type": "markdown",
   "metadata": {},
   "source": [
    "sys 模块的 exit() 函数用于退出程序。"
   ]
  },
  {
   "cell_type": "markdown",
   "metadata": {},
   "source": [
    "## 示例三：判断一个人的身材是否合理"
   ]
  },
  {
   "cell_type": "code",
   "execution_count": 5,
   "metadata": {},
   "outputs": [
    {
     "name": "stdout",
     "output_type": "stream",
     "text": [
      "请出入你的身高（m）：1.7\n",
      "请出入你的体重（kg）：70\n",
      "BMI指数为： 24.221453287197235\n",
      "体重正常\n"
     ]
    }
   ],
   "source": [
    "height = float(input('请出入你的身高（m）：'))\n",
    "weight = float(input('请出入你的体重（kg）：'))\n",
    "\n",
    "bmi = weight / (height * height)  #计算BMI指数\n",
    "\n",
    "if bmi<18.5:\n",
    "    print(\"BMI指数为：\"+str(bmi))\n",
    "    print('体重过轻')\n",
    "elif bmi>=18.5 and bmi<24.9:\n",
    "    print(\"BMI指数为：\",str(bmi))\n",
    "    print('体重正常')\n",
    "elif bmi>=24.9 and bmi<29.9:\n",
    "    print(\"BMI指数为：\",str(bmi))\n",
    "    print('体重过重')\n",
    "else:\n",
    "    print(\"BMI指数为：\",str(bmi))\n",
    "    print('体重肥胖') "
   ]
  },
  {
   "cell_type": "markdown",
   "metadata": {},
   "source": [
    "## 缩进的要求"
   ]
  },
  {
   "cell_type": "markdown",
   "metadata": {},
   "source": [
    "- 不要忘记缩进，if、elif 和 else 后面的代码块一定要缩进，而且缩进量要大于 if、elif 和 else 本身。\n",
    "- 建议缩进 1 个 Tab 键的位置，或者缩进 4 个空格\n",
    "- 同一代码块的所有语句都要缩进，而且缩进量必须相同。"
   ]
  },
  {
   "cell_type": "markdown",
   "metadata": {},
   "source": [
    "## if语句嵌套"
   ]
  },
  {
   "cell_type": "markdown",
   "metadata": {},
   "source": [
    "```\n",
    "if 表示式 1：\n",
    "    if 表达式 2：\n",
    "        代码块 1\n",
    "    else：\n",
    "        代码块 2\n",
    "else：\n",
    "    if 表达式 3：\n",
    "        代码块 3\n",
    "    else：\n",
    "        代码块 4\n",
    " ```"
   ]
  },
  {
   "cell_type": "code",
   "execution_count": 1,
   "metadata": {},
   "outputs": [
    {
     "name": "stdout",
     "output_type": "stream",
     "text": [
      "1\n"
     ]
    }
   ],
   "source": [
    "# if 嵌套for循环\n",
    "nums = [1]\n",
    "if nums:\n",
    "    for num in nums:\n",
    "        print(num)\n",
    "else:\n",
    "    print('nums为空')"
   ]
  },
  {
   "cell_type": "markdown",
   "metadata": {},
   "source": [
    "## 示例四：判断是否符合当兵条件"
   ]
  },
  {
   "cell_type": "code",
   "execution_count": 6,
   "metadata": {},
   "outputs": [
    {
     "name": "stdout",
     "output_type": "stream",
     "text": [
      "输入驾驶员每 100ml 血液酒精的含量：20\n",
      "驾驶员已构成酒驾\n"
     ]
    }
   ],
   "source": [
    "proof = int(input(\"输入驾驶员每 100ml 血液酒精的含量：\"))\n",
    "if proof < 20:\n",
    "    print(\"驾驶员不构成酒驾\")\n",
    "else:\n",
    "    if proof < 80:\n",
    "        print(\"驾驶员已构成酒驾\")\n",
    "    else:\n",
    "        print(\"驾驶员已构成醉驾\")"
   ]
  }
 ],
 "metadata": {
  "kernelspec": {
   "display_name": "Python 3",
   "language": "python",
   "name": "python3"
  },
  "language_info": {
   "codemirror_mode": {
    "name": "ipython",
    "version": 3
   },
   "file_extension": ".py",
   "mimetype": "text/x-python",
   "name": "python",
   "nbconvert_exporter": "python",
   "pygments_lexer": "ipython3",
   "version": "3.8.3"
  },
  "toc": {
   "base_numbering": 1,
   "nav_menu": {},
   "number_sections": true,
   "sideBar": true,
   "skip_h1_title": false,
   "title_cell": "01-if else条件语句",
   "title_sidebar": "Contents",
   "toc_cell": true,
   "toc_position": {},
   "toc_section_display": true,
   "toc_window_display": true
  }
 },
 "nbformat": 4,
 "nbformat_minor": 4
}
