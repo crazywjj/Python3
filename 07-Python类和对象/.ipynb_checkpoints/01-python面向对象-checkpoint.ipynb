{
 "cells": [
  {
   "cell_type": "markdown",
   "metadata": {
    "toc": true
   },
   "source": [
    "<h1>01-python面向对象<span class=\"tocSkip\"></span></h1>\n",
    "<div class=\"toc\"><ul class=\"toc-item\"><li><span><a href=\"#什么是面向对象\" data-toc-modified-id=\"什么是面向对象-1\"><span class=\"toc-item-num\">1&nbsp;&nbsp;</span>什么是面向对象</a></span></li><li><span><a href=\"#Python-class：定义类\" data-toc-modified-id=\"Python-class：定义类-2\"><span class=\"toc-item-num\">2&nbsp;&nbsp;</span>Python class：定义类</a></span><ul class=\"toc-item\"><li><span><a href=\"#Python类的定义\" data-toc-modified-id=\"Python类的定义-2.1\"><span class=\"toc-item-num\">2.1&nbsp;&nbsp;</span>Python类的定义</a></span></li><li><span><a href=\"#Python-init()类构造方法\" data-toc-modified-id=\"Python-init()类构造方法-2.2\"><span class=\"toc-item-num\">2.2&nbsp;&nbsp;</span>Python <strong>init</strong>()类构造方法</a></span></li></ul></li><li><span><a href=\"#Python类对象的创建和使用\" data-toc-modified-id=\"Python类对象的创建和使用-3\"><span class=\"toc-item-num\">3&nbsp;&nbsp;</span>Python类对象的创建和使用</a></span><ul class=\"toc-item\"><li><ul class=\"toc-item\"><li><span><a href=\"#Python类的实例化\" data-toc-modified-id=\"Python类的实例化-3.0.1\"><span class=\"toc-item-num\">3.0.1&nbsp;&nbsp;</span>Python类的实例化</a></span></li><li><span><a href=\"#Python类对象的使用\" data-toc-modified-id=\"Python类对象的使用-3.0.2\"><span class=\"toc-item-num\">3.0.2&nbsp;&nbsp;</span>Python类对象的使用</a></span></li></ul></li></ul></li><li><span><a href=\"#Python-self用法详解\" data-toc-modified-id=\"Python-self用法详解-4\"><span class=\"toc-item-num\">4&nbsp;&nbsp;</span>Python self用法详解</a></span></li><li><span><a href=\"#Python类变量和实例变量（类属性和实例属性）\" data-toc-modified-id=\"Python类变量和实例变量（类属性和实例属性）-5\"><span class=\"toc-item-num\">5&nbsp;&nbsp;</span>Python类变量和实例变量（类属性和实例属性）</a></span><ul class=\"toc-item\"><li><span><a href=\"#类变量（类属性）\" data-toc-modified-id=\"类变量（类属性）-5.1\"><span class=\"toc-item-num\">5.1&nbsp;&nbsp;</span>类变量（类属性）</a></span></li><li><span><a href=\"#实例变量（实例属性）\" data-toc-modified-id=\"实例变量（实例属性）-5.2\"><span class=\"toc-item-num\">5.2&nbsp;&nbsp;</span>实例变量（实例属性）</a></span></li><li><span><a href=\"#局部变量\" data-toc-modified-id=\"局部变量-5.3\"><span class=\"toc-item-num\">5.3&nbsp;&nbsp;</span>局部变量</a></span></li><li><span><a href=\"#Python实例方法、静态方法和类方法详解（包含区别和用法）\" data-toc-modified-id=\"Python实例方法、静态方法和类方法详解（包含区别和用法）-5.4\"><span class=\"toc-item-num\">5.4&nbsp;&nbsp;</span>Python实例方法、静态方法和类方法详解（包含区别和用法）</a></span><ul class=\"toc-item\"><li><span><a href=\"#Python类实例方法\" data-toc-modified-id=\"Python类实例方法-5.4.1\"><span class=\"toc-item-num\">5.4.1&nbsp;&nbsp;</span>Python类实例方法</a></span></li><li><span><a href=\"#Python类方法\" data-toc-modified-id=\"Python类方法-5.4.2\"><span class=\"toc-item-num\">5.4.2&nbsp;&nbsp;</span>Python类方法</a></span></li><li><span><a href=\"#Python类静态方法\" data-toc-modified-id=\"Python类静态方法-5.4.3\"><span class=\"toc-item-num\">5.4.3&nbsp;&nbsp;</span>Python类静态方法</a></span></li></ul></li><li><span><a href=\"#Python类调用实例方法\" data-toc-modified-id=\"Python类调用实例方法-5.5\"><span class=\"toc-item-num\">5.5&nbsp;&nbsp;</span>Python类调用实例方法</a></span></li></ul></li></ul></div>"
   ]
  },
  {
   "cell_type": "markdown",
   "metadata": {},
   "source": [
    "# 什么是面向对象"
   ]
  },
  {
   "cell_type": "markdown",
   "metadata": {},
   "source": [
    "面向对象编程（Object-oriented Programming，简称 OOP），是一种封装代码的方法。其实，在前面章节的学习中，我们已经接触了封装，比如说，将乱七八糟的数据扔进列表中，这就是一种简单的封装，是数据层面的封装；把常用的代码块打包成一个函数，这也是一种封装，是语句层面的封装。"
   ]
  },
  {
   "cell_type": "markdown",
   "metadata": {},
   "source": [
    "`代码封装，其实就是隐藏实现功能的具体代码，仅留给用户使用的接口，就好像使用计算机，用户只需要使用键盘、鼠标就可以实现一些功能，而根本不需要知道其内部是如何工作的。`"
   ]
  },
  {
   "cell_type": "markdown",
   "metadata": {},
   "source": [
    "面向对象编程，也是一种封装的思想，不过显然比以上两种封装更先进，它可以更好地模拟真实世界里的事物（将其视为对象），并把描述特征的数据和代码块（函数）封装到一起。\n"
   ]
  },
  {
   "cell_type": "markdown",
   "metadata": {},
   "source": [
    "若在某游戏中设计一个乌龟的角色，应该如何来实现呢？使用面向对象的思想会更简单，可以分为如下两个方面进行描述：\n",
    "从表面特征来描述，例如，绿色的、有 4 条腿、重 10 kg、有外壳等等。\n",
    "从所具有的的行为来描述，例如，它会爬、会吃东西、会睡觉、会将头和四肢缩到壳里，等等。"
   ]
  },
  {
   "cell_type": "markdown",
   "metadata": {},
   "source": [
    "class tortoise:\n",
    "    bodyColor = \"绿色\"\n",
    "    footNum = 4\n",
    "    weight = 10\n",
    "    hasShell = True\n",
    "    #会爬\n",
    "    def crawl(self):\n",
    "        print(\"乌龟会爬\")\n",
    "    #会吃东西\n",
    "    def eat(self):\n",
    "        print(\"乌龟吃东西\")\n",
    "    #会睡觉\n",
    "    def sleep(self):\n",
    "        print(\"乌龟在睡觉\")\n",
    "    #会缩到壳里\n",
    "    def protect(self):\n",
    "        print(\"乌龟缩进了壳里\")"
   ]
  },
  {
   "cell_type": "markdown",
   "metadata": {},
   "source": [
    "面向对象中，常用术语包括：\n",
    "- 类：可以理解是一个模板，通过它可以创建出无数个具体实例。比如，前面编写的 tortoise 表示的只是乌龟这个物种，通过它可以创建出无数个实例来代表各种不同特征的乌龟（这一过程又称为类的实例化）。\n",
    "- 对象：类并不能直接使用，通过类创建出的实例（又称对象）才能使用。这有点像汽车图纸和汽车的关系，图纸本身（类）并不能为人们使用，通过图纸创建出的一辆辆车（对象）才能使用。\n",
    "- 属性：类中的所有变量称为属性。例如，tortoise 这个类中，bodyColor、footNum、weight、hasShell 都是这个类拥有的属性。\n",
    "- 方法：类中的所有函数通常称为方法。不过，和函数所有不同的是，类方法至少要包含一个 self 参数（后续会做详细介绍）。例如，tortoise 类中，crawl()、eat()、sleep()、protect() 都是这个类所拥有的方法，类方法无法单独使用，只能和类的对象一起使用。"
   ]
  },
  {
   "cell_type": "markdown",
   "metadata": {},
   "source": [
    "# Python class：定义类"
   ]
  },
  {
   "cell_type": "markdown",
   "metadata": {},
   "source": [
    "Python 程序中类的使用顺序是这样的：\n",
    "- 创建（定义）类，也就是制作图纸的过程；\n",
    "- 创建类的实例对象（根据图纸造出实际的物品），通过实例对象实现特定的功能。"
   ]
  },
  {
   "cell_type": "markdown",
   "metadata": {},
   "source": [
    "## Python类的定义"
   ]
  },
  {
   "cell_type": "markdown",
   "metadata": {},
   "source": [
    "Python 中定义一个类使用 class 关键字实现，其基本语法格式如下："
   ]
  },
  {
   "cell_type": "markdown",
   "metadata": {},
   "source": [
    "`class 类名：\n",
    "    多个（≥0）类属性...\n",
    "    多个（≥0）类方法...\n",
    "`"
   ]
  },
  {
   "cell_type": "markdown",
   "metadata": {},
   "source": [
    "注意，无论是类属性还是类方法，对于类来说，它们都不是必需的，可以有也可以没有。另外，Python 类中属性和方法所在的位置是任意的，即它们之间并没有固定的前后次序。"
   ]
  },
  {
   "cell_type": "markdown",
   "metadata": {},
   "source": [
    "## Python __init__()类构造方法"
   ]
  },
  {
   "cell_type": "markdown",
   "metadata": {},
   "source": [
    "在创建类时，我们可以手动添加一个 __init__() 方法，该方法是一个特殊的类实例方法，称为构造方法（或构造函数）。"
   ]
  },
  {
   "cell_type": "markdown",
   "metadata": {},
   "source": [
    "`def __init__(self,...):\n",
    "    代码块`"
   ]
  },
  {
   "cell_type": "markdown",
   "metadata": {},
   "source": [
    "注意，此方法的方法名中，开头和结尾各有 2 个下划线，且中间不能有空格。Python 中很多这种以双下划线开头、双下划线结尾的方法。"
   ]
  },
  {
   "cell_type": "markdown",
   "metadata": {},
   "source": [
    "另外，`__init__() `方法可以包含多个参数，但必须包含一个名为 self 的参数，且必须作为第一个参数。也就是说，类的构造方法最少也要有一个 self 参数。例如，仍以 TheFirstDemo 类为例，添加构造方法的代码如下所示："
   ]
  },
  {
   "cell_type": "code",
   "execution_count": 1,
   "metadata": {},
   "outputs": [],
   "source": [
    "class TheFirstDemo:\n",
    "    '''这是一个学习Python定义的第一个类'''\n",
    "    #构造方法\n",
    "    def __init__(self):\n",
    "        print(\"调用构造方法\")\n",
    "    # 下面定义了一个类属性\n",
    "    add = 'http://c.biancheng.net'\n",
    "    # 下面定义了一个say方法\n",
    "    def say(self, content):\n",
    "        print(content)"
   ]
  },
  {
   "cell_type": "markdown",
   "metadata": {},
   "source": [
    "注意，即便不手动为类添加任何构造方法，Python 也会自动为类添加一个仅包含 self 参数的构造方法。"
   ]
  },
  {
   "cell_type": "markdown",
   "metadata": {},
   "source": [
    "# Python类对象的创建和使用"
   ]
  },
  {
   "cell_type": "markdown",
   "metadata": {},
   "source": [
    "创建类对象的过程，又称为类的实例化。"
   ]
  },
  {
   "cell_type": "markdown",
   "metadata": {},
   "source": [
    "### Python类的实例化"
   ]
  },
  {
   "cell_type": "markdown",
   "metadata": {},
   "source": [
    "语法格式如下："
   ]
  },
  {
   "cell_type": "markdown",
   "metadata": {},
   "source": [
    "类名(参数)"
   ]
  },
  {
   "cell_type": "markdown",
   "metadata": {},
   "source": [
    "定义类时，如果没有手动添加 `__init__() `构造方法，又或者添加的` __init__()` 中仅有一个 self 参数，则创建类对象时的参数可以省略不写。"
   ]
  },
  {
   "cell_type": "markdown",
   "metadata": {},
   "source": [
    "如下代码创建了名为 CLanguage 的类，并对其进行了实例化："
   ]
  },
  {
   "cell_type": "code",
   "execution_count": 2,
   "metadata": {},
   "outputs": [
    {
     "name": "stdout",
     "output_type": "stream",
     "text": [
      "linux爱好者 网址为： http://love.linux.net\n"
     ]
    }
   ],
   "source": [
    "class CLanguage :\n",
    "    # 下面定义了2个类变量\n",
    "    name = \"linxu爱好者\"\n",
    "    add = \"http://love.linux.net\"\n",
    "    def __init__(self,name,add):\n",
    "        #下面定义 2 个实例变量\n",
    "        self.name = name\n",
    "        self.add = add\n",
    "        print(name,\"网址为：\",add)\n",
    "    # 下面定义了一个say实例方法\n",
    "    def say(self, content):\n",
    "        print(content)\n",
    "# 将该CLanguage对象赋给clanguage变量\n",
    "clanguage = CLanguage(\"linux爱好者\",\"http://love.linux.net\")"
   ]
  },
  {
   "cell_type": "markdown",
   "metadata": {},
   "source": [
    "在上面的程序中，由于构造方法除 self 参数外，还包含 2 个参数，且这 2 个参数没有设置默认参数，因此在实例化类对象时，需要传入相应的 name 值和 add 值（self 参数是特殊参数，不需要手动传值，Python 会自动传给它值）。"
   ]
  },
  {
   "cell_type": "markdown",
   "metadata": {},
   "source": [
    "### Python类对象的使用"
   ]
  },
  {
   "cell_type": "markdown",
   "metadata": {},
   "source": [
    "定义的类只有进行实例化，也就是使用该类创建对象之后，才能得到利用。总的来说，实例化后的类对象可以执行以下操作：\n",
    "- 访问或修改类对象具有的实例变量，甚至可以添加新的实例变量或者删除已有的实例变量；\n",
    "- 调用类对象的方法，包括调用现有的方法，以及给类对象动态添加方法。"
   ]
  },
  {
   "cell_type": "markdown",
   "metadata": {},
   "source": [
    "**1、类对象访问变量或方法**"
   ]
  },
  {
   "cell_type": "markdown",
   "metadata": {},
   "source": [
    "使用已创建好的类对象访问类中实例变量的语法格式如下：\n",
    "`类对象名.变量名`\n",
    "\n",
    "使用类对象调用类中方法的语法格式如下：\n",
    "`对象名.方法名(参数)`\n",
    "\n",
    "注意，对象名和变量名以及方法名之间用点 \".\" 连接。"
   ]
  },
  {
   "cell_type": "code",
   "execution_count": 5,
   "metadata": {},
   "outputs": [
    {
     "name": "stdout",
     "output_type": "stream",
     "text": [
      "Python教程 http://c.biancheng.net/python\n",
      "人生苦短，我用Python\n",
      "Python教程 http://love.biancheng.net/python\n"
     ]
    }
   ],
   "source": [
    "#输出name和add实例变量的值\n",
    "print(clanguage.name,clanguage.add)\n",
    "#修改实例变量的值\n",
    "clanguage.name=\"Python教程\"\n",
    "clanguage.add=\"http://love.biancheng.net/python\"\n",
    "#调用clanguage的say()方法\n",
    "clanguage.say(\"人生苦短，我用Python\")\n",
    "#再次输出name和add的值\n",
    "print(clanguage.name,clanguage.add)"
   ]
  },
  {
   "cell_type": "markdown",
   "metadata": {},
   "source": [
    "**2、给类对象动态添加/删除变量**"
   ]
  },
  {
   "cell_type": "code",
   "execution_count": 7,
   "metadata": {},
   "outputs": [
    {
     "name": "stdout",
     "output_type": "stream",
     "text": [
      "159.9\n"
     ]
    }
   ],
   "source": [
    "# 给类对象动态添加/删除变量\n",
    "# 为clanguage对象增加一个money实例变量\n",
    "clanguage.money= 159.9\n",
    "print(clanguage.money)"
   ]
  },
  {
   "cell_type": "markdown",
   "metadata": {},
   "source": [
    "使用 del 语句即可实现动态删除，例如："
   ]
  },
  {
   "cell_type": "code",
   "execution_count": 8,
   "metadata": {},
   "outputs": [
    {
     "ename": "AttributeError",
     "evalue": "'CLanguage' object has no attribute 'money'",
     "output_type": "error",
     "traceback": [
      "\u001b[1;31m---------------------------------------------------------------------------\u001b[0m",
      "\u001b[1;31mAttributeError\u001b[0m                            Traceback (most recent call last)",
      "\u001b[1;32m<ipython-input-8-1646a98fefb1>\u001b[0m in \u001b[0;36m<module>\u001b[1;34m\u001b[0m\n\u001b[0;32m      2\u001b[0m \u001b[1;32mdel\u001b[0m \u001b[0mclanguage\u001b[0m\u001b[1;33m.\u001b[0m\u001b[0mmoney\u001b[0m\u001b[1;33m\u001b[0m\u001b[1;33m\u001b[0m\u001b[0m\n\u001b[0;32m      3\u001b[0m \u001b[1;31m#再次尝试输出 money，此时会报错\u001b[0m\u001b[1;33m\u001b[0m\u001b[1;33m\u001b[0m\u001b[1;33m\u001b[0m\u001b[0m\n\u001b[1;32m----> 4\u001b[1;33m \u001b[0mprint\u001b[0m\u001b[1;33m(\u001b[0m\u001b[0mclanguage\u001b[0m\u001b[1;33m.\u001b[0m\u001b[0mmoney\u001b[0m\u001b[1;33m)\u001b[0m\u001b[1;33m\u001b[0m\u001b[1;33m\u001b[0m\u001b[0m\n\u001b[0m",
      "\u001b[1;31mAttributeError\u001b[0m: 'CLanguage' object has no attribute 'money'"
     ]
    }
   ],
   "source": [
    "#删除新添加的 money 实例变量\n",
    "del clanguage.money\n",
    "#再次尝试输出 money，此时会报错\n",
    "print(clanguage.money)"
   ]
  },
  {
   "cell_type": "markdown",
   "metadata": {},
   "source": [
    "**3、给类对象动态添加方法**"
   ]
  },
  {
   "cell_type": "markdown",
   "metadata": {},
   "source": [
    "Python 也允许为对象动态增加方法。以本节开头的 Clanguage 类为例，由于其内部只包含一个 say() 方法，因此该类实例化出的 clanguage 对象也只包含一个 say() 方法。但其实，我们还可以为 clanguage 对象动态添加其它方法。\n"
   ]
  },
  {
   "cell_type": "markdown",
   "metadata": {},
   "source": [
    "需要注意的一点是，为 clanguage 对象动态增加的方法，Python 不会自动将调用者自动绑定到第一个参数（即使将第一个参数命名为 self 也没用）。例如如下代码："
   ]
  },
  {
   "cell_type": "code",
   "execution_count": 9,
   "metadata": {},
   "outputs": [
    {
     "name": "stdout",
     "output_type": "stream",
     "text": [
      "---info函数--- <__main__.CLanguage object at 0x05BB9118>\n",
      "--lambda表达式-- <__main__.CLanguage object at 0x05BB9118>\n"
     ]
    }
   ],
   "source": [
    "# 先定义一个函数\n",
    "def info(self):\n",
    "    print(\"---info函数---\", self)\n",
    "# 使用info对clanguage的foo方法赋值（动态绑定方法）\n",
    "clanguage.foo = info\n",
    "# Python不会自动将调用者绑定到第一个参数，\n",
    "# 因此程序需要手动将调用者绑定为第一个参数\n",
    "clanguage.foo(clanguage)  # ①\n",
    "# 使用lambda表达式为clanguage对象的bar方法赋值（动态绑定方法）\n",
    "clanguage.bar = lambda self: print('--lambda表达式--', self)\n",
    "clanguage.bar(clanguage) # ②"
   ]
  },
  {
   "cell_type": "markdown",
   "metadata": {},
   "source": [
    "# Python self用法详解 "
   ]
  },
  {
   "cell_type": "markdown",
   "metadata": {},
   "source": [
    "在定义类的过程中，无论是显式创建类的构造方法，还是向类中添加实例方法，都要求将 self 参数作为方法的第一个参数。例如，定义一个 Person 类："
   ]
  },
  {
   "cell_type": "code",
   "execution_count": 11,
   "metadata": {},
   "outputs": [],
   "source": [
    "class Person:\n",
    "    def __init__(self):\n",
    "        print(\"正在执行构造方法\")\n",
    "    # 定义一个study()实例方法\n",
    "    def study(self,name):\n",
    "        print(name,\"正在学Python\")"
   ]
  },
  {
   "cell_type": "markdown",
   "metadata": {},
   "source": [
    "Python 只是规定，无论是构造方法还是实例方法，最少要包含一个参数，并没有规定该参数的具体名称。之所以将其命名为 self，只是程序员之间约定俗成的一种习惯，遵守这个约定，可以使我们编写的代码具有更好的可读性（大家一看到 self，就知道它的作用）。\n",
    "\n",
    "那么，self 参数的具体作用是什么呢？打个比方，如果把类比作造房子的图纸，那么类实例化后的对象是真正可以住的房子。根据一张图纸（类），我们可以设计出成千上万的房子（类对象），每个房子长相都是类似的（都有相同的类变量和类方法），但它们都有各自的主人，那么如何对它们进行区分呢？\n",
    "\n",
    "当然是通过 self 参数，它就相当于每个房子的门钥匙，可以保证每个房子的主人仅能进入自己的房子（每个类对象只能调用自己的类变量和类方法）。"
   ]
  },
  {
   "cell_type": "markdown",
   "metadata": {},
   "source": [
    "> 如果你接触过其他面向对象的编程语言（例如 C++），其实 Python 类方法中的 self 参数就相当于 C++ 中的 this 指针。"
   ]
  },
  {
   "cell_type": "markdown",
   "metadata": {},
   "source": [
    "也就是说，同一个类可以产生多个对象，当某个对象调用类方法时，该对象会把自身的引用作为第一个参数自动传给该方法，换句话说，Python 会自动绑定类方法的第一个参数指向调用该方法的对象。如此，Python解释器就能知道到底要操作哪个对象的方法了。"
   ]
  },
  {
   "cell_type": "markdown",
   "metadata": {},
   "source": [
    "因此，程序在调用实例方法和构造方法时，不需要手动为第一个参数传值。例如，更改前面的 Person 类，如下所示："
   ]
  },
  {
   "cell_type": "code",
   "execution_count": 12,
   "metadata": {},
   "outputs": [
    {
     "name": "stdout",
     "output_type": "stream",
     "text": [
      "正在执行构造方法\n",
      "<__main__.Person object at 0x05BB90A0> 正在学Python\n",
      "正在执行构造方法\n",
      "<__main__.Person object at 0x05BB9490> 正在学Python\n"
     ]
    }
   ],
   "source": [
    "class Person:\n",
    "    def __init__(self):\n",
    "        print(\"正在执行构造方法\")\n",
    "    # 定义一个study()实例方法\n",
    "    def study(self):\n",
    "        print(self,\"正在学Python\")\n",
    "zhangsan = Person()\n",
    "zhangsan.study()\n",
    "lisi = Person()\n",
    "lisi.study()"
   ]
  },
  {
   "cell_type": "markdown",
   "metadata": {},
   "source": [
    "另外，对于构造函数中的 self 参数，其代表的是当前正在初始化的类对象。举个例子："
   ]
  },
  {
   "cell_type": "code",
   "execution_count": 13,
   "metadata": {},
   "outputs": [
    {
     "name": "stdout",
     "output_type": "stream",
     "text": [
      "zhangsan\n",
      "lisi\n"
     ]
    }
   ],
   "source": [
    "class Person:\n",
    "    name = \"xxx\"\n",
    "    def __init__(self,name):\n",
    "        self.name=name\n",
    "zhangsan = Person(\"zhangsan\")\n",
    "print(zhangsan.name)\n",
    "lisi = Person(\"lisi\")\n",
    "print(lisi.name)"
   ]
  },
  {
   "cell_type": "markdown",
   "metadata": {},
   "source": [
    "可以看到，zhangsan 在进行初始化时，调用的构造函数中 self 代表的是 zhangsan；而 lisi 在进行初始化时，调用的构造函数中 self 代表的是 lisi。"
   ]
  },
  {
   "cell_type": "markdown",
   "metadata": {},
   "source": [
    "除了类对象可以直接调用类方法，还有一种函数调用的方式，例如："
   ]
  },
  {
   "cell_type": "code",
   "execution_count": 14,
   "metadata": {},
   "outputs": [
    {
     "name": "stdout",
     "output_type": "stream",
     "text": [
      "<__main__.Person object at 0x00A873D0>\n",
      "<__main__.Person object at 0x00A873D0>\n"
     ]
    }
   ],
   "source": [
    "class Person:\n",
    "    def who(self):\n",
    "        print(self)\n",
    "zhangsan = Person()\n",
    "#第一种方式\n",
    "zhangsan.who()\n",
    "#第二种方式\n",
    "who = zhangsan.who\n",
    "who()#通过 who 变量调用zhangsan对象中的 who() 方法"
   ]
  },
  {
   "cell_type": "markdown",
   "metadata": {},
   "source": [
    "无论采用哪种方法，self 所表示的都是实际调用该方法的对象。\n",
    "总之，无论是类中的构造函数还是普通的类方法，实际调用它们的谁，则第一个参数 self 就代表谁。"
   ]
  },
  {
   "cell_type": "markdown",
   "metadata": {},
   "source": [
    "# Python类变量和实例变量（类属性和实例属性）"
   ]
  },
  {
   "cell_type": "markdown",
   "metadata": {},
   "source": [
    "无论是类属性还是类方法，都无法像普通变量或者函数那样，在类的外部直接使用它们"
   ]
  },
  {
   "cell_type": "markdown",
   "metadata": {},
   "source": [
    "在类体中，根据变量定义的位置不同，以及定义的方式不同，类属性又可细分为以下 3 种类型：\n",
    "- 1、类体中、所有函数之外：此范围定义的变量，称为类属性或类变量；\n",
    "- 2、类体中，所有函数内部：以“self.变量名”的方式定义的变量，称为实例属性或实例变量；\n",
    "- 3、类体中，所有函数内部：以“变量名=变量值”的方式定义的变量，称为局部变量。"
   ]
  },
  {
   "cell_type": "markdown",
   "metadata": {},
   "source": [
    "## 类变量（类属性）"
   ]
  },
  {
   "cell_type": "markdown",
   "metadata": {},
   "source": [
    "类变量指的是在类中，但在各个类方法外定义的变量。举个例子："
   ]
  },
  {
   "cell_type": "code",
   "execution_count": 15,
   "metadata": {},
   "outputs": [],
   "source": [
    "class CLanguage :\n",
    "    # 下面定义了2个类变量\n",
    "    name = \"linux\"\n",
    "    add = \"http://love.biancheng.net\"\n",
    "    # 下面定义了一个say实例方法\n",
    "    def say(self, content):\n",
    "        print(content)"
   ]
  },
  {
   "cell_type": "markdown",
   "metadata": {},
   "source": [
    "上面程序中，name 和 add 就属于类变量。"
   ]
  },
  {
   "cell_type": "markdown",
   "metadata": {},
   "source": [
    "> 类变量的特点是，所有类的实例化对象都同时共享类变量，也就是说，类变量在所有实例化对象中是作为公用资源存在的。类方法的调用方式有 2 种，既可以使用类名直接调用，也可以使用类的实例化对象调用。"
   ]
  },
  {
   "cell_type": "markdown",
   "metadata": {},
   "source": [
    "比如，在 CLanguage 类的外部，添加如下代码："
   ]
  },
  {
   "cell_type": "code",
   "execution_count": 16,
   "metadata": {},
   "outputs": [
    {
     "name": "stdout",
     "output_type": "stream",
     "text": [
      "linux\n",
      "http://love.biancheng.net\n",
      "Python教程\n",
      "http://c.biancheng.net/python\n"
     ]
    }
   ],
   "source": [
    "#使用类名直接调用\n",
    "print(CLanguage.name)\n",
    "print(CLanguage.add)\n",
    "#修改类变量的值\n",
    "CLanguage.name = \"Python教程\"\n",
    "CLanguage.add = \"http://c.biancheng.net/python\"\n",
    "print(CLanguage.name)\n",
    "print(CLanguage.add)"
   ]
  },
  {
   "cell_type": "markdown",
   "metadata": {},
   "source": [
    "可以看到，通过类名不仅可以调用类变量，也可以修改它的值。"
   ]
  },
  {
   "cell_type": "markdown",
   "metadata": {},
   "source": [
    "当然，也可以使用类对象来调用所属类中的类变量（此方式不推荐使用，原因后续会讲）。例如，在 CLanguage 类的外部，添加如下代码："
   ]
  },
  {
   "cell_type": "code",
   "execution_count": 17,
   "metadata": {},
   "outputs": [
    {
     "name": "stdout",
     "output_type": "stream",
     "text": [
      "Python教程\n",
      "http://c.biancheng.net/python\n"
     ]
    }
   ],
   "source": [
    "clang = CLanguage()\n",
    "print(clang.name)\n",
    "print(clang.add)"
   ]
  },
  {
   "cell_type": "markdown",
   "metadata": {},
   "source": [
    "## 实例变量（实例属性）"
   ]
  },
  {
   "cell_type": "markdown",
   "metadata": {},
   "source": [
    "实例变量指的是在任意类方法内部，以“self.变量名”的方式定义的变量，其特点是只作用于调用方法的对象。另外，实例变量只能通过对象名访问，无法通过类名访问。"
   ]
  },
  {
   "cell_type": "code",
   "execution_count": 21,
   "metadata": {},
   "outputs": [],
   "source": [
    "class CLanguage :\n",
    "    def __init__(self):\n",
    "        self.name = \"C语言中文网\"\n",
    "        self.add = \"http://a.biancheng.net\"\n",
    "    # 下面定义了一个say实例方法\n",
    "    def say(self):\n",
    "        self.catalog = 13"
   ]
  },
  {
   "cell_type": "markdown",
   "metadata": {},
   "source": [
    "此 CLanguage 类中，name、add 以及 catalog 都是实例变量。其中，由于 `__init__()` 函数在创建类对象时会自动调用，而 say() 方法需要类对象手动调用。因此，CLanguage 类的类对象都会包含 name 和 add 实例变量，而只有调用了 say() 方法的类对象，才包含 catalog 实例变量。"
   ]
  },
  {
   "cell_type": "markdown",
   "metadata": {},
   "source": [
    "例如，在上面代码的基础上，添加如下语句："
   ]
  },
  {
   "cell_type": "code",
   "execution_count": 22,
   "metadata": {},
   "outputs": [
    {
     "name": "stdout",
     "output_type": "stream",
     "text": [
      "C语言中文网\n",
      "http://a.biancheng.net\n",
      "C语言中文网\n",
      "http://a.biancheng.net\n",
      "13\n"
     ]
    }
   ],
   "source": [
    "clang = CLanguage()\n",
    "print(clang.name)\n",
    "print(clang.add)\n",
    "#由于 clang 对象未调用 say() 方法，因此其没有 catalog 变量，下面这行代码会报错\n",
    "#print(clang.catalog)\n",
    "clang2 = CLanguage()\n",
    "print(clang2.name)\n",
    "print(clang2.add)\n",
    "#只有调用 say()，才会拥有 catalog 实例变量\n",
    "clang2.say()\n",
    "print(clang2.catalog)"
   ]
  },
  {
   "cell_type": "markdown",
   "metadata": {},
   "source": [
    "## 局部变量"
   ]
  },
  {
   "cell_type": "markdown",
   "metadata": {},
   "source": [
    "除了实例变量，类方法中还可以定义局部变量。和前者不同，局部变量直接以“变量名=值”的方式进行定义，例如："
   ]
  },
  {
   "cell_type": "code",
   "execution_count": 23,
   "metadata": {},
   "outputs": [
    {
     "name": "stdout",
     "output_type": "stream",
     "text": [
      "优惠后的价格为： 80.0\n"
     ]
    }
   ],
   "source": [
    "class CLanguage :\n",
    "    # 下面定义了一个say实例方法\n",
    "    def count(self,money):\n",
    "        sale = 0.8*money\n",
    "        print(\"优惠后的价格为：\",sale)\n",
    "clang = CLanguage()\n",
    "clang.count(100)"
   ]
  },
  {
   "cell_type": "markdown",
   "metadata": {},
   "source": [
    "通常情况下，定义局部变量是为了所在类方法功能的实现。需要注意的一点是，局部变量只能用于所在函数中，函数执行完成后，局部变量也会被销毁。"
   ]
  },
  {
   "cell_type": "markdown",
   "metadata": {},
   "source": [
    "## Python实例方法、静态方法和类方法详解（包含区别和用法）"
   ]
  },
  {
   "cell_type": "markdown",
   "metadata": {},
   "source": [
    "和类属性一样，类方法也可以进行更细致的划分，具体可分为类方法、实例方法和静态方法。"
   ]
  },
  {
   "cell_type": "markdown",
   "metadata": {},
   "source": [
    "和类属性的分类不同，对于初学者来说，区分这 3 种类方法是非常简单的，即采用 @classmethod 修饰的方法为类方法；采用 @staticmethod 修饰的方法为静态方法；不用任何修改的方法为实例方法。其中 @classmethod 和 @staticmethod 都是函数装饰器"
   ]
  },
  {
   "cell_type": "markdown",
   "metadata": {},
   "source": [
    "### Python类实例方法"
   ]
  },
  {
   "cell_type": "markdown",
   "metadata": {},
   "source": [
    "下面的类中就用到了实例方法："
   ]
  },
  {
   "cell_type": "code",
   "execution_count": 6,
   "metadata": {},
   "outputs": [
    {
     "name": "stdout",
     "output_type": "stream",
     "text": [
      "正在调用 say() 实例方法\n"
     ]
    }
   ],
   "source": [
    "class CLanguage:\n",
    "    #类构造方法，也属于实例方法\n",
    "    def __init__(self):\n",
    "        self.name = \"中文网\"\n",
    "        self.add = \"http://china.biancheng.net\"\n",
    "    # 下面定义了一个say实例方法\n",
    "    def say(self):\n",
    "        print(\"正在调用 say() 实例方法\")\n",
    "\n",
    "#实例方法最大的特点就是，它最少也要包含一个 self 参数，用于绑定调用此方法的实例对象（Python 会自动完成绑定）。实例方法通常会用类对象直接调用，例如：\n",
    "clang = CLanguage()\n",
    "clang.say()"
   ]
  },
  {
   "cell_type": "markdown",
   "metadata": {},
   "source": [
    "当然，Python 也支持使用类名调用实例方法，但此方式需要手动给 self 参数传值。例如："
   ]
  },
  {
   "cell_type": "code",
   "execution_count": 4,
   "metadata": {},
   "outputs": [
    {
     "name": "stdout",
     "output_type": "stream",
     "text": [
      "正在调用 say() 实例方法\n"
     ]
    }
   ],
   "source": [
    "#类名调用实例方法，需手动给 self 参数传值\n",
    "clang = CLanguage()\n",
    "CLanguage.say(clang)"
   ]
  },
  {
   "cell_type": "markdown",
   "metadata": {},
   "source": [
    "### Python类方法"
   ]
  },
  {
   "cell_type": "markdown",
   "metadata": {},
   "source": [
    "Python 类方法和实例方法相似，它最少也要包含一个参数，只不过类方法中通常将其命名为 cls，Python 会自动将类本身绑定给 cls 参数（注意，绑定的不是类对象）。也就是说，我们在调用类方法时，无需显式为 cls 参数传参。"
   ]
  },
  {
   "cell_type": "markdown",
   "metadata": {},
   "source": [
    "和 self 一样，cls 参数的命名也不是规定的（可以随意命名），只是 Python 程序员约定俗称的习惯而已。"
   ]
  },
  {
   "cell_type": "markdown",
   "metadata": {},
   "source": [
    "和实例方法最大的不同在于，类方法需要使用＠classmethod修饰符进行修饰，例如："
   ]
  },
  {
   "cell_type": "code",
   "execution_count": 3,
   "metadata": {},
   "outputs": [],
   "source": [
    "class CLanguage:\n",
    "    #类构造方法，也属于实例方法\n",
    "    def __init__(self):\n",
    "        self.name = \"中文网\"\n",
    "        self.add = \"http://china.biancheng.net\"\n",
    "    #下面定义了一个类方法\n",
    "    @classmethod\n",
    "    def info(cls):\n",
    "        print(\"正在调用类方法\",cls)"
   ]
  },
  {
   "cell_type": "markdown",
   "metadata": {},
   "source": [
    "注意，如果没有 ＠classmethod，则 Python 解释器会将 fly() 方法认定为实例方法，而不是类方法。\n",
    "\n",
    "类方法推荐使用类名直接调用，当然也可以使用实例对象来调用（不推荐）。例如，在上面 CLanguage 类的基础上，在该类外部添加如下代码："
   ]
  },
  {
   "cell_type": "code",
   "execution_count": 4,
   "metadata": {},
   "outputs": [
    {
     "name": "stdout",
     "output_type": "stream",
     "text": [
      "正在调用类方法 <class '__main__.CLanguage'>\n",
      "正在调用类方法 <class '__main__.CLanguage'>\n"
     ]
    }
   ],
   "source": [
    "#使用类名直接调用类方法\n",
    "CLanguage.info()\n",
    "#使用类对象调用类方法\n",
    "clang = CLanguage()\n",
    "clang.info()"
   ]
  },
  {
   "cell_type": "markdown",
   "metadata": {},
   "source": [
    "###  Python类静态方法"
   ]
  },
  {
   "cell_type": "markdown",
   "metadata": {},
   "source": [
    "静态方法，其实就是我们学过的函数，和函数唯一的区别是，静态方法定义在类这个空间（类命名空间）中，而函数则定义在程序所在的空间（全局命名空间）中。"
   ]
  },
  {
   "cell_type": "markdown",
   "metadata": {},
   "source": [
    "静态方法没有类似 self、cls 这样的特殊参数，因此 Python 解释器不会对它包含的参数做任何类或对象的绑定。也正因为如此，类的静态方法中无法调用任何类属性和类方法。"
   ]
  },
  {
   "cell_type": "markdown",
   "metadata": {},
   "source": [
    "静态方法需要使用＠staticmethod修饰，例如："
   ]
  },
  {
   "cell_type": "code",
   "execution_count": 7,
   "metadata": {},
   "outputs": [],
   "source": [
    "class CLanguage:\n",
    "    @staticmethod\n",
    "    def info(name,add):\n",
    "        print(name,add)"
   ]
  },
  {
   "cell_type": "markdown",
   "metadata": {},
   "source": [
    "静态方法的调用，既可以使用类名，也可以使用类对象，例如："
   ]
  },
  {
   "cell_type": "code",
   "execution_count": 9,
   "metadata": {},
   "outputs": [
    {
     "name": "stdout",
     "output_type": "stream",
     "text": [
      "C语言中文网 http://linux.biancheng.net\n",
      "Python教程 http://linux.biancheng.net/python\n"
     ]
    }
   ],
   "source": [
    "#使用类名直接调用静态方法\n",
    "CLanguage.info(\"C语言中文网\",\"http://linux.biancheng.net\")\n",
    "#使用类对象调用静态方法\n",
    "clang = CLanguage()\n",
    "clang.info(\"Python教程\",\"http://linux.biancheng.net/python\")"
   ]
  },
  {
   "cell_type": "markdown",
   "metadata": {},
   "source": [
    "在实际编程中，几乎不会用到类方法和静态方法，因为我们完全可以使用函数代替它们实现想要的功能，但在一些特殊的场景中（例如工厂模式中），使用类方法和静态方法也是很不错的选择。"
   ]
  },
  {
   "cell_type": "markdown",
   "metadata": {},
   "source": [
    "## Python类调用实例方法"
   ]
  },
  {
   "cell_type": "markdown",
   "metadata": {},
   "source": [
    "类方法大体分为 3 类，分别是类方法、实例方法和静态方法，其中实例方法用的是最多的。实例方法的调用方式其实有 2 种，既可以采用类对象调用，也可以直接通过类名调用。"
   ]
  },
  {
   "cell_type": "markdown",
   "metadata": {},
   "source": [
    "我们习惯使用类对象调用类中的实例方法。但如果想用类调用实例方法，不能像如下这样："
   ]
  },
  {
   "cell_type": "code",
   "execution_count": 10,
   "metadata": {},
   "outputs": [
    {
     "ename": "TypeError",
     "evalue": "info() missing 1 required positional argument: 'self'",
     "output_type": "error",
     "traceback": [
      "\u001b[1;31m---------------------------------------------------------------------------\u001b[0m",
      "\u001b[1;31mTypeError\u001b[0m                                 Traceback (most recent call last)",
      "\u001b[1;32m<ipython-input-10-76e36e7408c1>\u001b[0m in \u001b[0;36m<module>\u001b[1;34m\u001b[0m\n\u001b[0;32m      3\u001b[0m         \u001b[0mprint\u001b[0m\u001b[1;33m(\u001b[0m\u001b[1;34m\"我正在学 Python\"\u001b[0m\u001b[1;33m)\u001b[0m\u001b[1;33m\u001b[0m\u001b[1;33m\u001b[0m\u001b[0m\n\u001b[0;32m      4\u001b[0m \u001b[1;31m#通过类名直接调用实例方法\u001b[0m\u001b[1;33m\u001b[0m\u001b[1;33m\u001b[0m\u001b[1;33m\u001b[0m\u001b[0m\n\u001b[1;32m----> 5\u001b[1;33m \u001b[0mCLanguage\u001b[0m\u001b[1;33m.\u001b[0m\u001b[0minfo\u001b[0m\u001b[1;33m(\u001b[0m\u001b[1;33m)\u001b[0m\u001b[1;33m\u001b[0m\u001b[1;33m\u001b[0m\u001b[0m\n\u001b[0m",
      "\u001b[1;31mTypeError\u001b[0m: info() missing 1 required positional argument: 'self'"
     ]
    }
   ],
   "source": [
    "class CLanguage:\n",
    "    def info(self):\n",
    "        print(\"我正在学 Python\")\n",
    "#通过类名直接调用实例方法\n",
    "CLanguage.info()"
   ]
  },
  {
   "cell_type": "markdown",
   "metadata": {},
   "source": [
    "调用 info() 类方式时缺少给 self 参数传参。这意味着，和使用类对象调用实例方法不同，通过类名直接调用实例方法时，Python 并不会自动给 self 参数传值。"
   ]
  },
  {
   "cell_type": "markdown",
   "metadata": {},
   "source": [
    "如果想通过类名直接调用实例方法，就必须手动为 self 参数传值。例如修改上面的代码为："
   ]
  },
  {
   "cell_type": "code",
   "execution_count": 1,
   "metadata": {},
   "outputs": [
    {
     "name": "stdout",
     "output_type": "stream",
     "text": [
      "我正在学 Python\n"
     ]
    }
   ],
   "source": [
    "class CLanguage:\n",
    "    def info(self):\n",
    "        print(\"我正在学 Python\")\n",
    "clang = CLanguage()\n",
    "#通过类名直接调用实例方法\n",
    "CLanguage.info(clang)"
   ]
  },
  {
   "cell_type": "markdown",
   "metadata": {},
   "source": [
    "通过手动将 clang 这个类对象传给了 self 参数，使得程序得以正确执行。实际上，这里调用实例方法的形式完全是等价于 clang.info()。\n"
   ]
  },
  {
   "cell_type": "markdown",
   "metadata": {},
   "source": [
    "上面的报错信息只是让我们手动为 self 参数传值，但并没有规定必须传一个该类的对象，其实完全可以任意传入一个参数，例如："
   ]
  },
  {
   "cell_type": "markdown",
   "metadata": {},
   "source": [
    "class CLanguage:\n",
    "    def info(self):\n",
    "        print(self,\"正在学 Python\")\n",
    "#通过类名直接调用实例方法\n",
    "CLanguage.info(\"zhangsan\")"
   ]
  }
 ],
 "metadata": {
  "kernelspec": {
   "display_name": "Python 3",
   "language": "python",
   "name": "python3"
  },
  "language_info": {
   "codemirror_mode": {
    "name": "ipython",
    "version": 3
   },
   "file_extension": ".py",
   "mimetype": "text/x-python",
   "name": "python",
   "nbconvert_exporter": "python",
   "pygments_lexer": "ipython3",
   "version": "3.8.3"
  },
  "toc": {
   "base_numbering": 1,
   "nav_menu": {},
   "number_sections": true,
   "sideBar": true,
   "skip_h1_title": false,
   "title_cell": "01-python面向对象",
   "title_sidebar": "01-python面向对象",
   "toc_cell": true,
   "toc_position": {},
   "toc_section_display": true,
   "toc_window_display": true
  }
 },
 "nbformat": 4,
 "nbformat_minor": 4
}
